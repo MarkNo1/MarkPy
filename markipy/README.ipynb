{
 "cells": [
  {
   "cell_type": "markdown",
   "metadata": {
    "pycharm": {
     "name": "#%% md\n"
    }
   },
   "source": [
    "# MarkIPy\n",
    "Welcome to the README of *MarkIPy*. I found more explicative use the most advance, easy tools, for the latter this is a **Jupyter Notebook**.\n"
   ]
  },
  {
   "cell_type": "markdown",
   "metadata": {
    "pycharm": {
     "name": "#%% md\n"
    }
   },
   "source": [
    " ##### Jupy from basic"
   ]
  },
  {
   "cell_type": "code",
   "execution_count": 1,
   "metadata": {
    "pycharm": {
     "name": "#%%\n"
    }
   },
   "outputs": [
    {
     "data": {
      "text/html": [
       "<style>.container { width:90% !important; }</style>"
      ],
      "text/plain": [
       "<IPython.core.display.HTML object>"
      ]
     },
     "metadata": {},
     "output_type": "display_data"
    }
   ],
   "source": [
    "from markipy.basic import Jupy\n",
    "Jupy.enlarge_jupyter_Notebook(90)"
   ]
  },
  {
   "cell_type": "markdown",
   "metadata": {
    "pycharm": {
     "name": "#%% md\n"
    }
   },
   "source": [
    " ##### Watcher - from basic"
   ]
  },
  {
   "cell_type": "code",
   "execution_count": 2,
   "metadata": {
    "pycharm": {
     "name": "#%%\n"
    }
   },
   "outputs": [
    {
     "name": "stderr",
     "output_type": "stream",
     "text": [
      "[2020-11-16 21:55:46,111]|3|Watcher DEBU:\tFilesystem observer point to: \u001B[0;1;36m/mark/git/mark/MarkPy/markipy\u001B[0m\n"
     ]
    }
   ],
   "source": [
    "from markipy.basic import Watcher\n",
    "watch= Watcher(console=True)\n",
    "watch.start()"
   ]
  },
  {
   "cell_type": "markdown",
   "metadata": {},
   "source": [
    "## Package\n",
    "___\n",
    "\n",
    "# Basic\n",
    "Basic common python code used multiples time and integrated in the library MarkPy.\n",
    "\n",
    "___\n",
    "## Atom v2:\n",
    "Base class used in all the rest of the classes.\n",
    "* Atom\n",
    "___\n",
    "## Style v:\n",
    "Style class to change color of console text or use emoji.\n",
    "* Style\n",
    "\n",
    "___\n",
    "## Logger (Reworked) :\n",
    "Logger class to emit logs in three ways.\n",
    "\n",
    "* ConsoleLogger\n",
    "* FileLogger\n",
    "* Logger\n",
    "___\n",
    "## Filesystem:\n",
    "\n",
    "* File\n",
    "* Folder\n",
    "\n",
    "__\n",
    "## Rsync:\n",
    "\n",
    "__\n",
    "## Watcher:\n",
    "\n",
    "To-Do:\n",
    "* Implement Avoid Files\n",
    "* Implement TargetFiles multiple\n",
    "\n"
   ]
  },
  {
   "cell_type": "code",
   "execution_count": null,
   "metadata": {
    "pycharm": {
     "name": "#%%\n"
    }
   },
   "outputs": [],
   "source": [
    "from markipy import basic as b\n",
    "\n",
    "record = b.Watcher(\"./\", console=True, log_path=\"./readme-record-started\")\n",
    "record.start()"
   ]
  },
  {
   "cell_type": "markdown",
   "metadata": {},
   "source": []
  },
  {
   "cell_type": "markdown",
   "metadata": {},
   "source": []
  },
  {
   "cell_type": "code",
   "execution_count": null,
   "metadata": {
    "pycharm": {
     "name": "#%%\n"
    }
   },
   "outputs": [],
   "source": [
    "from markipy import basic as b\n",
    "\n",
    "record = b.Watcher(\"./\", console=True, log_path=\"./readme-record-started\")\n",
    "record.start()"
   ]
  },
  {
   "cell_type": "markdown",
   "metadata": {},
   "source": []
  },
  {
   "cell_type": "raw",
   "metadata": {},
   "source": []
  },
  {
   "cell_type": "code",
   "execution_count": null,
   "metadata": {
    "pycharm": {
     "name": "#%%\n"
    }
   },
   "outputs": [],
   "source": []
  }
 ],
 "metadata": {
  "kernelspec": {
   "display_name": "Python 3",
   "language": "python",
   "name": "python3"
  },
  "language_info": {
   "codemirror_mode": {
    "name": "ipython",
    "version": 3
   },
   "file_extension": ".py",
   "mimetype": "text/x-python",
   "name": "python",
   "nbconvert_exporter": "python",
   "pygments_lexer": "ipython3",
   "version": "3.8.6"
  }
 },
 "nbformat": 4,
 "nbformat_minor": 1
}