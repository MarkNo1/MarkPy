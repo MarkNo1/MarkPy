{
 "cells": [
  {
   "cell_type": "markdown",
   "metadata": {
    "pycharm": {
     "name": "#%% md\n"
    }
   },
   "source": [
    "# MarkIPy\n",
    "Welcome to the README of *MarkIPy*. I found more explicative use the most advance, easy tools, for the latter this is a **Jupyter Notebook**.\n"
   ]
  },
  {
   "cell_type": "markdown",
   "metadata": {
    "pycharm": {
     "name": "#%% md\n"
    }
   },
   "source": [
    " ##### Jupy from basic"
   ]
  },
  {
   "cell_type": "code",
   "execution_count": 8,
   "metadata": {
    "pycharm": {
     "name": "#%%\n"
    }
   },
   "outputs": [
    {
     "data": {
      "text/html": [
       "<style>.container { width:90% !important; }</style>"
      ],
      "text/plain": [
       "<IPython.core.display.HTML object>"
      ]
     },
     "metadata": {},
     "output_type": "display_data"
    }
   ],
   "source": [
    "from markipy.basic import Jupy\n",
    "Jupy.enlarge_jupyter_Notebook(90)"
   ]
  },
  {
   "cell_type": "markdown",
   "metadata": {
    "pycharm": {
     "name": "#%% md\n"
    }
   },
   "source": [
    " ##### Watcher - from basic"
   ]
  },
  {
   "cell_type": "code",
   "execution_count": 10,
   "metadata": {
    "pycharm": {
     "name": "#%%\n"
    }
   },
   "outputs": [
    {
     "name": "stderr",
     "output_type": "stream",
     "text": [
      "[2020-11-16 21:28:32,931]|3.5.7.3|Atom>Style>Logger>Watcher DEBU:\tFilesystem observer point to: \u001b[0;1;36m/mark/git/mark/MarkPy/markipy\u001b[0m\n",
      "[2020-11-16 21:29:56,420]|3.5.7.3|Atom>Style>Logger>Watcher DEBU:\tFile created \u001b[0;1;32m./.~README.ipynb\u001b[0m\n",
      "[2020-11-16 21:29:56,421]|3.5.7.3|Atom>Style>Logger>Watcher DEBU:\tFile created \u001b[0;1;32m./.~README.ipynb\u001b[0m\n",
      "[2020-11-16 21:29:56,421]|3.5.7.3|Atom>Style>Logger>Watcher DEBU:\tFile created \u001b[0;1;32m/mark/git/mark/MarkPy/markipy/.~README.ipynb\u001b[0m\n",
      "[2020-11-16 21:29:56,421]|3.5.7.3|Atom>Style>Logger>Watcher DEBU:\tFolder modified \u001b[0;0;33m.\u001b[0m\n",
      "[2020-11-16 21:29:56,421]|3.5.7.3|Atom>Style>Logger>Watcher DEBU:\tFolder modified \u001b[0;0;33m.\u001b[0m\n",
      "[2020-11-16 21:29:56,422]|3.5.7.3|Atom>Style>Logger>Watcher DEBU:\tFile modified \u001b[0;0;33m./.~README.ipynb\u001b[0m\n",
      "[2020-11-16 21:29:56,422]|3.5.7.3|Atom>Style>Logger>Watcher DEBU:\tFolder modified \u001b[0;0;33m/mark/git/mark/MarkPy/markipy\u001b[0m\n",
      "[2020-11-16 21:29:56,422]|3.5.7.3|Atom>Style>Logger>Watcher DEBU:\tFile modified \u001b[0;0;33m./.~README.ipynb\u001b[0m\n",
      "[2020-11-16 21:29:56,422]|3.5.7.3|Atom>Style>Logger>Watcher DEBU:\tFile modified \u001b[0;0;33m./README.ipynb\u001b[0m\n",
      "[2020-11-16 21:29:56,422]|3.5.7.3|Atom>Style>Logger>Watcher DEBU:\tFile modified \u001b[0;0;33m/mark/git/mark/MarkPy/markipy/.~README.ipynb\u001b[0m\n",
      "[2020-11-16 21:29:56,423]|3.5.7.3|Atom>Style>Logger>Watcher DEBU:\tFile modified \u001b[0;0;33m./README.ipynb\u001b[0m\n",
      "[2020-11-16 21:29:56,423]|3.5.7.3|Atom>Style>Logger>Watcher DEBU:\tFile modified \u001b[0;0;33m/mark/git/mark/MarkPy/markipy/README.ipynb\u001b[0m\n",
      "[2020-11-16 21:29:56,424]|3.5.7.3|Atom>Style>Logger>Watcher DEBU:\tFile modified \u001b[0;0;33m./README.ipynb\u001b[0m\n",
      "[2020-11-16 21:29:56,424]|3.5.7.3|Atom>Style>Logger>Watcher DEBU:\tFile modified \u001b[0;0;33m./README.ipynb\u001b[0m\n",
      "[2020-11-16 21:29:56,424]|3.5.7.3|Atom>Style>Logger>Watcher DEBU:\tFile modified \u001b[0;0;33m/mark/git/mark/MarkPy/markipy/README.ipynb\u001b[0m\n",
      "[2020-11-16 21:29:56,424]|3.5.7.3|Atom>Style>Logger>Watcher DEBU:\tFile deleted \u001b[0;1;31m./.~README.ipynb\u001b[0m\n",
      "[2020-11-16 21:29:56,424]|3.5.7.3|Atom>Style>Logger>Watcher DEBU:\tFile deleted \u001b[0;1;31m./.~README.ipynb\u001b[0m\n",
      "[2020-11-16 21:29:56,425]|3.5.7.3|Atom>Style>Logger>Watcher DEBU:\tFile deleted \u001b[0;1;31m/mark/git/mark/MarkPy/markipy/.~README.ipynb\u001b[0m\n",
      "[2020-11-16 21:29:56,425]|3.5.7.3|Atom>Style>Logger>Watcher DEBU:\tFolder modified \u001b[0;0;33m.\u001b[0m\n",
      "[2020-11-16 21:29:56,425]|3.5.7.3|Atom>Style>Logger>Watcher DEBU:\tFolder modified \u001b[0;0;33m/mark/git/mark/MarkPy/markipy\u001b[0m\n",
      "[2020-11-16 21:29:56,425]|3.5.7.3|Atom>Style>Logger>Watcher DEBU:\tFolder modified \u001b[0;0;33m.\u001b[0m\n",
      "[2020-11-16 21:31:56,413]|3.5.7.3|Atom>Style>Logger>Watcher DEBU:\tFile created \u001b[0;1;32m./.~README.ipynb\u001b[0m\n",
      "[2020-11-16 21:31:56,413]|3.5.7.3|Atom>Style>Logger>Watcher DEBU:\tFile created \u001b[0;1;32m./.~README.ipynb\u001b[0m\n",
      "[2020-11-16 21:31:56,414]|3.5.7.3|Atom>Style>Logger>Watcher DEBU:\tFile created \u001b[0;1;32m/mark/git/mark/MarkPy/markipy/.~README.ipynb\u001b[0m\n",
      "[2020-11-16 21:31:56,414]|3.5.7.3|Atom>Style>Logger>Watcher DEBU:\tFolder modified \u001b[0;0;33m.\u001b[0m\n",
      "[2020-11-16 21:31:56,414]|3.5.7.3|Atom>Style>Logger>Watcher DEBU:\tFile modified \u001b[0;0;33m./.~README.ipynb\u001b[0m\n",
      "[2020-11-16 21:31:56,414]|3.5.7.3|Atom>Style>Logger>Watcher DEBU:\tFolder modified \u001b[0;0;33m.\u001b[0m\n",
      "[2020-11-16 21:31:56,415]|3.5.7.3|Atom>Style>Logger>Watcher DEBU:\tFolder modified \u001b[0;0;33m/mark/git/mark/MarkPy/markipy\u001b[0m\n",
      "[2020-11-16 21:31:56,415]|3.5.7.3|Atom>Style>Logger>Watcher DEBU:\tFile modified \u001b[0;0;33m./.~README.ipynb\u001b[0m\n",
      "[2020-11-16 21:31:56,415]|3.5.7.3|Atom>Style>Logger>Watcher DEBU:\tFile modified \u001b[0;0;33m./README.ipynb\u001b[0m\n",
      "[2020-11-16 21:31:56,415]|3.5.7.3|Atom>Style>Logger>Watcher DEBU:\tFile modified \u001b[0;0;33m/mark/git/mark/MarkPy/markipy/.~README.ipynb\u001b[0m\n",
      "[2020-11-16 21:31:56,416]|3.5.7.3|Atom>Style>Logger>Watcher DEBU:\tFile modified \u001b[0;0;33m./README.ipynb\u001b[0m\n",
      "[2020-11-16 21:31:56,416]|3.5.7.3|Atom>Style>Logger>Watcher DEBU:\tFile modified \u001b[0;0;33m/mark/git/mark/MarkPy/markipy/README.ipynb\u001b[0m\n",
      "[2020-11-16 21:31:56,417]|3.5.7.3|Atom>Style>Logger>Watcher DEBU:\tFile modified \u001b[0;0;33m./README.ipynb\u001b[0m\n",
      "[2020-11-16 21:31:56,417]|3.5.7.3|Atom>Style>Logger>Watcher DEBU:\tFile modified \u001b[0;0;33m./README.ipynb\u001b[0m\n",
      "[2020-11-16 21:31:56,417]|3.5.7.3|Atom>Style>Logger>Watcher DEBU:\tFile modified \u001b[0;0;33m/mark/git/mark/MarkPy/markipy/README.ipynb\u001b[0m\n",
      "[2020-11-16 21:31:56,418]|3.5.7.3|Atom>Style>Logger>Watcher DEBU:\tFile deleted \u001b[0;1;31m./.~README.ipynb\u001b[0m\n",
      "[2020-11-16 21:31:56,418]|3.5.7.3|Atom>Style>Logger>Watcher DEBU:\tFile deleted \u001b[0;1;31m/mark/git/mark/MarkPy/markipy/.~README.ipynb\u001b[0m\n",
      "[2020-11-16 21:31:56,418]|3.5.7.3|Atom>Style>Logger>Watcher DEBU:\tFile deleted \u001b[0;1;31m./.~README.ipynb\u001b[0m\n",
      "[2020-11-16 21:31:56,418]|3.5.7.3|Atom>Style>Logger>Watcher DEBU:\tFolder modified \u001b[0;0;33m.\u001b[0m\n",
      "[2020-11-16 21:31:56,418]|3.5.7.3|Atom>Style>Logger>Watcher DEBU:\tFolder modified \u001b[0;0;33m/mark/git/mark/MarkPy/markipy\u001b[0m\n",
      "[2020-11-16 21:31:56,419]|3.5.7.3|Atom>Style>Logger>Watcher DEBU:\tFolder modified \u001b[0;0;33m.\u001b[0m\n",
      "[2020-11-16 21:32:38,164]|3.5.7.3|Atom>Style>Logger>Watcher DEBU:\tFile created \u001b[0;1;32m./README.ipynb~\u001b[0m\n",
      "[2020-11-16 21:32:38,165]|3.5.7.3|Atom>Style>Logger>Watcher DEBU:\tFile created \u001b[0;1;32m/mark/git/mark/MarkPy/markipy/README.ipynb~\u001b[0m\n",
      "[2020-11-16 21:32:38,165]|3.5.7.3|Atom>Style>Logger>Watcher DEBU:\tFile created \u001b[0;1;32m./README.ipynb~\u001b[0m\n",
      "[2020-11-16 21:32:38,165]|3.5.7.3|Atom>Style>Logger>Watcher DEBU:\tFolder modified \u001b[0;0;33m.\u001b[0m\n",
      "[2020-11-16 21:32:38,166]|3.5.7.3|Atom>Style>Logger>Watcher DEBU:\tFolder modified \u001b[0;0;33m/mark/git/mark/MarkPy/markipy\u001b[0m\n",
      "[2020-11-16 21:32:38,166]|3.5.7.3|Atom>Style>Logger>Watcher DEBU:\tFolder modified \u001b[0;0;33m.\u001b[0m\n",
      "[2020-11-16 21:32:38,166]|3.5.7.3|Atom>Style>Logger>Watcher DEBU:\tFile modified \u001b[0;0;33m./README.ipynb~\u001b[0m\n",
      "[2020-11-16 21:32:38,166]|3.5.7.3|Atom>Style>Logger>Watcher DEBU:\tFile modified \u001b[0;0;33m/mark/git/mark/MarkPy/markipy/README.ipynb~\u001b[0m\n",
      "[2020-11-16 21:32:38,166]|3.5.7.3|Atom>Style>Logger>Watcher DEBU:\tFile modified \u001b[0;0;33m./README.ipynb~\u001b[0m\n",
      "[2020-11-16 21:32:38,167]|3.5.7.3|Atom>Style>Logger>Watcher DEBU:\tFile modified \u001b[0;0;33m./README.ipynb\u001b[0m\n",
      "[2020-11-16 21:32:38,167]|3.5.7.3|Atom>Style>Logger>Watcher DEBU:\tFile modified \u001b[0;0;33m./README.ipynb\u001b[0m\n",
      "[2020-11-16 21:32:38,167]|3.5.7.3|Atom>Style>Logger>Watcher DEBU:\tFile modified \u001b[0;0;33m/mark/git/mark/MarkPy/markipy/README.ipynb\u001b[0m\n",
      "[2020-11-16 21:32:38,168]|3.5.7.3|Atom>Style>Logger>Watcher DEBU:\tFile modified \u001b[0;0;33m./README.ipynb\u001b[0m\n",
      "[2020-11-16 21:32:38,168]|3.5.7.3|Atom>Style>Logger>Watcher DEBU:\tFile modified \u001b[0;0;33m/mark/git/mark/MarkPy/markipy/README.ipynb\u001b[0m\n",
      "[2020-11-16 21:32:38,169]|3.5.7.3|Atom>Style>Logger>Watcher DEBU:\tFile modified \u001b[0;0;33m./README.ipynb\u001b[0m\n",
      "[2020-11-16 21:32:38,169]|3.5.7.3|Atom>Style>Logger>Watcher DEBU:\tFile deleted \u001b[0;1;31m/mark/git/mark/MarkPy/markipy/README.ipynb~\u001b[0m\n",
      "[2020-11-16 21:32:38,169]|3.5.7.3|Atom>Style>Logger>Watcher DEBU:\tFile deleted \u001b[0;1;31m./README.ipynb~\u001b[0m\n",
      "[2020-11-16 21:32:38,169]|3.5.7.3|Atom>Style>Logger>Watcher DEBU:\tFolder modified \u001b[0;0;33m/mark/git/mark/MarkPy/markipy\u001b[0m\n",
      "[2020-11-16 21:32:38,169]|3.5.7.3|Atom>Style>Logger>Watcher DEBU:\tFile deleted \u001b[0;1;31m./README.ipynb~\u001b[0m\n",
      "[2020-11-16 21:32:38,170]|3.5.7.3|Atom>Style>Logger>Watcher DEBU:\tFolder modified \u001b[0;0;33m.\u001b[0m\n",
      "[2020-11-16 21:32:38,170]|3.5.7.3|Atom>Style>Logger>Watcher DEBU:\tFolder modified \u001b[0;0;33m.\u001b[0m\n",
      "[2020-11-16 21:32:38,172]|3.5.7.3|Atom>Style>Logger>Watcher DEBU:\tFile created \u001b[0;1;32m./README.ipynb~\u001b[0m\n",
      "[2020-11-16 21:32:38,172]|3.5.7.3|Atom>Style>Logger>Watcher DEBU:\tFile created \u001b[0;1;32m./README.ipynb~\u001b[0m\n",
      "[2020-11-16 21:32:38,172]|3.5.7.3|Atom>Style>Logger>Watcher DEBU:\tFile created \u001b[0;1;32m/mark/git/mark/MarkPy/markipy/README.ipynb~\u001b[0m\n",
      "[2020-11-16 21:32:38,172]|3.5.7.3|Atom>Style>Logger>Watcher DEBU:\tFolder modified \u001b[0;0;33m.\u001b[0m\n",
      "[2020-11-16 21:32:38,172]|3.5.7.3|Atom>Style>Logger>Watcher DEBU:\tFolder modified \u001b[0;0;33m.\u001b[0m\n",
      "[2020-11-16 21:32:38,173]|3.5.7.3|Atom>Style>Logger>Watcher DEBU:\tFile modified \u001b[0;0;33m./README.ipynb~\u001b[0m\n",
      "[2020-11-16 21:32:38,173]|3.5.7.3|Atom>Style>Logger>Watcher DEBU:\tFolder modified \u001b[0;0;33m/mark/git/mark/MarkPy/markipy\u001b[0m\n",
      "[2020-11-16 21:32:38,173]|3.5.7.3|Atom>Style>Logger>Watcher DEBU:\tFile modified \u001b[0;0;33m./README.ipynb~\u001b[0m\n"
     ]
    },
    {
     "name": "stderr",
     "output_type": "stream",
     "text": [
      "[2020-11-16 21:32:38,173]|3.5.7.3|Atom>Style>Logger>Watcher DEBU:\tFile modified \u001b[0;0;33m./README.ipynb\u001b[0m\n",
      "[2020-11-16 21:32:38,173]|3.5.7.3|Atom>Style>Logger>Watcher DEBU:\tFile modified \u001b[0;0;33m/mark/git/mark/MarkPy/markipy/README.ipynb~\u001b[0m\n",
      "[2020-11-16 21:32:38,173]|3.5.7.3|Atom>Style>Logger>Watcher DEBU:\tFile modified \u001b[0;0;33m./README.ipynb\u001b[0m\n",
      "[2020-11-16 21:32:38,174]|3.5.7.3|Atom>Style>Logger>Watcher DEBU:\tFile modified \u001b[0;0;33m/mark/git/mark/MarkPy/markipy/README.ipynb\u001b[0m\n",
      "[2020-11-16 21:32:38,174]|3.5.7.3|Atom>Style>Logger>Watcher DEBU:\tFile deleted \u001b[0;1;31m./README.ipynb~\u001b[0m\n",
      "[2020-11-16 21:32:38,174]|3.5.7.3|Atom>Style>Logger>Watcher DEBU:\tFile deleted \u001b[0;1;31m./README.ipynb~\u001b[0m\n",
      "[2020-11-16 21:32:38,174]|3.5.7.3|Atom>Style>Logger>Watcher DEBU:\tFolder modified \u001b[0;0;33m.\u001b[0m\n",
      "[2020-11-16 21:32:38,175]|3.5.7.3|Atom>Style>Logger>Watcher DEBU:\tFile deleted \u001b[0;1;31m/mark/git/mark/MarkPy/markipy/README.ipynb~\u001b[0m\n",
      "[2020-11-16 21:32:38,175]|3.5.7.3|Atom>Style>Logger>Watcher DEBU:\tFolder modified \u001b[0;0;33m.\u001b[0m\n",
      "[2020-11-16 21:32:38,175]|3.5.7.3|Atom>Style>Logger>Watcher DEBU:\tFolder modified \u001b[0;0;33m/mark/git/mark/MarkPy/markipy\u001b[0m\n",
      "[2020-11-16 21:33:58,167]|3.5.7.3|Atom>Style>Logger>Watcher DEBU:\tFile created \u001b[0;1;32m/mark/git/mark/MarkPy/markipy/.~README.ipynb\u001b[0m\n",
      "[2020-11-16 21:33:58,167]|3.5.7.3|Atom>Style>Logger>Watcher DEBU:\tFile created \u001b[0;1;32m./.~README.ipynb\u001b[0m\n",
      "[2020-11-16 21:33:58,167]|3.5.7.3|Atom>Style>Logger>Watcher DEBU:\tFile created \u001b[0;1;32m./.~README.ipynb\u001b[0m\n",
      "[2020-11-16 21:33:58,168]|3.5.7.3|Atom>Style>Logger>Watcher DEBU:\tFolder modified \u001b[0;0;33m/mark/git/mark/MarkPy/markipy\u001b[0m\n",
      "[2020-11-16 21:33:58,168]|3.5.7.3|Atom>Style>Logger>Watcher DEBU:\tFolder modified \u001b[0;0;33m.\u001b[0m\n",
      "[2020-11-16 21:33:58,169]|3.5.7.3|Atom>Style>Logger>Watcher DEBU:\tFolder modified \u001b[0;0;33m.\u001b[0m\n",
      "[2020-11-16 21:33:58,169]|3.5.7.3|Atom>Style>Logger>Watcher DEBU:\tFile modified \u001b[0;0;33m/mark/git/mark/MarkPy/markipy/.~README.ipynb\u001b[0m\n",
      "[2020-11-16 21:33:58,169]|3.5.7.3|Atom>Style>Logger>Watcher DEBU:\tFile modified \u001b[0;0;33m./.~README.ipynb\u001b[0m\n",
      "[2020-11-16 21:33:58,170]|3.5.7.3|Atom>Style>Logger>Watcher DEBU:\tFile modified \u001b[0;0;33m./README.ipynb\u001b[0m\n",
      "[2020-11-16 21:33:58,170]|3.5.7.3|Atom>Style>Logger>Watcher DEBU:\tFile modified \u001b[0;0;33m./.~README.ipynb\u001b[0m\n",
      "[2020-11-16 21:33:58,170]|3.5.7.3|Atom>Style>Logger>Watcher DEBU:\tFile modified \u001b[0;0;33m/mark/git/mark/MarkPy/markipy/README.ipynb\u001b[0m\n",
      "[2020-11-16 21:33:58,171]|3.5.7.3|Atom>Style>Logger>Watcher DEBU:\tFile modified \u001b[0;0;33m./README.ipynb\u001b[0m\n",
      "[2020-11-16 21:33:58,171]|3.5.7.3|Atom>Style>Logger>Watcher DEBU:\tFile modified \u001b[0;0;33m./README.ipynb\u001b[0m\n",
      "[2020-11-16 21:33:58,171]|3.5.7.3|Atom>Style>Logger>Watcher DEBU:\tFile modified \u001b[0;0;33m/mark/git/mark/MarkPy/markipy/README.ipynb\u001b[0m\n",
      "[2020-11-16 21:33:58,171]|3.5.7.3|Atom>Style>Logger>Watcher DEBU:\tFile modified \u001b[0;0;33m./README.ipynb\u001b[0m\n",
      "[2020-11-16 21:33:58,172]|3.5.7.3|Atom>Style>Logger>Watcher DEBU:\tFile deleted \u001b[0;1;31m/mark/git/mark/MarkPy/markipy/.~README.ipynb\u001b[0m\n",
      "[2020-11-16 21:33:58,172]|3.5.7.3|Atom>Style>Logger>Watcher DEBU:\tFile deleted \u001b[0;1;31m./.~README.ipynb\u001b[0m\n",
      "[2020-11-16 21:33:58,172]|3.5.7.3|Atom>Style>Logger>Watcher DEBU:\tFile deleted \u001b[0;1;31m./.~README.ipynb\u001b[0m\n",
      "[2020-11-16 21:33:58,172]|3.5.7.3|Atom>Style>Logger>Watcher DEBU:\tFolder modified \u001b[0;0;33m/mark/git/mark/MarkPy/markipy\u001b[0m\n",
      "[2020-11-16 21:33:58,172]|3.5.7.3|Atom>Style>Logger>Watcher DEBU:\tFolder modified \u001b[0;0;33m.\u001b[0m\n",
      "[2020-11-16 21:33:58,173]|3.5.7.3|Atom>Style>Logger>Watcher DEBU:\tFolder modified \u001b[0;0;33m.\u001b[0m\n",
      "[2020-11-16 21:34:26,437]|3.5.7.3|Atom>Style>Logger>Watcher DEBU:\tFile created \u001b[0;1;32m/mark/git/mark/MarkPy/markipy/.~README.ipynb\u001b[0m\n",
      "[2020-11-16 21:34:26,437]|3.5.7.3|Atom>Style>Logger>Watcher DEBU:\tFile created \u001b[0;1;32m./.~README.ipynb\u001b[0m\n",
      "[2020-11-16 21:34:26,438]|3.5.7.3|Atom>Style>Logger>Watcher DEBU:\tFile created \u001b[0;1;32m./.~README.ipynb\u001b[0m\n",
      "[2020-11-16 21:34:26,438]|3.5.7.3|Atom>Style>Logger>Watcher DEBU:\tFolder modified \u001b[0;0;33m/mark/git/mark/MarkPy/markipy\u001b[0m\n",
      "[2020-11-16 21:34:26,439]|3.5.7.3|Atom>Style>Logger>Watcher DEBU:\tFolder modified \u001b[0;0;33m.\u001b[0m\n",
      "[2020-11-16 21:34:26,439]|3.5.7.3|Atom>Style>Logger>Watcher DEBU:\tFolder modified \u001b[0;0;33m.\u001b[0m\n",
      "[2020-11-16 21:34:26,439]|3.5.7.3|Atom>Style>Logger>Watcher DEBU:\tFile modified \u001b[0;0;33m/mark/git/mark/MarkPy/markipy/.~README.ipynb\u001b[0m\n",
      "[2020-11-16 21:34:26,439]|3.5.7.3|Atom>Style>Logger>Watcher DEBU:\tFile modified \u001b[0;0;33m./.~README.ipynb\u001b[0m\n",
      "[2020-11-16 21:34:26,439]|3.5.7.3|Atom>Style>Logger>Watcher DEBU:\tFile modified \u001b[0;0;33m/mark/git/mark/MarkPy/markipy/README.ipynb\u001b[0m\n",
      "[2020-11-16 21:34:26,439]|3.5.7.3|Atom>Style>Logger>Watcher DEBU:\tFile modified \u001b[0;0;33m./.~README.ipynb\u001b[0m\n",
      "[2020-11-16 21:34:26,440]|3.5.7.3|Atom>Style>Logger>Watcher DEBU:\tFile modified \u001b[0;0;33m./README.ipynb\u001b[0m\n",
      "[2020-11-16 21:34:26,440]|3.5.7.3|Atom>Style>Logger>Watcher DEBU:\tFile modified \u001b[0;0;33m./README.ipynb\u001b[0m\n",
      "[2020-11-16 21:34:26,441]|3.5.7.3|Atom>Style>Logger>Watcher DEBU:\tFile modified \u001b[0;0;33m./README.ipynb\u001b[0m\n",
      "[2020-11-16 21:34:26,442]|3.5.7.3|Atom>Style>Logger>Watcher DEBU:\tFile modified \u001b[0;0;33m/mark/git/mark/MarkPy/markipy/README.ipynb\u001b[0m\n",
      "[2020-11-16 21:34:26,442]|3.5.7.3|Atom>Style>Logger>Watcher DEBU:\tFile modified \u001b[0;0;33m./README.ipynb\u001b[0m\n",
      "[2020-11-16 21:34:26,442]|3.5.7.3|Atom>Style>Logger>Watcher DEBU:\tFile deleted \u001b[0;1;31m/mark/git/mark/MarkPy/markipy/.~README.ipynb\u001b[0m\n",
      "[2020-11-16 21:34:26,443]|3.5.7.3|Atom>Style>Logger>Watcher DEBU:\tFile deleted \u001b[0;1;31m./.~README.ipynb\u001b[0m\n",
      "[2020-11-16 21:34:26,443]|3.5.7.3|Atom>Style>Logger>Watcher DEBU:\tFile deleted \u001b[0;1;31m./.~README.ipynb\u001b[0m\n",
      "[2020-11-16 21:34:26,443]|3.5.7.3|Atom>Style>Logger>Watcher DEBU:\tFolder modified \u001b[0;0;33m/mark/git/mark/MarkPy/markipy\u001b[0m\n",
      "[2020-11-16 21:34:26,443]|3.5.7.3|Atom>Style>Logger>Watcher DEBU:\tFolder modified \u001b[0;0;33m.\u001b[0m\n",
      "[2020-11-16 21:34:26,443]|3.5.7.3|Atom>Style>Logger>Watcher DEBU:\tFolder modified \u001b[0;0;33m.\u001b[0m\n",
      "[2020-11-16 21:35:56,649]|3.5.7.3|Atom>Style>Logger>Watcher DEBU:\tFile created \u001b[0;1;32m/mark/git/mark/MarkPy/markipy/.~README.ipynb\u001b[0m\n",
      "[2020-11-16 21:35:56,649]|3.5.7.3|Atom>Style>Logger>Watcher DEBU:\tFile created \u001b[0;1;32m./.~README.ipynb\u001b[0m\n",
      "[2020-11-16 21:35:56,650]|3.5.7.3|Atom>Style>Logger>Watcher DEBU:\tFile created \u001b[0;1;32m./.~README.ipynb\u001b[0m\n",
      "[2020-11-16 21:35:56,650]|3.5.7.3|Atom>Style>Logger>Watcher DEBU:\tFolder modified \u001b[0;0;33m/mark/git/mark/MarkPy/markipy\u001b[0m\n",
      "[2020-11-16 21:35:56,650]|3.5.7.3|Atom>Style>Logger>Watcher DEBU:\tFolder modified \u001b[0;0;33m.\u001b[0m\n",
      "[2020-11-16 21:35:56,650]|3.5.7.3|Atom>Style>Logger>Watcher DEBU:\tFolder modified \u001b[0;0;33m.\u001b[0m\n",
      "[2020-11-16 21:35:56,650]|3.5.7.3|Atom>Style>Logger>Watcher DEBU:\tFile modified \u001b[0;0;33m/mark/git/mark/MarkPy/markipy/.~README.ipynb\u001b[0m\n",
      "[2020-11-16 21:35:56,651]|3.5.7.3|Atom>Style>Logger>Watcher DEBU:\tFile modified \u001b[0;0;33m./.~README.ipynb\u001b[0m\n",
      "[2020-11-16 21:35:56,651]|3.5.7.3|Atom>Style>Logger>Watcher DEBU:\tFile modified \u001b[0;0;33m./.~README.ipynb\u001b[0m\n",
      "[2020-11-16 21:35:56,651]|3.5.7.3|Atom>Style>Logger>Watcher DEBU:\tFile modified \u001b[0;0;33m/mark/git/mark/MarkPy/markipy/README.ipynb\u001b[0m\n",
      "[2020-11-16 21:35:56,651]|3.5.7.3|Atom>Style>Logger>Watcher DEBU:\tFile modified \u001b[0;0;33m./README.ipynb\u001b[0m\n",
      "[2020-11-16 21:35:56,651]|3.5.7.3|Atom>Style>Logger>Watcher DEBU:\tFile modified \u001b[0;0;33m./README.ipynb\u001b[0m\n",
      "[2020-11-16 21:35:56,652]|3.5.7.3|Atom>Style>Logger>Watcher DEBU:\tFile modified \u001b[0;0;33m./README.ipynb\u001b[0m\n",
      "[2020-11-16 21:35:56,652]|3.5.7.3|Atom>Style>Logger>Watcher DEBU:\tFile modified \u001b[0;0;33m./README.ipynb\u001b[0m\n",
      "[2020-11-16 21:35:56,653]|3.5.7.3|Atom>Style>Logger>Watcher DEBU:\tFile modified \u001b[0;0;33m/mark/git/mark/MarkPy/markipy/README.ipynb\u001b[0m\n",
      "[2020-11-16 21:35:56,653]|3.5.7.3|Atom>Style>Logger>Watcher DEBU:\tFile deleted \u001b[0;1;31m./.~README.ipynb\u001b[0m\n",
      "[2020-11-16 21:35:56,653]|3.5.7.3|Atom>Style>Logger>Watcher DEBU:\tFile deleted \u001b[0;1;31m/mark/git/mark/MarkPy/markipy/.~README.ipynb\u001b[0m\n",
      "[2020-11-16 21:35:56,653]|3.5.7.3|Atom>Style>Logger>Watcher DEBU:\tFile deleted \u001b[0;1;31m./.~README.ipynb\u001b[0m\n",
      "[2020-11-16 21:35:56,654]|3.5.7.3|Atom>Style>Logger>Watcher DEBU:\tFolder modified \u001b[0;0;33m.\u001b[0m\n",
      "[2020-11-16 21:35:56,654]|3.5.7.3|Atom>Style>Logger>Watcher DEBU:\tFolder modified \u001b[0;0;33m.\u001b[0m\n"
     ]
    },
    {
     "name": "stderr",
     "output_type": "stream",
     "text": [
      "[2020-11-16 21:35:56,654]|3.5.7.3|Atom>Style>Logger>Watcher DEBU:\tFolder modified \u001b[0;0;33m/mark/git/mark/MarkPy/markipy\u001b[0m\n",
      "[2020-11-16 21:37:56,421]|3.5.7.3|Atom>Style>Logger>Watcher DEBU:\tFile created \u001b[0;1;32m./.~README.ipynb\u001b[0m\n",
      "[2020-11-16 21:37:56,421]|3.5.7.3|Atom>Style>Logger>Watcher DEBU:\tFile created \u001b[0;1;32m./.~README.ipynb\u001b[0m\n",
      "[2020-11-16 21:37:56,421]|3.5.7.3|Atom>Style>Logger>Watcher DEBU:\tFile created \u001b[0;1;32m/mark/git/mark/MarkPy/markipy/.~README.ipynb\u001b[0m\n",
      "[2020-11-16 21:37:56,422]|3.5.7.3|Atom>Style>Logger>Watcher DEBU:\tFolder modified \u001b[0;0;33m.\u001b[0m\n",
      "[2020-11-16 21:37:56,422]|3.5.7.3|Atom>Style>Logger>Watcher DEBU:\tFolder modified \u001b[0;0;33m.\u001b[0m\n",
      "[2020-11-16 21:37:56,422]|3.5.7.3|Atom>Style>Logger>Watcher DEBU:\tFile modified \u001b[0;0;33m./.~README.ipynb\u001b[0m\n",
      "[2020-11-16 21:37:56,422]|3.5.7.3|Atom>Style>Logger>Watcher DEBU:\tFile modified \u001b[0;0;33m./.~README.ipynb\u001b[0m\n",
      "[2020-11-16 21:37:56,422]|3.5.7.3|Atom>Style>Logger>Watcher DEBU:\tFolder modified \u001b[0;0;33m/mark/git/mark/MarkPy/markipy\u001b[0m\n",
      "[2020-11-16 21:37:56,423]|3.5.7.3|Atom>Style>Logger>Watcher DEBU:\tFile modified \u001b[0;0;33m./README.ipynb\u001b[0m\n",
      "[2020-11-16 21:37:56,423]|3.5.7.3|Atom>Style>Logger>Watcher DEBU:\tFile modified \u001b[0;0;33m./README.ipynb\u001b[0m\n",
      "[2020-11-16 21:37:56,423]|3.5.7.3|Atom>Style>Logger>Watcher DEBU:\tFile modified \u001b[0;0;33m/mark/git/mark/MarkPy/markipy/.~README.ipynb\u001b[0m\n",
      "[2020-11-16 21:37:56,424]|3.5.7.3|Atom>Style>Logger>Watcher DEBU:\tFile modified \u001b[0;0;33m/mark/git/mark/MarkPy/markipy/README.ipynb\u001b[0m\n",
      "[2020-11-16 21:37:56,425]|3.5.7.3|Atom>Style>Logger>Watcher DEBU:\tFile modified \u001b[0;0;33m/mark/git/mark/MarkPy/markipy/README.ipynb\u001b[0m\n",
      "[2020-11-16 21:37:56,425]|3.5.7.3|Atom>Style>Logger>Watcher DEBU:\tFile modified \u001b[0;0;33m./README.ipynb\u001b[0m\n",
      "[2020-11-16 21:37:56,425]|3.5.7.3|Atom>Style>Logger>Watcher DEBU:\tFile modified \u001b[0;0;33m./README.ipynb\u001b[0m\n",
      "[2020-11-16 21:37:56,426]|3.5.7.3|Atom>Style>Logger>Watcher DEBU:\tFile deleted \u001b[0;1;31m/mark/git/mark/MarkPy/markipy/.~README.ipynb\u001b[0m\n",
      "[2020-11-16 21:37:56,426]|3.5.7.3|Atom>Style>Logger>Watcher DEBU:\tFile deleted \u001b[0;1;31m./.~README.ipynb\u001b[0m\n",
      "[2020-11-16 21:37:56,426]|3.5.7.3|Atom>Style>Logger>Watcher DEBU:\tFile modified \u001b[0;0;33m./README.ipynb\u001b[0m\n",
      "[2020-11-16 21:37:56,426]|3.5.7.3|Atom>Style>Logger>Watcher DEBU:\tFolder modified \u001b[0;0;33m/mark/git/mark/MarkPy/markipy\u001b[0m\n",
      "[2020-11-16 21:37:56,427]|3.5.7.3|Atom>Style>Logger>Watcher DEBU:\tFile deleted \u001b[0;1;31m./.~README.ipynb\u001b[0m\n",
      "[2020-11-16 21:37:56,427]|3.5.7.3|Atom>Style>Logger>Watcher DEBU:\tFolder modified \u001b[0;0;33m.\u001b[0m\n",
      "[2020-11-16 21:37:56,427]|3.5.7.3|Atom>Style>Logger>Watcher DEBU:\tFolder modified \u001b[0;0;33m.\u001b[0m\n",
      "[2020-11-16 21:39:56,414]|3.5.7.3|Atom>Style>Logger>Watcher DEBU:\tFile created \u001b[0;1;32m/mark/git/mark/MarkPy/markipy/.~README.ipynb\u001b[0m\n",
      "[2020-11-16 21:39:56,415]|3.5.7.3|Atom>Style>Logger>Watcher DEBU:\tFile created \u001b[0;1;32m./.~README.ipynb\u001b[0m\n",
      "[2020-11-16 21:39:56,415]|3.5.7.3|Atom>Style>Logger>Watcher DEBU:\tFile created \u001b[0;1;32m./.~README.ipynb\u001b[0m\n",
      "[2020-11-16 21:39:56,415]|3.5.7.3|Atom>Style>Logger>Watcher DEBU:\tFolder modified \u001b[0;0;33m.\u001b[0m\n",
      "[2020-11-16 21:39:56,416]|3.5.7.3|Atom>Style>Logger>Watcher DEBU:\tFolder modified \u001b[0;0;33m.\u001b[0m\n",
      "[2020-11-16 21:39:56,416]|3.5.7.3|Atom>Style>Logger>Watcher DEBU:\tFolder modified \u001b[0;0;33m/mark/git/mark/MarkPy/markipy\u001b[0m\n",
      "[2020-11-16 21:39:56,416]|3.5.7.3|Atom>Style>Logger>Watcher DEBU:\tFile modified \u001b[0;0;33m./.~README.ipynb\u001b[0m\n",
      "[2020-11-16 21:39:56,416]|3.5.7.3|Atom>Style>Logger>Watcher DEBU:\tFile modified \u001b[0;0;33m./.~README.ipynb\u001b[0m\n",
      "[2020-11-16 21:39:56,417]|3.5.7.3|Atom>Style>Logger>Watcher DEBU:\tFile modified \u001b[0;0;33m/mark/git/mark/MarkPy/markipy/.~README.ipynb\u001b[0m\n",
      "[2020-11-16 21:39:56,417]|3.5.7.3|Atom>Style>Logger>Watcher DEBU:\tFile modified \u001b[0;0;33m./README.ipynb\u001b[0m\n",
      "[2020-11-16 21:39:56,417]|3.5.7.3|Atom>Style>Logger>Watcher DEBU:\tFile modified \u001b[0;0;33m./README.ipynb\u001b[0m\n",
      "[2020-11-16 21:39:56,417]|3.5.7.3|Atom>Style>Logger>Watcher DEBU:\tFile modified \u001b[0;0;33m/mark/git/mark/MarkPy/markipy/README.ipynb\u001b[0m\n",
      "[2020-11-16 21:39:56,419]|3.5.7.3|Atom>Style>Logger>Watcher DEBU:\tFile modified \u001b[0;0;33m./README.ipynb\u001b[0m\n",
      "[2020-11-16 21:39:56,419]|3.5.7.3|Atom>Style>Logger>Watcher DEBU:\tFile modified \u001b[0;0;33m./README.ipynb\u001b[0m\n",
      "[2020-11-16 21:39:56,420]|3.5.7.3|Atom>Style>Logger>Watcher DEBU:\tFile modified \u001b[0;0;33m/mark/git/mark/MarkPy/markipy/README.ipynb\u001b[0m\n",
      "[2020-11-16 21:39:56,420]|3.5.7.3|Atom>Style>Logger>Watcher DEBU:\tFile deleted \u001b[0;1;31m./.~README.ipynb\u001b[0m\n",
      "[2020-11-16 21:39:56,420]|3.5.7.3|Atom>Style>Logger>Watcher DEBU:\tFile modified \u001b[0;0;33m./README.ipynb\u001b[0m\n",
      "[2020-11-16 21:39:56,421]|3.5.7.3|Atom>Style>Logger>Watcher DEBU:\tFolder modified \u001b[0;0;33m.\u001b[0m\n",
      "[2020-11-16 21:39:56,421]|3.5.7.3|Atom>Style>Logger>Watcher DEBU:\tFile deleted \u001b[0;1;31m/mark/git/mark/MarkPy/markipy/.~README.ipynb\u001b[0m\n",
      "[2020-11-16 21:39:56,421]|3.5.7.3|Atom>Style>Logger>Watcher DEBU:\tFile deleted \u001b[0;1;31m./.~README.ipynb\u001b[0m\n",
      "[2020-11-16 21:39:56,421]|3.5.7.3|Atom>Style>Logger>Watcher DEBU:\tFolder modified \u001b[0;0;33m/mark/git/mark/MarkPy/markipy\u001b[0m\n",
      "[2020-11-16 21:39:56,421]|3.5.7.3|Atom>Style>Logger>Watcher DEBU:\tFolder modified \u001b[0;0;33m.\u001b[0m\n",
      "[2020-11-16 21:41:56,416]|3.5.7.3|Atom>Style>Logger>Watcher DEBU:\tFile created \u001b[0;1;32m/mark/git/mark/MarkPy/markipy/.~README.ipynb\u001b[0m\n",
      "[2020-11-16 21:41:56,416]|3.5.7.3|Atom>Style>Logger>Watcher DEBU:\tFile created \u001b[0;1;32m./.~README.ipynb\u001b[0m\n",
      "[2020-11-16 21:41:56,416]|3.5.7.3|Atom>Style>Logger>Watcher DEBU:\tFile created \u001b[0;1;32m./.~README.ipynb\u001b[0m\n",
      "[2020-11-16 21:41:56,417]|3.5.7.3|Atom>Style>Logger>Watcher DEBU:\tFolder modified \u001b[0;0;33m/mark/git/mark/MarkPy/markipy\u001b[0m\n",
      "[2020-11-16 21:41:56,417]|3.5.7.3|Atom>Style>Logger>Watcher DEBU:\tFile modified \u001b[0;0;33m/mark/git/mark/MarkPy/markipy/.~README.ipynb\u001b[0m\n",
      "[2020-11-16 21:41:56,417]|3.5.7.3|Atom>Style>Logger>Watcher DEBU:\tFolder modified \u001b[0;0;33m.\u001b[0m\n",
      "[2020-11-16 21:41:56,417]|3.5.7.3|Atom>Style>Logger>Watcher DEBU:\tFolder modified \u001b[0;0;33m.\u001b[0m\n",
      "[2020-11-16 21:41:56,418]|3.5.7.3|Atom>Style>Logger>Watcher DEBU:\tFile modified \u001b[0;0;33m./.~README.ipynb\u001b[0m\n",
      "[2020-11-16 21:41:56,418]|3.5.7.3|Atom>Style>Logger>Watcher DEBU:\tFile modified \u001b[0;0;33m/mark/git/mark/MarkPy/markipy/README.ipynb\u001b[0m\n",
      "[2020-11-16 21:41:56,418]|3.5.7.3|Atom>Style>Logger>Watcher DEBU:\tFile modified \u001b[0;0;33m./.~README.ipynb\u001b[0m\n",
      "[2020-11-16 21:41:56,418]|3.5.7.3|Atom>Style>Logger>Watcher DEBU:\tFile modified \u001b[0;0;33m./README.ipynb\u001b[0m\n",
      "[2020-11-16 21:41:56,419]|3.5.7.3|Atom>Style>Logger>Watcher DEBU:\tFile modified \u001b[0;0;33m./README.ipynb\u001b[0m\n",
      "[2020-11-16 21:41:56,420]|3.5.7.3|Atom>Style>Logger>Watcher DEBU:\tFile modified \u001b[0;0;33m./README.ipynb\u001b[0m\n",
      "[2020-11-16 21:41:56,420]|3.5.7.3|Atom>Style>Logger>Watcher DEBU:\tFile modified \u001b[0;0;33m./README.ipynb\u001b[0m\n",
      "[2020-11-16 21:41:56,421]|3.5.7.3|Atom>Style>Logger>Watcher DEBU:\tFile modified \u001b[0;0;33m/mark/git/mark/MarkPy/markipy/README.ipynb\u001b[0m\n",
      "[2020-11-16 21:41:56,421]|3.5.7.3|Atom>Style>Logger>Watcher DEBU:\tFile deleted \u001b[0;1;31m./.~README.ipynb\u001b[0m\n",
      "[2020-11-16 21:41:56,421]|3.5.7.3|Atom>Style>Logger>Watcher DEBU:\tFile deleted \u001b[0;1;31m./.~README.ipynb\u001b[0m\n",
      "[2020-11-16 21:41:56,422]|3.5.7.3|Atom>Style>Logger>Watcher DEBU:\tFile deleted \u001b[0;1;31m/mark/git/mark/MarkPy/markipy/.~README.ipynb\u001b[0m\n",
      "[2020-11-16 21:41:56,422]|3.5.7.3|Atom>Style>Logger>Watcher DEBU:\tFolder modified \u001b[0;0;33m.\u001b[0m\n",
      "[2020-11-16 21:41:56,422]|3.5.7.3|Atom>Style>Logger>Watcher DEBU:\tFolder modified \u001b[0;0;33m.\u001b[0m\n",
      "[2020-11-16 21:41:56,422]|3.5.7.3|Atom>Style>Logger>Watcher DEBU:\tFolder modified \u001b[0;0;33m/mark/git/mark/MarkPy/markipy\u001b[0m\n"
     ]
    }
   ],
   "source": [
    "from markipy.basic import Watcher\n",
    "watch= Watcher(console=True)\n",
    "watch.start()"
   ]
  },
  {
   "cell_type": "markdown",
   "metadata": {},
   "source": [
    "# Package\n",
    "\n",
    "\n",
    "## Atom:\n",
    "Base class used in all the rest of the classes.\n",
    "* Atom\n",
    "___\n",
    "## Style v:\n",
    "Style class to change color of console text or use emoji.\n",
    "* Style\n",
    "\n",
    "\n",
    "## Filesystem:\n",
    "\n",
    "* File\n",
    "* Folder\n",
    "\n",
    "__\n",
    "## Rsync:\n"
   ]
  },
  {
   "cell_type": "markdown",
   "metadata": {},
   "source": [
    "# Basic\n",
    "\n",
    "Basic common python code used multiples time and integrated in the library MarkPy.\n",
    "\n",
    "\n",
    "To-Do:\n",
    "- [ ]  Jupy - Implement Python Code Structure Util\n"
   ]
  },
  {
   "cell_type": "markdown",
   "metadata": {},
   "source": [
    "## Logger (Reworked) :\n",
    "\n",
    "Logger class to emit logs in three ways.\n",
    "\n",
    "* ConsoleLogger\n",
    "* FileLogger\n",
    "* Logger\n",
    "\n",
    "To-Do:\n",
    "- [ ]  Format Logger with: {@atom.@version} \n"
   ]
  },
  {
   "cell_type": "markdown",
   "metadata": {},
   "source": [
    "## Watcher:\n",
    "\n",
    "To-Do:\n",
    "* Implement Avoid Files\n",
    "* Implement TargetFiles multiple\n",
    "\n"
   ]
  },
  {
   "cell_type": "code",
   "execution_count": null,
   "metadata": {
    "pycharm": {
     "name": "#%%\n"
    }
   },
   "outputs": [],
   "source": [
    "from markipy import basic as b\n",
    "\n",
    "record = b.Watcher(\"./\", console=True, log_path=\"./readme-record-started\")\n",
    "record.start()"
   ]
  },
  {
   "cell_type": "markdown",
   "metadata": {},
   "source": []
  },
  {
   "cell_type": "markdown",
   "metadata": {},
   "source": []
  },
  {
   "cell_type": "code",
   "execution_count": null,
   "metadata": {
    "pycharm": {
     "name": "#%%\n"
    }
   },
   "outputs": [],
   "source": [
    "from markipy import basic as b\n",
    "\n",
    "record = b.Watcher(\"./\", console=True, log_path=\"./readme-record-started\")\n",
    "record.start()"
   ]
  },
  {
   "cell_type": "markdown",
   "metadata": {},
   "source": []
  },
  {
   "cell_type": "raw",
   "metadata": {},
   "source": []
  },
  {
   "cell_type": "code",
   "execution_count": null,
   "metadata": {
    "pycharm": {
     "name": "#%%\n"
    }
   },
   "outputs": [],
   "source": []
  }
 ],
 "metadata": {
  "kernelspec": {
   "display_name": "Python 3",
   "language": "python",
   "name": "python3"
  },
  "language_info": {
   "codemirror_mode": {
    "name": "ipython",
    "version": 3
   },
   "file_extension": ".py",
   "mimetype": "text/x-python",
   "name": "python",
   "nbconvert_exporter": "python",
   "pygments_lexer": "ipython3",
   "version": "3.8.6"
  }
 },
 "nbformat": 4,
 "nbformat_minor": 1
}
