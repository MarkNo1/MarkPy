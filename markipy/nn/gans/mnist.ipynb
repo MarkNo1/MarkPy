{
 "cells": [
  {
   "cell_type": "markdown",
   "metadata": {},
   "source": [
    "##### Expand View\n"
   ]
  },
  {
   "cell_type": "code",
   "execution_count": 1,
   "metadata": {},
   "outputs": [
    {
     "output_type": "display_data",
     "data": {
      "text/plain": "<IPython.core.display.HTML object>",
      "text/html": "<style>.container { width:88% !important; }</style>"
     },
     "metadata": {}
    }
   ],
   "source": [
    "from IPython.core.display import display, HTML\n",
    "display(HTML(\"<style>.container { width:88% !important; }</style>\"))"
   ]
  },
  {
   "cell_type": "code",
   "execution_count": 2,
   "metadata": {},
   "outputs": [
    {
     "output_type": "stream",
     "name": "stdout",
     "text": [
      "Logs at: runs/MNIST_0.3.2020.10.26#1\n"
     ]
    }
   ],
   "source": [
    "# Exploring MNIST Gans\n",
    "\n",
    "import torch\n",
    "from torch import nn\n",
    "from tqdm.auto import tqdm\n",
    "from torchvision import transforms\n",
    "from torchvision.datasets import MNIST  # Training dataset\n",
    "from torchvision.utils import make_grid\n",
    "from torch.utils.data import DataLoader\n",
    "from torch.utils.tensorboard import SummaryWriter\n",
    "from pathlib import Path\n",
    "\n",
    "# default `log_dir` is \"runs\" - we'll be more specific here\n",
    "writer = SummaryWriter('runs/mnist_01')\n",
    "\n",
    "import matplotlib.pyplot as plt\n",
    "# import wandb\n",
    "\n",
    "from markipy.nn.gans.generatorMark import get_gen_loss, Generator\n",
    "from markipy.nn.gans.discriminator import get_disc_loss, Discriminator\n",
    "from markipy.nn.commons import show_tensor_images, make_noise\n",
    "from markipy.basic import date\n",
    "\n",
    "\n",
    "torch.manual_seed(0)  # Set for testing purposes, please do not change!\n",
    "\n",
    "PROJECT=\"MNIST\"\n",
    "VERSIONE=\"0.31\"\n",
    "RUN=\"1\"\n",
    "\n",
    "# default `log_dir` is \"runs\" - we'll be more specific here\\\n",
    "logs=f'runs/{PROJECT}_{VERSIONE}.{date()}#{RUN}'\n",
    "\n",
    "writer = SummaryWriter(logs)\n",
    "print(f\"Logs at: {logs}\")\n"
   ]
  },
  {
   "cell_type": "markdown",
   "metadata": {},
   "source": [
    "## Hyperparameters"
   ]
  },
  {
   "cell_type": "code",
   "execution_count": 14,
   "metadata": {},
   "outputs": [],
   "source": [
    "    # Mnist Playground\n",
    "    device = torch.device('cpu')\n",
    "    n_epochs = 1\n",
    "    noise_c = 1 \n",
    "    noise_w = noise_b = 28\n",
    "    z_dim = (noise_c, noise_w, noise_b)\n",
    "    display_step = 468\n",
    "    log_step = 10\n",
    "    batch_size = 32\n",
    "    lr = 0.00001\n",
    "    cur_step = 0\n",
    "    mean_generator_loss = 0\n",
    "    mean_discriminator_loss = 0\n",
    "    test_generator = False  # Whether the generator should be tested\n",
    "    gen_loss = False\n",
    "    error = False"
   ]
  },
  {
   "cell_type": "markdown",
   "metadata": {},
   "source": [
    "## Load Data"
   ]
  },
  {
   "cell_type": "code",
   "execution_count": 15,
   "metadata": {},
   "outputs": [],
   "source": [
    "    # Load MNIST dataset as tensors\n",
    "    dataloader = DataLoader(\n",
    "        MNIST('.', download=True, transform=transforms.ToTensor()),\n",
    "        batch_size=batch_size,\n",
    "        shuffle=True)"
   ]
  },
  {
   "cell_type": "markdown",
   "metadata": {},
   "source": [
    "## Core"
   ]
  },
  {
   "cell_type": "code",
   "execution_count": 16,
   "metadata": {},
   "outputs": [],
   "source": [
    "    criterion = nn.BCEWithLogitsLoss()\n",
    "    gen = Generator(noise_c, device=device).to(device)\n",
    "    gen_opt = torch.optim.Adam(gen.parameters(), lr=lr)\n",
    "    disc = Discriminator().to(device)\n",
    "    disc_opt = torch.optim.Adam(disc.parameters(), lr=lr)"
   ]
  },
  {
   "source": [
    "# Generator Details"
   ],
   "cell_type": "markdown",
   "metadata": {}
  },
  {
   "cell_type": "code",
   "execution_count": 18,
   "metadata": {},
   "outputs": [
    {
     "output_type": "stream",
     "name": "stdout",
     "text": [
      "---------------------------------------------------------------------------------------------\n      Layer (type)                               Input Shape         Param #     Tr. Param #\n=============================================================================================\n        Upsample-1                            [1, 1, 28, 28]               0               0\n          Conv2d-2                            [1, 1, 33, 33]             130             130\n     BatchNorm2d-3                            [1, 5, 33, 33]              10              10\n       LeakyReLU-4                            [1, 5, 33, 33]               0               0\n         Flatten-5                            [1, 5, 33, 33]               0               0\n            LSTM-6     [5, 1, 400], [2, 1, 400], [2, 1, 400]       2,566,400       2,566,400\n       AvgPool2d-7                               [1, 5, 800]               0               0\n          Conv2d-8                            [1, 2, 20, 20]              51              51\n       LeakyReLU-9                            [1, 1, 24, 24]               0               0\n         Conv2d-10                            [1, 1, 24, 24]              26              26\n      LeakyReLU-11                            [1, 1, 28, 28]               0               0\n=============================================================================================\nTotal params: 2,566,617\nTrainable params: 2,566,617\nNon-trainable params: 0\n---------------------------------------------------------------------------------------------\n---------------------------------------------------------------------------------------------\n      Layer (type)                              Output Shape         Param #     Tr. Param #\n=============================================================================================\n        Upsample-1                            [1, 1, 33, 33]               0               0\n          Conv2d-2                            [1, 5, 33, 33]             130             130\n     BatchNorm2d-3                            [1, 5, 33, 33]              10              10\n       LeakyReLU-4                            [1, 5, 33, 33]               0               0\n         Flatten-5                              [1, 5, 1089]               0               0\n            LSTM-6     [5, 1, 800], [2, 1, 400], [2, 1, 400]       2,566,400       2,566,400\n       AvgPool2d-7                               [1, 2, 400]               0               0\n          Conv2d-8                            [1, 1, 24, 24]              51              51\n       LeakyReLU-9                            [1, 1, 24, 24]               0               0\n         Conv2d-10                            [1, 1, 28, 28]              26              26\n      LeakyReLU-11                            [1, 1, 28, 28]               0               0\n=============================================================================================\nTotal params: 2,566,617\nTrainable params: 2,566,617\nNon-trainable params: 0\n---------------------------------------------------------------------------------------------\n"
     ]
    }
   ],
   "source": [
    "from pytorch_model_summary import summary\n",
    "n_sample = 1\n",
    "noise_input = make_noise( n_sample, (noise_c, noise_w, noise_b), device=device)\n",
    "\n",
    "print(summary(gen, noise_input,  show_input=True))\n",
    "print(summary(gen, noise_input,  show_input=False))"
   ]
  },
  {
   "source": [
    "# Discriminator Details"
   ],
   "cell_type": "markdown",
   "metadata": {}
  },
  {
   "cell_type": "code",
   "execution_count": 20,
   "metadata": {},
   "outputs": [
    {
     "output_type": "stream",
     "name": "stdout",
     "text": [
      "-----------------------------------------------------------------------\n      Layer (type)         Input Shape         Param #     Tr. Param #\n=======================================================================\n          Conv2d-1      [1, 1, 28, 28]             260             260\n       LeakyReLU-2     [1, 10, 28, 28]               0               0\n       MaxPool2d-3     [1, 10, 28, 28]               0               0\n          Conv2d-4     [1, 10, 26, 26]           5,020           5,020\n       LeakyReLU-5     [1, 20, 26, 26]               0               0\n       MaxPool2d-6     [1, 20, 26, 26]               0               0\n          Conv2d-7     [1, 20, 24, 24]          15,030          15,030\n       LeakyReLU-8     [1, 30, 24, 24]               0               0\n       MaxPool2d-9     [1, 30, 24, 24]               0               0\n         Conv2d-10     [1, 30, 22, 22]           1,502           1,502\n      LeakyReLU-11      [1, 2, 22, 22]               0               0\n      MaxPool2d-12      [1, 2, 22, 22]               0               0\n        Flatten-13      [1, 2, 20, 20]               0               0\n         Linear-14            [1, 800]         627,984         627,984\n=======================================================================\nTotal params: 649,796\nTrainable params: 649,796\nNon-trainable params: 0\n-----------------------------------------------------------------------\n-----------------------------------------------------------------------\n      Layer (type)        Output Shape         Param #     Tr. Param #\n=======================================================================\n          Conv2d-1     [1, 10, 28, 28]             260             260\n       LeakyReLU-2     [1, 10, 28, 28]               0               0\n       MaxPool2d-3     [1, 10, 26, 26]               0               0\n          Conv2d-4     [1, 20, 26, 26]           5,020           5,020\n       LeakyReLU-5     [1, 20, 26, 26]               0               0\n       MaxPool2d-6     [1, 20, 24, 24]               0               0\n          Conv2d-7     [1, 30, 24, 24]          15,030          15,030\n       LeakyReLU-8     [1, 30, 24, 24]               0               0\n       MaxPool2d-9     [1, 30, 22, 22]               0               0\n         Conv2d-10      [1, 2, 22, 22]           1,502           1,502\n      LeakyReLU-11      [1, 2, 22, 22]               0               0\n      MaxPool2d-12      [1, 2, 20, 20]               0               0\n        Flatten-13            [1, 800]               0               0\n         Linear-14            [1, 784]         627,984         627,984\n=======================================================================\nTotal params: 649,796\nTrainable params: 649,796\nNon-trainable params: 0\n-----------------------------------------------------------------------\n"
     ]
    }
   ],
   "source": [
    "from pytorch_model_summary import summary\n",
    "n_sample = 1\n",
    "_input = make_noise( n_sample, ( 1, 28 * 28), device=device)\n",
    "\n",
    "print(summary(disc, _input,  show_input=True))\n",
    "print(summary(disc, _input,  show_input=False))"
   ]
  },
  {
   "cell_type": "markdown",
   "metadata": {},
   "source": [
    "## View Input Data"
   ]
  },
  {
   "cell_type": "code",
   "execution_count": 21,
   "metadata": {},
   "outputs": [
    {
     "output_type": "display_data",
     "data": {
      "text/plain": "<Figure size 432x288 with 1 Axes>",
      "image/svg+xml": "<?xml version=\"1.0\" encoding=\"utf-8\" standalone=\"no\"?>\r\n<!DOCTYPE svg PUBLIC \"-//W3C//DTD SVG 1.1//EN\"\r\n  \"http://www.w3.org/Graphics/SVG/1.1/DTD/svg11.dtd\">\r\n<!-- Created with matplotlib (https://matplotlib.org/) -->\r\n<svg height=\"251.602081pt\" version=\"1.1\" viewBox=\"0 0 265.325461 251.602081\" width=\"265.325461pt\" xmlns=\"http://www.w3.org/2000/svg\" xmlns:xlink=\"http://www.w3.org/1999/xlink\">\r\n <metadata>\r\n  <rdf:RDF xmlns:cc=\"http://creativecommons.org/ns#\" xmlns:dc=\"http://purl.org/dc/elements/1.1/\" xmlns:rdf=\"http://www.w3.org/1999/02/22-rdf-syntax-ns#\">\r\n   <cc:Work>\r\n    <dc:type rdf:resource=\"http://purl.org/dc/dcmitype/StillImage\"/>\r\n    <dc:date>2020-10-26T23:36:50.663297</dc:date>\r\n    <dc:format>image/svg+xml</dc:format>\r\n    <dc:creator>\r\n     <cc:Agent>\r\n      <dc:title>Matplotlib v3.3.2, https://matplotlib.org/</dc:title>\r\n     </cc:Agent>\r\n    </dc:creator>\r\n   </cc:Work>\r\n  </rdf:RDF>\r\n </metadata>\r\n <defs>\r\n  <style type=\"text/css\">*{stroke-linecap:butt;stroke-linejoin:round;}</style>\r\n </defs>\r\n <g id=\"figure_1\">\r\n  <g id=\"patch_1\">\r\n   <path d=\"M 0 251.602081 \r\nL 265.325461 251.602081 \r\nL 265.325461 0 \r\nL 0 0 \r\nz\r\n\" style=\"fill:none;\"/>\r\n  </g>\r\n  <g id=\"axes_1\">\r\n   <g id=\"patch_2\">\r\n    <path d=\"M 33.2875 227.723956 \r\nL 250.7275 227.723956 \r\nL 250.7275 10.283956 \r\nL 33.2875 10.283956 \r\nz\r\n\" style=\"fill:#ffffff;\"/>\r\n   </g>\r\n   <g clip-path=\"url(#p6f29da7f02)\">\r\n    <image height=\"218\" id=\"image87615f0267\" transform=\"scale(1 -1)translate(0 -218)\" width=\"218\" x=\"33.2875\" xlink:href=\"data:image/png;base64,\r\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\" y=\"-9.723956\"/>\r\n   </g>\r\n   <g id=\"matplotlib.axis_1\">\r\n    <g id=\"xtick_1\">\r\n     <g id=\"line2d_1\">\r\n      <defs>\r\n       <path d=\"M 0 0 \r\nL 0 3.5 \r\n\" id=\"mc1a872a193\" style=\"stroke:#000000;stroke-width:0.8;\"/>\r\n      </defs>\r\n      <g>\r\n       <use style=\"stroke:#000000;stroke-width:0.8;\" x=\"34.002763\" xlink:href=\"#mc1a872a193\" y=\"227.723956\"/>\r\n      </g>\r\n     </g>\r\n     <g id=\"text_1\">\r\n      <!-- 0 -->\r\n      <g transform=\"translate(30.821513 242.322393)scale(0.1 -0.1)\">\r\n       <defs>\r\n        <path d=\"M 31.78125 66.40625 \r\nQ 24.171875 66.40625 20.328125 58.90625 \r\nQ 16.5 51.421875 16.5 36.375 \r\nQ 16.5 21.390625 20.328125 13.890625 \r\nQ 24.171875 6.390625 31.78125 6.390625 \r\nQ 39.453125 6.390625 43.28125 13.890625 \r\nQ 47.125 21.390625 47.125 36.375 \r\nQ 47.125 51.421875 43.28125 58.90625 \r\nQ 39.453125 66.40625 31.78125 66.40625 \r\nz\r\nM 31.78125 74.21875 \r\nQ 44.046875 74.21875 50.515625 64.515625 \r\nQ 56.984375 54.828125 56.984375 36.375 \r\nQ 56.984375 17.96875 50.515625 8.265625 \r\nQ 44.046875 -1.421875 31.78125 -1.421875 \r\nQ 19.53125 -1.421875 13.0625 8.265625 \r\nQ 6.59375 17.96875 6.59375 36.375 \r\nQ 6.59375 54.828125 13.0625 64.515625 \r\nQ 19.53125 74.21875 31.78125 74.21875 \r\nz\r\n\" id=\"DejaVuSans-48\"/>\r\n       </defs>\r\n       <use xlink:href=\"#DejaVuSans-48\"/>\r\n      </g>\r\n     </g>\r\n    </g>\r\n    <g id=\"xtick_2\">\r\n     <g id=\"line2d_2\">\r\n      <g>\r\n       <use style=\"stroke:#000000;stroke-width:0.8;\" x=\"69.765921\" xlink:href=\"#mc1a872a193\" y=\"227.723956\"/>\r\n      </g>\r\n     </g>\r\n     <g id=\"text_2\">\r\n      <!-- 25 -->\r\n      <g transform=\"translate(63.403421 242.322393)scale(0.1 -0.1)\">\r\n       <defs>\r\n        <path d=\"M 19.1875 8.296875 \r\nL 53.609375 8.296875 \r\nL 53.609375 0 \r\nL 7.328125 0 \r\nL 7.328125 8.296875 \r\nQ 12.9375 14.109375 22.625 23.890625 \r\nQ 32.328125 33.6875 34.8125 36.53125 \r\nQ 39.546875 41.84375 41.421875 45.53125 \r\nQ 43.3125 49.21875 43.3125 52.78125 \r\nQ 43.3125 58.59375 39.234375 62.25 \r\nQ 35.15625 65.921875 28.609375 65.921875 \r\nQ 23.96875 65.921875 18.8125 64.3125 \r\nQ 13.671875 62.703125 7.8125 59.421875 \r\nL 7.8125 69.390625 \r\nQ 13.765625 71.78125 18.9375 73 \r\nQ 24.125 74.21875 28.421875 74.21875 \r\nQ 39.75 74.21875 46.484375 68.546875 \r\nQ 53.21875 62.890625 53.21875 53.421875 \r\nQ 53.21875 48.921875 51.53125 44.890625 \r\nQ 49.859375 40.875 45.40625 35.40625 \r\nQ 44.1875 33.984375 37.640625 27.21875 \r\nQ 31.109375 20.453125 19.1875 8.296875 \r\nz\r\n\" id=\"DejaVuSans-50\"/>\r\n        <path d=\"M 10.796875 72.90625 \r\nL 49.515625 72.90625 \r\nL 49.515625 64.59375 \r\nL 19.828125 64.59375 \r\nL 19.828125 46.734375 \r\nQ 21.96875 47.46875 24.109375 47.828125 \r\nQ 26.265625 48.1875 28.421875 48.1875 \r\nQ 40.625 48.1875 47.75 41.5 \r\nQ 54.890625 34.8125 54.890625 23.390625 \r\nQ 54.890625 11.625 47.5625 5.09375 \r\nQ 40.234375 -1.421875 26.90625 -1.421875 \r\nQ 22.3125 -1.421875 17.546875 -0.640625 \r\nQ 12.796875 0.140625 7.71875 1.703125 \r\nL 7.71875 11.625 \r\nQ 12.109375 9.234375 16.796875 8.0625 \r\nQ 21.484375 6.890625 26.703125 6.890625 \r\nQ 35.15625 6.890625 40.078125 11.328125 \r\nQ 45.015625 15.765625 45.015625 23.390625 \r\nQ 45.015625 31 40.078125 35.4375 \r\nQ 35.15625 39.890625 26.703125 39.890625 \r\nQ 22.75 39.890625 18.8125 39.015625 \r\nQ 14.890625 38.140625 10.796875 36.28125 \r\nz\r\n\" id=\"DejaVuSans-53\"/>\r\n       </defs>\r\n       <use xlink:href=\"#DejaVuSans-50\"/>\r\n       <use x=\"63.623047\" xlink:href=\"#DejaVuSans-53\"/>\r\n      </g>\r\n     </g>\r\n    </g>\r\n    <g id=\"xtick_3\">\r\n     <g id=\"line2d_3\">\r\n      <g>\r\n       <use style=\"stroke:#000000;stroke-width:0.8;\" x=\"105.529079\" xlink:href=\"#mc1a872a193\" y=\"227.723956\"/>\r\n      </g>\r\n     </g>\r\n     <g id=\"text_3\">\r\n      <!-- 50 -->\r\n      <g transform=\"translate(99.166579 242.322393)scale(0.1 -0.1)\">\r\n       <use xlink:href=\"#DejaVuSans-53\"/>\r\n       <use x=\"63.623047\" xlink:href=\"#DejaVuSans-48\"/>\r\n      </g>\r\n     </g>\r\n    </g>\r\n    <g id=\"xtick_4\">\r\n     <g id=\"line2d_4\">\r\n      <g>\r\n       <use style=\"stroke:#000000;stroke-width:0.8;\" x=\"141.292237\" xlink:href=\"#mc1a872a193\" y=\"227.723956\"/>\r\n      </g>\r\n     </g>\r\n     <g id=\"text_4\">\r\n      <!-- 75 -->\r\n      <g transform=\"translate(134.929737 242.322393)scale(0.1 -0.1)\">\r\n       <defs>\r\n        <path d=\"M 8.203125 72.90625 \r\nL 55.078125 72.90625 \r\nL 55.078125 68.703125 \r\nL 28.609375 0 \r\nL 18.3125 0 \r\nL 43.21875 64.59375 \r\nL 8.203125 64.59375 \r\nz\r\n\" id=\"DejaVuSans-55\"/>\r\n       </defs>\r\n       <use xlink:href=\"#DejaVuSans-55\"/>\r\n       <use x=\"63.623047\" xlink:href=\"#DejaVuSans-53\"/>\r\n      </g>\r\n     </g>\r\n    </g>\r\n    <g id=\"xtick_5\">\r\n     <g id=\"line2d_5\">\r\n      <g>\r\n       <use style=\"stroke:#000000;stroke-width:0.8;\" x=\"177.055395\" xlink:href=\"#mc1a872a193\" y=\"227.723956\"/>\r\n      </g>\r\n     </g>\r\n     <g id=\"text_5\">\r\n      <!-- 100 -->\r\n      <g transform=\"translate(167.511645 242.322393)scale(0.1 -0.1)\">\r\n       <defs>\r\n        <path d=\"M 12.40625 8.296875 \r\nL 28.515625 8.296875 \r\nL 28.515625 63.921875 \r\nL 10.984375 60.40625 \r\nL 10.984375 69.390625 \r\nL 28.421875 72.90625 \r\nL 38.28125 72.90625 \r\nL 38.28125 8.296875 \r\nL 54.390625 8.296875 \r\nL 54.390625 0 \r\nL 12.40625 0 \r\nz\r\n\" id=\"DejaVuSans-49\"/>\r\n       </defs>\r\n       <use xlink:href=\"#DejaVuSans-49\"/>\r\n       <use x=\"63.623047\" xlink:href=\"#DejaVuSans-48\"/>\r\n       <use x=\"127.246094\" xlink:href=\"#DejaVuSans-48\"/>\r\n      </g>\r\n     </g>\r\n    </g>\r\n    <g id=\"xtick_6\">\r\n     <g id=\"line2d_6\">\r\n      <g>\r\n       <use style=\"stroke:#000000;stroke-width:0.8;\" x=\"212.818553\" xlink:href=\"#mc1a872a193\" y=\"227.723956\"/>\r\n      </g>\r\n     </g>\r\n     <g id=\"text_6\">\r\n      <!-- 125 -->\r\n      <g transform=\"translate(203.274803 242.322393)scale(0.1 -0.1)\">\r\n       <use xlink:href=\"#DejaVuSans-49\"/>\r\n       <use x=\"63.623047\" xlink:href=\"#DejaVuSans-50\"/>\r\n       <use x=\"127.246094\" xlink:href=\"#DejaVuSans-53\"/>\r\n      </g>\r\n     </g>\r\n    </g>\r\n    <g id=\"xtick_7\">\r\n     <g id=\"line2d_7\">\r\n      <g>\r\n       <use style=\"stroke:#000000;stroke-width:0.8;\" x=\"248.581711\" xlink:href=\"#mc1a872a193\" y=\"227.723956\"/>\r\n      </g>\r\n     </g>\r\n     <g id=\"text_7\">\r\n      <!-- 150 -->\r\n      <g transform=\"translate(239.037961 242.322393)scale(0.1 -0.1)\">\r\n       <use xlink:href=\"#DejaVuSans-49\"/>\r\n       <use x=\"63.623047\" xlink:href=\"#DejaVuSans-53\"/>\r\n       <use x=\"127.246094\" xlink:href=\"#DejaVuSans-48\"/>\r\n      </g>\r\n     </g>\r\n    </g>\r\n   </g>\r\n   <g id=\"matplotlib.axis_2\">\r\n    <g id=\"ytick_1\">\r\n     <g id=\"line2d_8\">\r\n      <defs>\r\n       <path d=\"M 0 0 \r\nL -3.5 0 \r\n\" id=\"m9012f44023\" style=\"stroke:#000000;stroke-width:0.8;\"/>\r\n      </defs>\r\n      <g>\r\n       <use style=\"stroke:#000000;stroke-width:0.8;\" x=\"33.2875\" xlink:href=\"#m9012f44023\" y=\"10.999219\"/>\r\n      </g>\r\n     </g>\r\n     <g id=\"text_8\">\r\n      <!-- 0 -->\r\n      <g transform=\"translate(19.925 14.798438)scale(0.1 -0.1)\">\r\n       <use xlink:href=\"#DejaVuSans-48\"/>\r\n      </g>\r\n     </g>\r\n    </g>\r\n    <g id=\"ytick_2\">\r\n     <g id=\"line2d_9\">\r\n      <g>\r\n       <use style=\"stroke:#000000;stroke-width:0.8;\" x=\"33.2875\" xlink:href=\"#m9012f44023\" y=\"39.609745\"/>\r\n      </g>\r\n     </g>\r\n     <g id=\"text_9\">\r\n      <!-- 20 -->\r\n      <g transform=\"translate(13.5625 43.408964)scale(0.1 -0.1)\">\r\n       <use xlink:href=\"#DejaVuSans-50\"/>\r\n       <use x=\"63.623047\" xlink:href=\"#DejaVuSans-48\"/>\r\n      </g>\r\n     </g>\r\n    </g>\r\n    <g id=\"ytick_3\">\r\n     <g id=\"line2d_10\">\r\n      <g>\r\n       <use style=\"stroke:#000000;stroke-width:0.8;\" x=\"33.2875\" xlink:href=\"#m9012f44023\" y=\"68.220271\"/>\r\n      </g>\r\n     </g>\r\n     <g id=\"text_10\">\r\n      <!-- 40 -->\r\n      <g transform=\"translate(13.5625 72.01949)scale(0.1 -0.1)\">\r\n       <defs>\r\n        <path d=\"M 37.796875 64.3125 \r\nL 12.890625 25.390625 \r\nL 37.796875 25.390625 \r\nz\r\nM 35.203125 72.90625 \r\nL 47.609375 72.90625 \r\nL 47.609375 25.390625 \r\nL 58.015625 25.390625 \r\nL 58.015625 17.1875 \r\nL 47.609375 17.1875 \r\nL 47.609375 0 \r\nL 37.796875 0 \r\nL 37.796875 17.1875 \r\nL 4.890625 17.1875 \r\nL 4.890625 26.703125 \r\nz\r\n\" id=\"DejaVuSans-52\"/>\r\n       </defs>\r\n       <use xlink:href=\"#DejaVuSans-52\"/>\r\n       <use x=\"63.623047\" xlink:href=\"#DejaVuSans-48\"/>\r\n      </g>\r\n     </g>\r\n    </g>\r\n    <g id=\"ytick_4\">\r\n     <g id=\"line2d_11\">\r\n      <g>\r\n       <use style=\"stroke:#000000;stroke-width:0.8;\" x=\"33.2875\" xlink:href=\"#m9012f44023\" y=\"96.830798\"/>\r\n      </g>\r\n     </g>\r\n     <g id=\"text_11\">\r\n      <!-- 60 -->\r\n      <g transform=\"translate(13.5625 100.630016)scale(0.1 -0.1)\">\r\n       <defs>\r\n        <path d=\"M 33.015625 40.375 \r\nQ 26.375 40.375 22.484375 35.828125 \r\nQ 18.609375 31.296875 18.609375 23.390625 \r\nQ 18.609375 15.53125 22.484375 10.953125 \r\nQ 26.375 6.390625 33.015625 6.390625 \r\nQ 39.65625 6.390625 43.53125 10.953125 \r\nQ 47.40625 15.53125 47.40625 23.390625 \r\nQ 47.40625 31.296875 43.53125 35.828125 \r\nQ 39.65625 40.375 33.015625 40.375 \r\nz\r\nM 52.59375 71.296875 \r\nL 52.59375 62.3125 \r\nQ 48.875 64.0625 45.09375 64.984375 \r\nQ 41.3125 65.921875 37.59375 65.921875 \r\nQ 27.828125 65.921875 22.671875 59.328125 \r\nQ 17.53125 52.734375 16.796875 39.40625 \r\nQ 19.671875 43.65625 24.015625 45.921875 \r\nQ 28.375 48.1875 33.59375 48.1875 \r\nQ 44.578125 48.1875 50.953125 41.515625 \r\nQ 57.328125 34.859375 57.328125 23.390625 \r\nQ 57.328125 12.15625 50.6875 5.359375 \r\nQ 44.046875 -1.421875 33.015625 -1.421875 \r\nQ 20.359375 -1.421875 13.671875 8.265625 \r\nQ 6.984375 17.96875 6.984375 36.375 \r\nQ 6.984375 53.65625 15.1875 63.9375 \r\nQ 23.390625 74.21875 37.203125 74.21875 \r\nQ 40.921875 74.21875 44.703125 73.484375 \r\nQ 48.484375 72.75 52.59375 71.296875 \r\nz\r\n\" id=\"DejaVuSans-54\"/>\r\n       </defs>\r\n       <use xlink:href=\"#DejaVuSans-54\"/>\r\n       <use x=\"63.623047\" xlink:href=\"#DejaVuSans-48\"/>\r\n      </g>\r\n     </g>\r\n    </g>\r\n    <g id=\"ytick_5\">\r\n     <g id=\"line2d_12\">\r\n      <g>\r\n       <use style=\"stroke:#000000;stroke-width:0.8;\" x=\"33.2875\" xlink:href=\"#m9012f44023\" y=\"125.441324\"/>\r\n      </g>\r\n     </g>\r\n     <g id=\"text_12\">\r\n      <!-- 80 -->\r\n      <g transform=\"translate(13.5625 129.240543)scale(0.1 -0.1)\">\r\n       <defs>\r\n        <path d=\"M 31.78125 34.625 \r\nQ 24.75 34.625 20.71875 30.859375 \r\nQ 16.703125 27.09375 16.703125 20.515625 \r\nQ 16.703125 13.921875 20.71875 10.15625 \r\nQ 24.75 6.390625 31.78125 6.390625 \r\nQ 38.8125 6.390625 42.859375 10.171875 \r\nQ 46.921875 13.96875 46.921875 20.515625 \r\nQ 46.921875 27.09375 42.890625 30.859375 \r\nQ 38.875 34.625 31.78125 34.625 \r\nz\r\nM 21.921875 38.8125 \r\nQ 15.578125 40.375 12.03125 44.71875 \r\nQ 8.5 49.078125 8.5 55.328125 \r\nQ 8.5 64.0625 14.71875 69.140625 \r\nQ 20.953125 74.21875 31.78125 74.21875 \r\nQ 42.671875 74.21875 48.875 69.140625 \r\nQ 55.078125 64.0625 55.078125 55.328125 \r\nQ 55.078125 49.078125 51.53125 44.71875 \r\nQ 48 40.375 41.703125 38.8125 \r\nQ 48.828125 37.15625 52.796875 32.3125 \r\nQ 56.78125 27.484375 56.78125 20.515625 \r\nQ 56.78125 9.90625 50.3125 4.234375 \r\nQ 43.84375 -1.421875 31.78125 -1.421875 \r\nQ 19.734375 -1.421875 13.25 4.234375 \r\nQ 6.78125 9.90625 6.78125 20.515625 \r\nQ 6.78125 27.484375 10.78125 32.3125 \r\nQ 14.796875 37.15625 21.921875 38.8125 \r\nz\r\nM 18.3125 54.390625 \r\nQ 18.3125 48.734375 21.84375 45.5625 \r\nQ 25.390625 42.390625 31.78125 42.390625 \r\nQ 38.140625 42.390625 41.71875 45.5625 \r\nQ 45.3125 48.734375 45.3125 54.390625 \r\nQ 45.3125 60.0625 41.71875 63.234375 \r\nQ 38.140625 66.40625 31.78125 66.40625 \r\nQ 25.390625 66.40625 21.84375 63.234375 \r\nQ 18.3125 60.0625 18.3125 54.390625 \r\nz\r\n\" id=\"DejaVuSans-56\"/>\r\n       </defs>\r\n       <use xlink:href=\"#DejaVuSans-56\"/>\r\n       <use x=\"63.623047\" xlink:href=\"#DejaVuSans-48\"/>\r\n      </g>\r\n     </g>\r\n    </g>\r\n    <g id=\"ytick_6\">\r\n     <g id=\"line2d_13\">\r\n      <g>\r\n       <use style=\"stroke:#000000;stroke-width:0.8;\" x=\"33.2875\" xlink:href=\"#m9012f44023\" y=\"154.05185\"/>\r\n      </g>\r\n     </g>\r\n     <g id=\"text_13\">\r\n      <!-- 100 -->\r\n      <g transform=\"translate(7.2 157.851069)scale(0.1 -0.1)\">\r\n       <use xlink:href=\"#DejaVuSans-49\"/>\r\n       <use x=\"63.623047\" xlink:href=\"#DejaVuSans-48\"/>\r\n       <use x=\"127.246094\" xlink:href=\"#DejaVuSans-48\"/>\r\n      </g>\r\n     </g>\r\n    </g>\r\n    <g id=\"ytick_7\">\r\n     <g id=\"line2d_14\">\r\n      <g>\r\n       <use style=\"stroke:#000000;stroke-width:0.8;\" x=\"33.2875\" xlink:href=\"#m9012f44023\" y=\"182.662377\"/>\r\n      </g>\r\n     </g>\r\n     <g id=\"text_14\">\r\n      <!-- 120 -->\r\n      <g transform=\"translate(7.2 186.461595)scale(0.1 -0.1)\">\r\n       <use xlink:href=\"#DejaVuSans-49\"/>\r\n       <use x=\"63.623047\" xlink:href=\"#DejaVuSans-50\"/>\r\n       <use x=\"127.246094\" xlink:href=\"#DejaVuSans-48\"/>\r\n      </g>\r\n     </g>\r\n    </g>\r\n    <g id=\"ytick_8\">\r\n     <g id=\"line2d_15\">\r\n      <g>\r\n       <use style=\"stroke:#000000;stroke-width:0.8;\" x=\"33.2875\" xlink:href=\"#m9012f44023\" y=\"211.272903\"/>\r\n      </g>\r\n     </g>\r\n     <g id=\"text_15\">\r\n      <!-- 140 -->\r\n      <g transform=\"translate(7.2 215.072122)scale(0.1 -0.1)\">\r\n       <use xlink:href=\"#DejaVuSans-49\"/>\r\n       <use x=\"63.623047\" xlink:href=\"#DejaVuSans-52\"/>\r\n       <use x=\"127.246094\" xlink:href=\"#DejaVuSans-48\"/>\r\n      </g>\r\n     </g>\r\n    </g>\r\n   </g>\r\n   <g id=\"patch_3\">\r\n    <path d=\"M 33.2875 227.723956 \r\nL 33.2875 10.283956 \r\n\" style=\"fill:none;stroke:#000000;stroke-linecap:square;stroke-linejoin:miter;stroke-width:0.8;\"/>\r\n   </g>\r\n   <g id=\"patch_4\">\r\n    <path d=\"M 250.7275 227.723956 \r\nL 250.7275 10.283956 \r\n\" style=\"fill:none;stroke:#000000;stroke-linecap:square;stroke-linejoin:miter;stroke-width:0.8;\"/>\r\n   </g>\r\n   <g id=\"patch_5\">\r\n    <path d=\"M 33.2875 227.723956 \r\nL 250.7275 227.723956 \r\n\" style=\"fill:none;stroke:#000000;stroke-linecap:square;stroke-linejoin:miter;stroke-width:0.8;\"/>\r\n   </g>\r\n   <g id=\"patch_6\">\r\n    <path d=\"M 33.2875 10.283956 \r\nL 250.7275 10.283956 \r\n\" style=\"fill:none;stroke:#000000;stroke-linecap:square;stroke-linejoin:miter;stroke-width:0.8;\"/>\r\n   </g>\r\n  </g>\r\n </g>\r\n <defs>\r\n  <clipPath id=\"p6f29da7f02\">\r\n   <rect height=\"217.44\" width=\"217.44\" x=\"33.2875\" y=\"10.283956\"/>\r\n  </clipPath>\r\n </defs>\r\n</svg>\r\n",
      "image/png": "[encoded data removed]"
     },
     "metadata": {
      "needs_background": "light"
     }
    },
    {
     "output_type": "stream",
     "name": "stdout",
     "text": [
      "torch.Size([32, 1, 28, 28]) torch.Size([32]) tensor([4, 2, 7, 1, 3, 1, 7, 8, 9, 7, 5, 9, 4, 6, 3, 0, 8, 6, 8, 0, 8, 7, 0, 8,\n        7])\n"
     ]
    }
   ],
   "source": [
    "for x,y in dataloader:\n",
    "    show_tensor_images(x, num_images=25)\n",
    "    print(x.shape, y.shape, y[:25])\n",
    "    break\n",
    "    "
   ]
  },
  {
   "cell_type": "markdown",
   "metadata": {},
   "source": [
    "# Train - 1 Step"
   ]
  },
  {
   "cell_type": "code",
   "execution_count": 22,
   "metadata": {
    "scrolled": false
   },
   "outputs": [
    {
     "output_type": "stream",
     "name": "stderr",
     "text": [
      "Epoch 0, step 30: GenL: 0.04588289609831622, DisL: 0.04443120128578609:   2%|▏         | 34/1875 [00:07<06:37,  4.63it/s]\n"
     ]
    },
    {
     "output_type": "error",
     "ename": "KeyboardInterrupt",
     "evalue": "",
     "traceback": [
      "\u001b[1;31m---------------------------------------------------------------------------\u001b[0m",
      "\u001b[1;31mKeyboardInterrupt\u001b[0m                         Traceback (most recent call last)",
      "\u001b[1;32m<ipython-input-22-41c5f3c34c5c>\u001b[0m in \u001b[0;36m<module>\u001b[1;34m\u001b[0m\n\u001b[0;32m     20\u001b[0m \u001b[1;33m\u001b[0m\u001b[0m\n\u001b[0;32m     21\u001b[0m             \u001b[1;31m# Update gradients\u001b[0m\u001b[1;33m\u001b[0m\u001b[1;33m\u001b[0m\u001b[1;33m\u001b[0m\u001b[0m\n\u001b[1;32m---> 22\u001b[1;33m             \u001b[0mdisc_loss\u001b[0m\u001b[1;33m.\u001b[0m\u001b[0mbackward\u001b[0m\u001b[1;33m(\u001b[0m\u001b[0mretain_graph\u001b[0m\u001b[1;33m=\u001b[0m\u001b[1;32mTrue\u001b[0m\u001b[1;33m)\u001b[0m\u001b[1;33m\u001b[0m\u001b[1;33m\u001b[0m\u001b[0m\n\u001b[0m\u001b[0;32m     23\u001b[0m \u001b[1;33m\u001b[0m\u001b[0m\n\u001b[0;32m     24\u001b[0m             \u001b[1;31m# Update optimizer\u001b[0m\u001b[1;33m\u001b[0m\u001b[1;33m\u001b[0m\u001b[1;33m\u001b[0m\u001b[0m\n",
      "\u001b[1;32m~\\miniconda3\\lib\\site-packages\\torch\\tensor.py\u001b[0m in \u001b[0;36mbackward\u001b[1;34m(self, gradient, retain_graph, create_graph)\u001b[0m\n\u001b[0;32m    183\u001b[0m                 \u001b[0mproducts\u001b[0m\u001b[1;33m.\u001b[0m \u001b[0mDefaults\u001b[0m \u001b[0mto\u001b[0m\u001b[0;31m \u001b[0m\u001b[0;31m`\u001b[0m\u001b[0;31m`\u001b[0m\u001b[1;32mFalse\u001b[0m\u001b[0;31m`\u001b[0m\u001b[0;31m`\u001b[0m\u001b[1;33m.\u001b[0m\u001b[1;33m\u001b[0m\u001b[1;33m\u001b[0m\u001b[0m\n\u001b[0;32m    184\u001b[0m         \"\"\"\n\u001b[1;32m--> 185\u001b[1;33m         \u001b[0mtorch\u001b[0m\u001b[1;33m.\u001b[0m\u001b[0mautograd\u001b[0m\u001b[1;33m.\u001b[0m\u001b[0mbackward\u001b[0m\u001b[1;33m(\u001b[0m\u001b[0mself\u001b[0m\u001b[1;33m,\u001b[0m \u001b[0mgradient\u001b[0m\u001b[1;33m,\u001b[0m \u001b[0mretain_graph\u001b[0m\u001b[1;33m,\u001b[0m \u001b[0mcreate_graph\u001b[0m\u001b[1;33m)\u001b[0m\u001b[1;33m\u001b[0m\u001b[1;33m\u001b[0m\u001b[0m\n\u001b[0m\u001b[0;32m    186\u001b[0m \u001b[1;33m\u001b[0m\u001b[0m\n\u001b[0;32m    187\u001b[0m     \u001b[1;32mdef\u001b[0m \u001b[0mregister_hook\u001b[0m\u001b[1;33m(\u001b[0m\u001b[0mself\u001b[0m\u001b[1;33m,\u001b[0m \u001b[0mhook\u001b[0m\u001b[1;33m)\u001b[0m\u001b[1;33m:\u001b[0m\u001b[1;33m\u001b[0m\u001b[1;33m\u001b[0m\u001b[0m\n",
      "\u001b[1;32m~\\miniconda3\\lib\\site-packages\\torch\\autograd\\__init__.py\u001b[0m in \u001b[0;36mbackward\u001b[1;34m(tensors, grad_tensors, retain_graph, create_graph, grad_variables)\u001b[0m\n\u001b[0;32m    123\u001b[0m         \u001b[0mretain_graph\u001b[0m \u001b[1;33m=\u001b[0m \u001b[0mcreate_graph\u001b[0m\u001b[1;33m\u001b[0m\u001b[1;33m\u001b[0m\u001b[0m\n\u001b[0;32m    124\u001b[0m \u001b[1;33m\u001b[0m\u001b[0m\n\u001b[1;32m--> 125\u001b[1;33m     Variable._execution_engine.run_backward(\n\u001b[0m\u001b[0;32m    126\u001b[0m         \u001b[0mtensors\u001b[0m\u001b[1;33m,\u001b[0m \u001b[0mgrad_tensors\u001b[0m\u001b[1;33m,\u001b[0m \u001b[0mretain_graph\u001b[0m\u001b[1;33m,\u001b[0m \u001b[0mcreate_graph\u001b[0m\u001b[1;33m,\u001b[0m\u001b[1;33m\u001b[0m\u001b[1;33m\u001b[0m\u001b[0m\n\u001b[0;32m    127\u001b[0m         allow_unreachable=True)  # allow_unreachable flag\n",
      "\u001b[1;31mKeyboardInterrupt\u001b[0m: "
     ]
    }
   ],
   "source": [
    "disc_init = False\n",
    "n_epochs = 1 \n",
    "for epoch in range(n_epochs):\n",
    "    \n",
    "    # Dataloader returns the batches\n",
    "    bar = tqdm(dataloader)\n",
    "    for real, label in bar:\n",
    "        cur_batch_size = len(real)\n",
    "\n",
    "        # Flatten the batch of real images from the dataset\n",
    "        real = real.view(cur_batch_size, -1).to(device)\n",
    "\n",
    "        if cur_step % 300: \n",
    "            ### Update discriminator ###\n",
    "            # Zero out the gradients before backpropagation\n",
    "            disc_opt.zero_grad()\n",
    "\n",
    "            # Calculate discriminator loss\n",
    "            disc_loss = get_disc_loss(gen, disc, criterion, real, label, cur_batch_size, z_dim, device)\n",
    "\n",
    "            # Update gradients\n",
    "            disc_loss.backward(retain_graph=True)\n",
    "\n",
    "            # Update optimizer\n",
    "            disc_opt.step()\n",
    "            \n",
    "            disc_init = True\n",
    "\n",
    "        # For testing purposes, to keep track of the generator weights\n",
    "        if test_generator:\n",
    "            old_generator_weights = gen.gen[0][0].weight.detach().clone()\n",
    "\n",
    "        # Update gradients\n",
    "        gen_opt.zero_grad()\n",
    "\n",
    "        # Update optimizer\n",
    "        gen_loss = get_gen_loss(gen, disc, criterion, label, cur_batch_size, z_dim, device)\n",
    "\n",
    "        # Update gradients\n",
    "        gen_loss.backward(retain_graph=True)\n",
    "\n",
    "        # Update optimizer\n",
    "        gen_opt.step()\n",
    "\n",
    "        # For testing purposes, to check that your code changes the generator weights\n",
    "        if test_generator:\n",
    "            try:\n",
    "                assert lr > 0.0000002 or (gen.gen[0][0].weight.grad.abs().max() < 0.0005 and epoch == 0)\n",
    "                assert torch.any(gen.gen[0][0].weight.detach().clone() != old_generator_weights)\n",
    "                \n",
    "            except:\n",
    "                error = True\n",
    "                \n",
    "                # wandb.log({\"no_training\": 1, \"epoch\": epoch, \"loss\": loss})\n",
    "                print(\"Runtime tests have failed\")\n",
    "\n",
    "        if disc_init:\n",
    "            # Keep track of the average discriminator loss\n",
    "            mean_discriminator_loss += disc_loss.item() / display_step\n",
    "\n",
    "        # Keep track of the average generator loss\n",
    "        mean_generator_loss += gen_loss.item() / display_step\n",
    "\n",
    "        ### Visualization code ###\n",
    "        if cur_step % display_step == 0 and cur_step > 0:\n",
    "\n",
    "\n",
    "            noise = make_noise(cur_batch_size, z_dim, device=device)\n",
    "            fake = gen(noise)\n",
    "            \n",
    "            show_tensor_images(fake)\n",
    "            show_tensor_images(real)\n",
    "            \n",
    "            mean_generator_loss = 0\n",
    "            mean_discriminator_loss = 0\n",
    "            \n",
    "\n",
    "        \n",
    "        if cur_step % log_step == 0 and log_step > 0:\n",
    "            # wandb.log({ \"Epoch\" : epoch, \"step\": cur_step , \"Generator_Loss\" : mean_generator_loss, \"Discriminator_Loss\": mean_discriminator_loss })\n",
    "            bar.set_description(f\"Epoch {epoch}, step {cur_step}: GenL: {mean_generator_loss if disc_init else 'nan'}, DisL: {mean_discriminator_loss}\")\n",
    "            # Tensorboard\n",
    "            writer.add_scalar('mean_generator loss', mean_generator_loss, cur_step)\n",
    "            writer.add_scalar('mean_discriminator_loss loss', mean_discriminator_loss, cur_step)\n",
    "        \n",
    "        # Increase step\n",
    "        cur_step += 1\n",
    "    \n",
    "        \n",
    "        \n",
    "# Shift + o  : To show scroll the ouput "
   ]
  },
  {
   "cell_type": "code",
   "execution_count": 10,
   "metadata": {},
   "outputs": [
    {
     "output_type": "error",
     "ename": "NameError",
     "evalue": "name 'torchvision' is not defined",
     "traceback": [
      "\u001b[1;31m---------------------------------------------------------------------------\u001b[0m",
      "\u001b[1;31mNameError\u001b[0m                                 Traceback (most recent call last)",
      "\u001b[1;32m<ipython-input-10-715261068c6a>\u001b[0m in \u001b[0;36m<module>\u001b[1;34m\u001b[0m\n\u001b[0;32m      9\u001b[0m     \u001b[0mwriter\u001b[0m\u001b[1;33m.\u001b[0m\u001b[0madd_image\u001b[0m\u001b[1;33m(\u001b[0m\u001b[0mlabel\u001b[0m\u001b[1;33m,\u001b[0m \u001b[0mimg_grid\u001b[0m\u001b[1;33m)\u001b[0m\u001b[1;33m\u001b[0m\u001b[1;33m\u001b[0m\u001b[0m\n\u001b[0;32m     10\u001b[0m \u001b[1;33m\u001b[0m\u001b[0m\n\u001b[1;32m---> 11\u001b[1;33m \u001b[0mlog_image_board\u001b[0m\u001b[1;33m(\u001b[0m\u001b[0mwriter\u001b[0m\u001b[1;33m,\u001b[0m\u001b[0mfake\u001b[0m\u001b[1;33m,\u001b[0m \u001b[1;34m'fake_0'\u001b[0m\u001b[1;33m)\u001b[0m\u001b[1;33m\u001b[0m\u001b[1;33m\u001b[0m\u001b[0m\n\u001b[0m",
      "\u001b[1;32m<ipython-input-10-715261068c6a>\u001b[0m in \u001b[0;36mlog_image_board\u001b[1;34m(writer, images, label)\u001b[0m\n\u001b[0;32m      1\u001b[0m \u001b[1;32mdef\u001b[0m \u001b[0mlog_image_board\u001b[0m\u001b[1;33m(\u001b[0m\u001b[0mwriter\u001b[0m\u001b[1;33m,\u001b[0m \u001b[0mimages\u001b[0m\u001b[1;33m,\u001b[0m \u001b[0mlabel\u001b[0m\u001b[1;33m)\u001b[0m\u001b[1;33m:\u001b[0m\u001b[1;33m\u001b[0m\u001b[1;33m\u001b[0m\u001b[0m\n\u001b[0;32m      2\u001b[0m     \u001b[1;31m# create grid of images\u001b[0m\u001b[1;33m\u001b[0m\u001b[1;33m\u001b[0m\u001b[1;33m\u001b[0m\u001b[0m\n\u001b[1;32m----> 3\u001b[1;33m     \u001b[0mimg_grid\u001b[0m \u001b[1;33m=\u001b[0m \u001b[0mtorchvision\u001b[0m\u001b[1;33m.\u001b[0m\u001b[0mutils\u001b[0m\u001b[1;33m.\u001b[0m\u001b[0mmake_grid\u001b[0m\u001b[1;33m(\u001b[0m\u001b[0mimages\u001b[0m\u001b[1;33m)\u001b[0m\u001b[1;33m\u001b[0m\u001b[1;33m\u001b[0m\u001b[0m\n\u001b[0m\u001b[0;32m      4\u001b[0m \u001b[1;33m\u001b[0m\u001b[0m\n\u001b[0;32m      5\u001b[0m     \u001b[1;31m# show images\u001b[0m\u001b[1;33m\u001b[0m\u001b[1;33m\u001b[0m\u001b[1;33m\u001b[0m\u001b[0m\n",
      "\u001b[1;31mNameError\u001b[0m: name 'torchvision' is not defined"
     ]
    }
   ],
   "source": [
    "\n",
    "def log_image_board(writer, images, label):\n",
    "    # create grid of images\n",
    "    img_grid = torchvision.utils.make_grid(images)\n",
    "\n",
    "    # show images\n",
    "    show_tensor_images(img_grid, show=False)\n",
    "\n",
    "    # write to tensorboard\n",
    "    writer.add_image(label, img_grid)\n",
    "\n",
    "log_image_board(writer,fake, 'fake_0')\n"
   ]
  },
  {
   "cell_type": "code",
   "execution_count": 11,
   "metadata": {},
   "outputs": [
    {
     "output_type": "execute_result",
     "data": {
      "text/plain": [
       "torch.Size([32, 1, 28, 28])"
      ]
     },
     "metadata": {},
     "execution_count": 11
    }
   ],
   "source": [
    "real = real.reshape(real.shape[0], 1, 28, 28)\n",
    "real.shape"
   ]
  },
  {
   "cell_type": "code",
   "execution_count": 12,
   "metadata": {},
   "outputs": [
    {
     "output_type": "execute_result",
     "data": {
      "text/plain": [
       "torch.Size([32, 5, 28, 28])"
      ]
     },
     "metadata": {},
     "execution_count": 12
    }
   ],
   "source": [
    "from markipy.nn.commons import get_conv2d_block\n",
    "cv1 = get_conv2d_block(1, 5, ks=5, normalize=False, activation=nn.LeakyReLU(0.2)).cuda()\n",
    "out1 = cv1(real)\n",
    "out1.shape\n"
   ]
  },
  {
   "cell_type": "code",
   "execution_count": 13,
   "metadata": {},
   "outputs": [
    {
     "output_type": "execute_result",
     "data": {
      "text/plain": [
       "torch.Size([32, 10, 26, 26])"
      ]
     },
     "metadata": {},
     "execution_count": 13
    }
   ],
   "source": [
    "cv2 = get_conv2d_block(5, 10, ks=5, normalize=False, activation=nn.LeakyReLU(0.2)).cuda()\n",
    "out2 = cv2(out1)\n",
    "m2 = nn.MaxPool2d((3, 3), stride=(1, 1))\n",
    "out2 = m2(out2)\n",
    "out2.shape"
   ]
  },
  {
   "cell_type": "code",
   "execution_count": 14,
   "metadata": {},
   "outputs": [
    {
     "output_type": "execute_result",
     "data": {
      "text/plain": [
       "torch.Size([32, 20, 24, 24])"
      ]
     },
     "metadata": {},
     "execution_count": 14
    }
   ],
   "source": [
    "cv3 = get_conv2d_block(10, 20, ks=5, normalize=False, activation=nn.LeakyReLU(0.2)).cuda()\n",
    "out3 = cv3(out2)\n",
    "m3 = nn.MaxPool2d((3, 3), stride=(1, 1))\n",
    "out3 = m2(out3)\n",
    "out3.shape"
   ]
  },
  {
   "cell_type": "code",
   "execution_count": 15,
   "metadata": {},
   "outputs": [
    {
     "output_type": "execute_result",
     "data": {
      "text/plain": [
       "torch.Size([32, 10, 22, 22])"
      ]
     },
     "metadata": {},
     "execution_count": 15
    }
   ],
   "source": [
    "cv4 = get_conv2d_block(20, 10, ks=5, normalize=False, activation=nn.LeakyReLU(0.2)).cuda()\n",
    "out4 = cv4(out3)\n",
    "m4 = nn.MaxPool2d((3, 3), stride=(1, 1))\n",
    "out4 = m4(out4)\n",
    "out4.shape"
   ]
  },
  {
   "cell_type": "code",
   "execution_count": 16,
   "metadata": {},
   "outputs": [
    {
     "output_type": "execute_result",
     "data": {
      "text/plain": [
       "torch.Size([32, 2, 20, 20])"
      ]
     },
     "metadata": {},
     "execution_count": 16
    }
   ],
   "source": [
    "cv5 = get_conv2d_block(10, 2, ks=5, normalize=False, activation=nn.LeakyReLU(0.2)).cuda()\n",
    "out5 = cv5(out4)\n",
    "m5 = nn.MaxPool2d((3, 3), stride=(1, 1))\n",
    "out5 = m5(out5)\n",
    "out5.shape"
   ]
  },
  {
   "cell_type": "code",
   "execution_count": 21,
   "metadata": {},
   "outputs": [
    {
     "output_type": "error",
     "ename": "RuntimeError",
     "evalue": "CUDA error: an illegal memory access was encountered",
     "traceback": [
      "\u001b[1;31m---------------------------------------------------------------------------\u001b[0m",
      "\u001b[1;31mRuntimeError\u001b[0m                              Traceback (most recent call last)",
      "\u001b[1;32m<ipython-input-21-96674dc62c20>\u001b[0m in \u001b[0;36m<module>\u001b[1;34m\u001b[0m\n\u001b[0;32m      4\u001b[0m \u001b[0mn_sampled\u001b[0m \u001b[1;33m=\u001b[0m \u001b[0mx\u001b[0m\u001b[1;33m.\u001b[0m\u001b[0mshape\u001b[0m\u001b[1;33m[\u001b[0m\u001b[1;36m0\u001b[0m\u001b[1;33m]\u001b[0m\u001b[1;33m\u001b[0m\u001b[1;33m\u001b[0m\u001b[0m\n\u001b[0;32m      5\u001b[0m \u001b[1;33m\u001b[0m\u001b[0m\n\u001b[1;32m----> 6\u001b[1;33m \u001b[0mcv1\u001b[0m \u001b[1;33m=\u001b[0m \u001b[0mget_conv2d_block\u001b[0m\u001b[1;33m(\u001b[0m\u001b[1;36m1\u001b[0m\u001b[1;33m,\u001b[0m \u001b[0moc\u001b[0m\u001b[1;33m,\u001b[0m \u001b[0mks\u001b[0m\u001b[1;33m=\u001b[0m\u001b[1;36m5\u001b[0m\u001b[1;33m,\u001b[0m \u001b[0mnormalize\u001b[0m\u001b[1;33m=\u001b[0m\u001b[1;32mFalse\u001b[0m\u001b[1;33m,\u001b[0m \u001b[0mactivation\u001b[0m\u001b[1;33m=\u001b[0m\u001b[0mnn\u001b[0m\u001b[1;33m.\u001b[0m\u001b[0mLeakyReLU\u001b[0m\u001b[1;33m(\u001b[0m\u001b[1;36m0.2\u001b[0m\u001b[1;33m)\u001b[0m\u001b[1;33m)\u001b[0m\u001b[1;33m.\u001b[0m\u001b[0mcuda\u001b[0m\u001b[1;33m(\u001b[0m\u001b[1;33m)\u001b[0m\u001b[1;33m\u001b[0m\u001b[1;33m\u001b[0m\u001b[0m\n\u001b[0m\u001b[0;32m      7\u001b[0m \u001b[0mm\u001b[0m \u001b[1;33m=\u001b[0m \u001b[0mnn\u001b[0m\u001b[1;33m.\u001b[0m\u001b[0mUpsample\u001b[0m\u001b[1;33m(\u001b[0m\u001b[0mscale_factor\u001b[0m\u001b[1;33m=\u001b[0m\u001b[1;36m1.2\u001b[0m\u001b[1;33m,\u001b[0m \u001b[0mmode\u001b[0m\u001b[1;33m=\u001b[0m\u001b[1;34m'bilinear'\u001b[0m\u001b[1;33m)\u001b[0m\u001b[1;33m.\u001b[0m\u001b[0mcuda\u001b[0m\u001b[1;33m(\u001b[0m\u001b[1;33m)\u001b[0m\u001b[1;33m\u001b[0m\u001b[1;33m\u001b[0m\u001b[0m\n\u001b[0;32m      8\u001b[0m \u001b[0mf\u001b[0m \u001b[1;33m=\u001b[0m \u001b[0mnn\u001b[0m\u001b[1;33m.\u001b[0m\u001b[0mFlatten\u001b[0m\u001b[1;33m(\u001b[0m\u001b[1;36m2\u001b[0m\u001b[1;33m)\u001b[0m\u001b[1;33m.\u001b[0m\u001b[0mcuda\u001b[0m\u001b[1;33m(\u001b[0m\u001b[1;33m)\u001b[0m\u001b[1;33m\u001b[0m\u001b[1;33m\u001b[0m\u001b[0m\n",
      "\u001b[1;32m~\\miniconda3\\lib\\site-packages\\torch\\nn\\modules\\module.py\u001b[0m in \u001b[0;36mcuda\u001b[1;34m(self, device)\u001b[0m\n\u001b[0;32m    456\u001b[0m             \u001b[0mModule\u001b[0m\u001b[1;33m:\u001b[0m \u001b[0mself\u001b[0m\u001b[1;33m\u001b[0m\u001b[1;33m\u001b[0m\u001b[0m\n\u001b[0;32m    457\u001b[0m         \"\"\"\n\u001b[1;32m--> 458\u001b[1;33m         \u001b[1;32mreturn\u001b[0m \u001b[0mself\u001b[0m\u001b[1;33m.\u001b[0m\u001b[0m_apply\u001b[0m\u001b[1;33m(\u001b[0m\u001b[1;32mlambda\u001b[0m \u001b[0mt\u001b[0m\u001b[1;33m:\u001b[0m \u001b[0mt\u001b[0m\u001b[1;33m.\u001b[0m\u001b[0mcuda\u001b[0m\u001b[1;33m(\u001b[0m\u001b[0mdevice\u001b[0m\u001b[1;33m)\u001b[0m\u001b[1;33m)\u001b[0m\u001b[1;33m\u001b[0m\u001b[1;33m\u001b[0m\u001b[0m\n\u001b[0m\u001b[0;32m    459\u001b[0m \u001b[1;33m\u001b[0m\u001b[0m\n\u001b[0;32m    460\u001b[0m     \u001b[1;32mdef\u001b[0m \u001b[0mcpu\u001b[0m\u001b[1;33m(\u001b[0m\u001b[0mself\u001b[0m\u001b[1;33m:\u001b[0m \u001b[0mT\u001b[0m\u001b[1;33m)\u001b[0m \u001b[1;33m->\u001b[0m \u001b[0mT\u001b[0m\u001b[1;33m:\u001b[0m\u001b[1;33m\u001b[0m\u001b[1;33m\u001b[0m\u001b[0m\n",
      "\u001b[1;32m~\\miniconda3\\lib\\site-packages\\torch\\nn\\modules\\module.py\u001b[0m in \u001b[0;36m_apply\u001b[1;34m(self, fn)\u001b[0m\n\u001b[0;32m    352\u001b[0m     \u001b[1;32mdef\u001b[0m \u001b[0m_apply\u001b[0m\u001b[1;33m(\u001b[0m\u001b[0mself\u001b[0m\u001b[1;33m,\u001b[0m \u001b[0mfn\u001b[0m\u001b[1;33m)\u001b[0m\u001b[1;33m:\u001b[0m\u001b[1;33m\u001b[0m\u001b[1;33m\u001b[0m\u001b[0m\n\u001b[0;32m    353\u001b[0m         \u001b[1;32mfor\u001b[0m \u001b[0mmodule\u001b[0m \u001b[1;32min\u001b[0m \u001b[0mself\u001b[0m\u001b[1;33m.\u001b[0m\u001b[0mchildren\u001b[0m\u001b[1;33m(\u001b[0m\u001b[1;33m)\u001b[0m\u001b[1;33m:\u001b[0m\u001b[1;33m\u001b[0m\u001b[1;33m\u001b[0m\u001b[0m\n\u001b[1;32m--> 354\u001b[1;33m             \u001b[0mmodule\u001b[0m\u001b[1;33m.\u001b[0m\u001b[0m_apply\u001b[0m\u001b[1;33m(\u001b[0m\u001b[0mfn\u001b[0m\u001b[1;33m)\u001b[0m\u001b[1;33m\u001b[0m\u001b[1;33m\u001b[0m\u001b[0m\n\u001b[0m\u001b[0;32m    355\u001b[0m \u001b[1;33m\u001b[0m\u001b[0m\n\u001b[0;32m    356\u001b[0m         \u001b[1;32mdef\u001b[0m \u001b[0mcompute_should_use_set_data\u001b[0m\u001b[1;33m(\u001b[0m\u001b[0mtensor\u001b[0m\u001b[1;33m,\u001b[0m \u001b[0mtensor_applied\u001b[0m\u001b[1;33m)\u001b[0m\u001b[1;33m:\u001b[0m\u001b[1;33m\u001b[0m\u001b[1;33m\u001b[0m\u001b[0m\n",
      "\u001b[1;32m~\\miniconda3\\lib\\site-packages\\torch\\nn\\modules\\module.py\u001b[0m in \u001b[0;36m_apply\u001b[1;34m(self, fn)\u001b[0m\n\u001b[0;32m    374\u001b[0m                 \u001b[1;31m# `with torch.no_grad():`\u001b[0m\u001b[1;33m\u001b[0m\u001b[1;33m\u001b[0m\u001b[1;33m\u001b[0m\u001b[0m\n\u001b[0;32m    375\u001b[0m                 \u001b[1;32mwith\u001b[0m \u001b[0mtorch\u001b[0m\u001b[1;33m.\u001b[0m\u001b[0mno_grad\u001b[0m\u001b[1;33m(\u001b[0m\u001b[1;33m)\u001b[0m\u001b[1;33m:\u001b[0m\u001b[1;33m\u001b[0m\u001b[1;33m\u001b[0m\u001b[0m\n\u001b[1;32m--> 376\u001b[1;33m                     \u001b[0mparam_applied\u001b[0m \u001b[1;33m=\u001b[0m \u001b[0mfn\u001b[0m\u001b[1;33m(\u001b[0m\u001b[0mparam\u001b[0m\u001b[1;33m)\u001b[0m\u001b[1;33m\u001b[0m\u001b[1;33m\u001b[0m\u001b[0m\n\u001b[0m\u001b[0;32m    377\u001b[0m                 \u001b[0mshould_use_set_data\u001b[0m \u001b[1;33m=\u001b[0m \u001b[0mcompute_should_use_set_data\u001b[0m\u001b[1;33m(\u001b[0m\u001b[0mparam\u001b[0m\u001b[1;33m,\u001b[0m \u001b[0mparam_applied\u001b[0m\u001b[1;33m)\u001b[0m\u001b[1;33m\u001b[0m\u001b[1;33m\u001b[0m\u001b[0m\n\u001b[0;32m    378\u001b[0m                 \u001b[1;32mif\u001b[0m \u001b[0mshould_use_set_data\u001b[0m\u001b[1;33m:\u001b[0m\u001b[1;33m\u001b[0m\u001b[1;33m\u001b[0m\u001b[0m\n",
      "\u001b[1;32m~\\miniconda3\\lib\\site-packages\\torch\\nn\\modules\\module.py\u001b[0m in \u001b[0;36m<lambda>\u001b[1;34m(t)\u001b[0m\n\u001b[0;32m    456\u001b[0m             \u001b[0mModule\u001b[0m\u001b[1;33m:\u001b[0m \u001b[0mself\u001b[0m\u001b[1;33m\u001b[0m\u001b[1;33m\u001b[0m\u001b[0m\n\u001b[0;32m    457\u001b[0m         \"\"\"\n\u001b[1;32m--> 458\u001b[1;33m         \u001b[1;32mreturn\u001b[0m \u001b[0mself\u001b[0m\u001b[1;33m.\u001b[0m\u001b[0m_apply\u001b[0m\u001b[1;33m(\u001b[0m\u001b[1;32mlambda\u001b[0m \u001b[0mt\u001b[0m\u001b[1;33m:\u001b[0m \u001b[0mt\u001b[0m\u001b[1;33m.\u001b[0m\u001b[0mcuda\u001b[0m\u001b[1;33m(\u001b[0m\u001b[0mdevice\u001b[0m\u001b[1;33m)\u001b[0m\u001b[1;33m)\u001b[0m\u001b[1;33m\u001b[0m\u001b[1;33m\u001b[0m\u001b[0m\n\u001b[0m\u001b[0;32m    459\u001b[0m \u001b[1;33m\u001b[0m\u001b[0m\n\u001b[0;32m    460\u001b[0m     \u001b[1;32mdef\u001b[0m \u001b[0mcpu\u001b[0m\u001b[1;33m(\u001b[0m\u001b[0mself\u001b[0m\u001b[1;33m:\u001b[0m \u001b[0mT\u001b[0m\u001b[1;33m)\u001b[0m \u001b[1;33m->\u001b[0m \u001b[0mT\u001b[0m\u001b[1;33m:\u001b[0m\u001b[1;33m\u001b[0m\u001b[1;33m\u001b[0m\u001b[0m\n",
      "\u001b[1;31mRuntimeError\u001b[0m: CUDA error: an illegal memory access was encountered"
     ]
    }
   ],
   "source": [
    "\n",
    "\n",
    "from markipy.nn.commons import get_conv2d_block\n",
    "oc = 5\n",
    "\n",
    "n_sampled = x.shape[0]\n",
    "\n",
    "cv1 = get_conv2d_block(1, oc, ks=5, normalize=False, activation=nn.LeakyReLU(0.2)).cuda()\n",
    "m = nn.Upsample(scale_factor=1.2, mode='bilinear').cuda()\n",
    "f = nn.Flatten(2).cuda()\n",
    "\n",
    "x = real        ;print('Input  \\t\\t', x.shape)\n",
    "x = m(x)        ;print('Upsampled  \\t\\t', x.shape)\n",
    "x = cv1(x)      ;print('Conv2d  \\t\\t', x.shape)\n",
    "x = f(x)        ;print('Flatten  \\t\\t', x.shape)\n",
    "\n",
    "\n",
    "Ln = [nn.Linear(1089, 800) for n in range(oc)]\n",
    "Xn = torch.zeros(n_sample, oc, 800) # Pilars\n",
    "\n",
    "\n",
    "for xi in range(oc):\n",
    "    \n",
    "    Xn[:xi] = Ln[xi](x[:,:1].view(n_sampled,1089))         ; print(f'Linear {xi + 1} \\t\\t', Xn[xi])\n",
    "\n",
    "\n",
    "\n",
    "\n"
   ]
  },
  {
   "cell_type": "code",
   "execution_count": 56,
   "metadata": {},
   "outputs": [],
   "source": [
    "f = nn.Flatten(2)\n"
   ]
  },
  {
   "cell_type": "code",
   "execution_count": 59,
   "metadata": {},
   "outputs": [
    {
     "output_type": "execute_result",
     "data": {
      "text/plain": [
       "torch.Size([32, 5, 1089])"
      ]
     },
     "metadata": {},
     "execution_count": 59
    }
   ],
   "source": [
    "f(t2).shape"
   ]
  },
  {
   "cell_type": "code",
   "execution_count": 69,
   "metadata": {},
   "outputs": [
    {
     "output_type": "execute_result",
     "data": {
      "text/plain": [
       "torch.Size([32, 5, 1089])"
      ]
     },
     "metadata": {},
     "execution_count": 69
    }
   ],
   "source": [
    "x.shape"
   ]
  },
  {
   "cell_type": "code",
   "execution_count": 78,
   "metadata": {},
   "outputs": [
    {
     "output_type": "execute_result",
     "data": {
      "text/plain": [
       "torch.Size([1, 1, 1089])"
      ]
     },
     "metadata": {},
     "execution_count": 78
    }
   ],
   "source": [
    "x[:1,:1].shape\n",
    "\n"
   ]
  },
  {
   "cell_type": "code",
   "execution_count": 81,
   "metadata": {},
   "outputs": [
    {
     "output_type": "execute_result",
     "data": {
      "text/plain": [
       "torch.Size([1, 1, 1089])"
      ]
     },
     "metadata": {},
     "execution_count": 81
    }
   ],
   "source": [
    "torch.zero_like(x[0:1,]).shape"
   ]
  },
  {
   "cell_type": "code",
   "execution_count": 92,
   "metadata": {},
   "outputs": [
    {
     "output_type": "execute_result",
     "data": {
      "text/plain": [
       "torch.Size([32, 1, 1089])"
      ]
     },
     "metadata": {},
     "execution_count": 92
    }
   ],
   "source": [
    "x[:,:1].shape"
   ]
  },
  {
   "cell_type": "code",
   "execution_count": 84,
   "metadata": {},
   "outputs": [
    {
     "output_type": "execute_result",
     "data": {
      "text/plain": [
       "tensor([0.1788, 0.1788, 0.1788,  ..., 0.1788, 0.1788, 0.1788], device='cuda:0',\n",
       "       grad_fn=<ViewBackward>)"
      ]
     },
     "metadata": {},
     "execution_count": 84
    }
   ],
   "source": [
    "x[:1,:1].reshape(1089)"
   ]
  },
  {
   "cell_type": "code",
   "execution_count": 99,
   "metadata": {},
   "outputs": [
    {
     "output_type": "execute_result",
     "data": {
      "text/plain": [
       "torch.Size([32, 1089])"
      ]
     },
     "metadata": {},
     "execution_count": 99
    }
   ],
   "source": [
    "x[:,:1].view(n_sampled,1089).shape"
   ]
  },
  {
   "cell_type": "code",
   "execution_count": 20,
   "metadata": {},
   "outputs": [
    {
     "output_type": "execute_result",
     "data": {
      "text/plain": [
       "torch.Size([1, 800])"
      ]
     },
     "metadata": {},
     "execution_count": 20
    }
   ],
   "source": [
    "t = torch.zeros(5,800)\n",
    "t[:1].shape"
   ]
  },
  {
   "cell_type": "code",
   "execution_count": null,
   "metadata": {},
   "outputs": [],
   "source": []
  }
 ],
 "metadata": {
  "kernelspec": {
   "display_name": "Python 3",
   "language": "python",
   "name": "python3"
  },
  "language_info": {
   "codemirror_mode": {
    "name": "ipython",
    "version": 3
   },
   "file_extension": ".py",
   "mimetype": "text/x-python",
   "name": "python",
   "nbconvert_exporter": "python",
   "pygments_lexer": "ipython3",
   "version": "3.8.3-final"
  }
 },
 "nbformat": 4,
 "nbformat_minor": 4
}