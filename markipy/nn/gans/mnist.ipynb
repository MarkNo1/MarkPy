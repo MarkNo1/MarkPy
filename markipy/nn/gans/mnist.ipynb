{
 "cells": [
  {
   "cell_type": "markdown",
   "metadata": {},
   "source": [
    "##### Expand View\n"
   ]
  },
  {
   "cell_type": "code",
   "execution_count": 1,
   "metadata": {},
   "outputs": [
    {
     "output_type": "display_data",
     "data": {
      "text/plain": "<IPython.core.display.HTML object>",
      "text/html": "<style>.container { width:88% !important; }</style>"
     },
     "metadata": {}
    }
   ],
   "source": [
    "from IPython.core.display import display, HTML\n",
    "display(HTML(\"<style>.container { width:88% !important; }</style>\"))"
   ]
  },
  {
   "cell_type": "code",
   "execution_count": 2,
   "metadata": {},
   "outputs": [
    {
     "output_type": "stream",
     "name": "stdout",
     "text": [
      "Logs at: runs/MNIST_0.31.2020.10.26#2\n"
     ]
    }
   ],
   "source": [
    "# Exploring MNIST Gans\n",
    "\n",
    "import torch\n",
    "from torch import nn\n",
    "from tqdm.auto import tqdm\n",
    "from torchvision import transforms\n",
    "from torchvision.datasets import MNIST  # Training dataset\n",
    "from torchvision.utils import make_grid\n",
    "from torch.utils.data import DataLoader\n",
    "from torch.utils.tensorboard import SummaryWriter\n",
    "from pathlib import Path\n",
    "\n",
    "# default `log_dir` is \"runs\" - we'll be more specific here\n",
    "writer = SummaryWriter('runs/mnist_01')\n",
    "\n",
    "import matplotlib.pyplot as plt\n",
    "# import wandb\n",
    "\n",
    "from markipy.nn.gans.generatorMark import get_gen_loss, Generator\n",
    "from markipy.nn.gans.discriminator import get_disc_loss, Discriminator\n",
    "from markipy.nn.commons import show_tensor_images, make_noise\n",
    "from markipy.basic import date\n",
    "\n",
    "\n",
    "torch.manual_seed(0)  # Set for testing purposes, please do not change!\n",
    "\n",
    "PROJECT=\"MNIST\"\n",
    "VERSIONE=\"0.31\"\n",
    "RUN=\"3\"\n",
    "\n",
    "# default `log_dir` is \"runs\" - we'll be more specific here\\\n",
    "logs=f'runs/{PROJECT}_{VERSIONE}.{date()}#{RUN}'\n",
    "\n",
    "writer = SummaryWriter(logs)\n",
    "print(f\"Logs at: {logs}\")\n"
   ]
  },
  {
   "cell_type": "markdown",
   "metadata": {},
   "source": [
    "## Hyperparameters"
   ]
  },
  {
   "cell_type": "code",
   "execution_count": 3,
   "metadata": {},
   "outputs": [],
   "source": [
    "    # Mnist Playground\n",
    "    device = torch.device('cpu')\n",
    "    n_epochs = 1\n",
    "    noise_c = 1 \n",
    "    noise_w = noise_b = 28\n",
    "    z_dim = (noise_c, noise_w, noise_b)\n",
    "    display_step = 468\n",
    "    log_step = 10\n",
    "    batch_size = 32\n",
    "    lr = 0.00001\n",
    "    cur_step = 0\n",
    "    mean_generator_loss = 0\n",
    "    mean_discriminator_loss = 0\n",
    "    test_generator = False  # Whether the generator should be tested\n",
    "    gen_loss = False\n",
    "    error = False"
   ]
  },
  {
   "cell_type": "markdown",
   "metadata": {},
   "source": [
    "## Load Data"
   ]
  },
  {
   "cell_type": "code",
   "execution_count": 4,
   "metadata": {},
   "outputs": [],
   "source": [
    "    # Load MNIST dataset as tensors\n",
    "    dataloader = DataLoader(\n",
    "        MNIST('.', download=True, transform=transforms.ToTensor()),\n",
    "        batch_size=batch_size,\n",
    "        shuffle=True)"
   ]
  },
  {
   "cell_type": "markdown",
   "metadata": {},
   "source": [
    "## Core"
   ]
  },
  {
   "cell_type": "code",
   "execution_count": 5,
   "metadata": {},
   "outputs": [],
   "source": [
    "    criterion = nn.BCEWithLogitsLoss()\n",
    "    gen = Generator(noise_c, device=device).to(device)\n",
    "    gen_opt = torch.optim.Adam(gen.parameters(), lr=lr)\n",
    "    disc = Discriminator().to(device)\n",
    "    disc_opt = torch.optim.Adam(disc.parameters(), lr=lr)"
   ]
  },
  {
   "source": [
    "# Generator Details"
   ],
   "cell_type": "markdown",
   "metadata": {}
  },
  {
   "cell_type": "code",
   "execution_count": 6,
   "metadata": {},
   "outputs": [
    {
     "output_type": "stream",
     "name": "stdout",
     "text": [
      "---------------------------------------------------------------------------------------------\n",
      "      Layer (type)                               Input Shape         Param #     Tr. Param #\n",
      "=============================================================================================\n",
      "        Upsample-1                            [1, 1, 28, 28]               0               0\n",
      "          Conv2d-2                            [1, 1, 33, 33]             130             130\n",
      "     BatchNorm2d-3                            [1, 5, 33, 33]              10              10\n",
      "       LeakyReLU-4                            [1, 5, 33, 33]               0               0\n",
      "         Flatten-5                            [1, 5, 33, 33]               0               0\n",
      "            LSTM-6     [5, 1, 400], [2, 1, 400], [2, 1, 400]       2,566,400       2,566,400\n",
      "       AvgPool2d-7                               [1, 5, 800]               0               0\n",
      "          Conv2d-8                            [1, 2, 20, 20]              51              51\n",
      "     BatchNorm2d-9                            [1, 1, 24, 24]               2               2\n",
      "      LeakyReLU-10                            [1, 1, 24, 24]               0               0\n",
      "         Conv2d-11                            [1, 1, 24, 24]              26              26\n",
      "    BatchNorm2d-12                            [1, 1, 28, 28]               2               2\n",
      "      LeakyReLU-13                            [1, 1, 28, 28]               0               0\n",
      "=============================================================================================\n",
      "Total params: 2,566,621\n",
      "Trainable params: 2,566,621\n",
      "Non-trainable params: 0\n",
      "---------------------------------------------------------------------------------------------\n",
      "---------------------------------------------------------------------------------------------\n",
      "      Layer (type)                              Output Shape         Param #     Tr. Param #\n",
      "=============================================================================================\n",
      "        Upsample-1                            [1, 1, 33, 33]               0               0\n",
      "          Conv2d-2                            [1, 5, 33, 33]             130             130\n",
      "     BatchNorm2d-3                            [1, 5, 33, 33]              10              10\n",
      "       LeakyReLU-4                            [1, 5, 33, 33]               0               0\n",
      "         Flatten-5                              [1, 5, 1089]               0               0\n",
      "            LSTM-6     [5, 1, 800], [2, 1, 400], [2, 1, 400]       2,566,400       2,566,400\n",
      "       AvgPool2d-7                               [1, 2, 400]               0               0\n",
      "          Conv2d-8                            [1, 1, 24, 24]              51              51\n",
      "     BatchNorm2d-9                            [1, 1, 24, 24]               2               2\n",
      "      LeakyReLU-10                            [1, 1, 24, 24]               0               0\n",
      "         Conv2d-11                            [1, 1, 28, 28]              26              26\n",
      "    BatchNorm2d-12                            [1, 1, 28, 28]               2               2\n",
      "      LeakyReLU-13                            [1, 1, 28, 28]               0               0\n",
      "=============================================================================================\n",
      "Total params: 2,566,621\n",
      "Trainable params: 2,566,621\n",
      "Non-trainable params: 0\n",
      "---------------------------------------------------------------------------------------------\n"
     ]
    }
   ],
   "source": [
    "from pytorch_model_summary import summary\n",
    "n_sample = 1\n",
    "noise_input = make_noise( n_sample, (noise_c, noise_w, noise_b), device=device)\n",
    "\n",
    "print(summary(gen, noise_input,  show_input=True))\n",
    "print(summary(gen, noise_input,  show_input=False))"
   ]
  },
  {
   "source": [
    "# Discriminator Details"
   ],
   "cell_type": "markdown",
   "metadata": {}
  },
  {
   "cell_type": "code",
   "execution_count": 7,
   "metadata": {},
   "outputs": [
    {
     "output_type": "stream",
     "name": "stdout",
     "text": [
      "-----------------------------------------------------------------------\n      Layer (type)         Input Shape         Param #     Tr. Param #\n=======================================================================\n          Conv2d-1      [1, 1, 28, 28]             260             260\n       LeakyReLU-2     [1, 10, 28, 28]               0               0\n       MaxPool2d-3     [1, 10, 28, 28]               0               0\n          Conv2d-4     [1, 10, 26, 26]           5,020           5,020\n       LeakyReLU-5     [1, 20, 26, 26]               0               0\n       MaxPool2d-6     [1, 20, 26, 26]               0               0\n          Conv2d-7     [1, 20, 24, 24]          15,030          15,030\n       LeakyReLU-8     [1, 30, 24, 24]               0               0\n       MaxPool2d-9     [1, 30, 24, 24]               0               0\n         Conv2d-10     [1, 30, 22, 22]           1,502           1,502\n      LeakyReLU-11      [1, 2, 22, 22]               0               0\n      MaxPool2d-12      [1, 2, 22, 22]               0               0\n        Flatten-13      [1, 2, 20, 20]               0               0\n         Linear-14            [1, 800]         627,984         627,984\n=======================================================================\nTotal params: 649,796\nTrainable params: 649,796\nNon-trainable params: 0\n-----------------------------------------------------------------------\n-----------------------------------------------------------------------\n      Layer (type)        Output Shape         Param #     Tr. Param #\n=======================================================================\n          Conv2d-1     [1, 10, 28, 28]             260             260\n       LeakyReLU-2     [1, 10, 28, 28]               0               0\n       MaxPool2d-3     [1, 10, 26, 26]               0               0\n          Conv2d-4     [1, 20, 26, 26]           5,020           5,020\n       LeakyReLU-5     [1, 20, 26, 26]               0               0\n       MaxPool2d-6     [1, 20, 24, 24]               0               0\n          Conv2d-7     [1, 30, 24, 24]          15,030          15,030\n       LeakyReLU-8     [1, 30, 24, 24]               0               0\n       MaxPool2d-9     [1, 30, 22, 22]               0               0\n         Conv2d-10      [1, 2, 22, 22]           1,502           1,502\n      LeakyReLU-11      [1, 2, 22, 22]               0               0\n      MaxPool2d-12      [1, 2, 20, 20]               0               0\n        Flatten-13            [1, 800]               0               0\n         Linear-14            [1, 784]         627,984         627,984\n=======================================================================\nTotal params: 649,796\nTrainable params: 649,796\nNon-trainable params: 0\n-----------------------------------------------------------------------\n"
     ]
    }
   ],
   "source": [
    "from pytorch_model_summary import summary\n",
    "n_sample = 1\n",
    "_input = make_noise( n_sample, ( 1, 28 * 28), device=device)\n",
    "\n",
    "print(summary(disc, _input,  show_input=True))\n",
    "print(summary(disc, _input,  show_input=False))"
   ]
  },
  {
   "cell_type": "markdown",
   "metadata": {},
   "source": [
    "## View Input Data"
   ]
  },
  {
   "cell_type": "code",
   "execution_count": 8,
   "metadata": {},
   "outputs": [
    {
     "output_type": "display_data",
     "data": {
      "text/plain": "<Figure size 432x288 with 1 Axes>",
      "image/svg+xml": "<?xml version=\"1.0\" encoding=\"utf-8\" standalone=\"no\"?>\r\n<!DOCTYPE svg PUBLIC \"-//W3C//DTD SVG 1.1//EN\"\r\n  \"http://www.w3.org/Graphics/SVG/1.1/DTD/svg11.dtd\">\r\n<!-- Created with matplotlib (https://matplotlib.org/) -->\r\n<svg height=\"251.602081pt\" version=\"1.1\" viewBox=\"0 0 265.325461 251.602081\" width=\"265.325461pt\" xmlns=\"http://www.w3.org/2000/svg\" xmlns:xlink=\"http://www.w3.org/1999/xlink\">\r\n <metadata>\r\n  <rdf:RDF xmlns:cc=\"http://creativecommons.org/ns#\" xmlns:dc=\"http://purl.org/dc/elements/1.1/\" xmlns:rdf=\"http://www.w3.org/1999/02/22-rdf-syntax-ns#\">\r\n   <cc:Work>\r\n    <dc:type rdf:resource=\"http://purl.org/dc/dcmitype/StillImage\"/>\r\n    <dc:date>2020-10-26T23:54:56.304096</dc:date>\r\n    <dc:format>image/svg+xml</dc:format>\r\n    <dc:creator>\r\n     <cc:Agent>\r\n      <dc:title>Matplotlib v3.3.2, https://matplotlib.org/</dc:title>\r\n     </cc:Agent>\r\n    </dc:creator>\r\n   </cc:Work>\r\n  </rdf:RDF>\r\n </metadata>\r\n <defs>\r\n  <style type=\"text/css\">*{stroke-linecap:butt;stroke-linejoin:round;}</style>\r\n </defs>\r\n <g id=\"figure_1\">\r\n  <g id=\"patch_1\">\r\n   <path d=\"M 0 251.602081 \r\nL 265.325461 251.602081 \r\nL 265.325461 0 \r\nL 0 0 \r\nz\r\n\" style=\"fill:none;\"/>\r\n  </g>\r\n  <g id=\"axes_1\">\r\n   <g id=\"patch_2\">\r\n    <path d=\"M 33.2875 227.723956 \r\nL 250.7275 227.723956 \r\nL 250.7275 10.283956 \r\nL 33.2875 10.283956 \r\nz\r\n\" style=\"fill:#ffffff;\"/>\r\n   </g>\r\n   <g clip-path=\"url(#p293945c67f)\">\r\n    <image height=\"218\" id=\"image252e615d93\" transform=\"scale(1 -1)translate(0 -218)\" width=\"218\" x=\"33.2875\" xlink:href=\"data:image/png;base64,\r\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\" y=\"-9.723956\"/>\r\n   </g>\r\n   <g id=\"matplotlib.axis_1\">\r\n    <g id=\"xtick_1\">\r\n     <g id=\"line2d_1\">\r\n      <defs>\r\n       <path d=\"M 0 0 \r\nL 0 3.5 \r\n\" id=\"m62c89dd17e\" style=\"stroke:#000000;stroke-width:0.8;\"/>\r\n      </defs>\r\n      <g>\r\n       <use style=\"stroke:#000000;stroke-width:0.8;\" x=\"34.002763\" xlink:href=\"#m62c89dd17e\" y=\"227.723956\"/>\r\n      </g>\r\n     </g>\r\n     <g id=\"text_1\">\r\n      <!-- 0 -->\r\n      <g transform=\"translate(30.821513 242.322393)scale(0.1 -0.1)\">\r\n       <defs>\r\n        <path d=\"M 31.78125 66.40625 \r\nQ 24.171875 66.40625 20.328125 58.90625 \r\nQ 16.5 51.421875 16.5 36.375 \r\nQ 16.5 21.390625 20.328125 13.890625 \r\nQ 24.171875 6.390625 31.78125 6.390625 \r\nQ 39.453125 6.390625 43.28125 13.890625 \r\nQ 47.125 21.390625 47.125 36.375 \r\nQ 47.125 51.421875 43.28125 58.90625 \r\nQ 39.453125 66.40625 31.78125 66.40625 \r\nz\r\nM 31.78125 74.21875 \r\nQ 44.046875 74.21875 50.515625 64.515625 \r\nQ 56.984375 54.828125 56.984375 36.375 \r\nQ 56.984375 17.96875 50.515625 8.265625 \r\nQ 44.046875 -1.421875 31.78125 -1.421875 \r\nQ 19.53125 -1.421875 13.0625 8.265625 \r\nQ 6.59375 17.96875 6.59375 36.375 \r\nQ 6.59375 54.828125 13.0625 64.515625 \r\nQ 19.53125 74.21875 31.78125 74.21875 \r\nz\r\n\" id=\"DejaVuSans-48\"/>\r\n       </defs>\r\n       <use xlink:href=\"#DejaVuSans-48\"/>\r\n      </g>\r\n     </g>\r\n    </g>\r\n    <g id=\"xtick_2\">\r\n     <g id=\"line2d_2\">\r\n      <g>\r\n       <use style=\"stroke:#000000;stroke-width:0.8;\" x=\"69.765921\" xlink:href=\"#m62c89dd17e\" y=\"227.723956\"/>\r\n      </g>\r\n     </g>\r\n     <g id=\"text_2\">\r\n      <!-- 25 -->\r\n      <g transform=\"translate(63.403421 242.322393)scale(0.1 -0.1)\">\r\n       <defs>\r\n        <path d=\"M 19.1875 8.296875 \r\nL 53.609375 8.296875 \r\nL 53.609375 0 \r\nL 7.328125 0 \r\nL 7.328125 8.296875 \r\nQ 12.9375 14.109375 22.625 23.890625 \r\nQ 32.328125 33.6875 34.8125 36.53125 \r\nQ 39.546875 41.84375 41.421875 45.53125 \r\nQ 43.3125 49.21875 43.3125 52.78125 \r\nQ 43.3125 58.59375 39.234375 62.25 \r\nQ 35.15625 65.921875 28.609375 65.921875 \r\nQ 23.96875 65.921875 18.8125 64.3125 \r\nQ 13.671875 62.703125 7.8125 59.421875 \r\nL 7.8125 69.390625 \r\nQ 13.765625 71.78125 18.9375 73 \r\nQ 24.125 74.21875 28.421875 74.21875 \r\nQ 39.75 74.21875 46.484375 68.546875 \r\nQ 53.21875 62.890625 53.21875 53.421875 \r\nQ 53.21875 48.921875 51.53125 44.890625 \r\nQ 49.859375 40.875 45.40625 35.40625 \r\nQ 44.1875 33.984375 37.640625 27.21875 \r\nQ 31.109375 20.453125 19.1875 8.296875 \r\nz\r\n\" id=\"DejaVuSans-50\"/>\r\n        <path d=\"M 10.796875 72.90625 \r\nL 49.515625 72.90625 \r\nL 49.515625 64.59375 \r\nL 19.828125 64.59375 \r\nL 19.828125 46.734375 \r\nQ 21.96875 47.46875 24.109375 47.828125 \r\nQ 26.265625 48.1875 28.421875 48.1875 \r\nQ 40.625 48.1875 47.75 41.5 \r\nQ 54.890625 34.8125 54.890625 23.390625 \r\nQ 54.890625 11.625 47.5625 5.09375 \r\nQ 40.234375 -1.421875 26.90625 -1.421875 \r\nQ 22.3125 -1.421875 17.546875 -0.640625 \r\nQ 12.796875 0.140625 7.71875 1.703125 \r\nL 7.71875 11.625 \r\nQ 12.109375 9.234375 16.796875 8.0625 \r\nQ 21.484375 6.890625 26.703125 6.890625 \r\nQ 35.15625 6.890625 40.078125 11.328125 \r\nQ 45.015625 15.765625 45.015625 23.390625 \r\nQ 45.015625 31 40.078125 35.4375 \r\nQ 35.15625 39.890625 26.703125 39.890625 \r\nQ 22.75 39.890625 18.8125 39.015625 \r\nQ 14.890625 38.140625 10.796875 36.28125 \r\nz\r\n\" id=\"DejaVuSans-53\"/>\r\n       </defs>\r\n       <use xlink:href=\"#DejaVuSans-50\"/>\r\n       <use x=\"63.623047\" xlink:href=\"#DejaVuSans-53\"/>\r\n      </g>\r\n     </g>\r\n    </g>\r\n    <g id=\"xtick_3\">\r\n     <g id=\"line2d_3\">\r\n      <g>\r\n       <use style=\"stroke:#000000;stroke-width:0.8;\" x=\"105.529079\" xlink:href=\"#m62c89dd17e\" y=\"227.723956\"/>\r\n      </g>\r\n     </g>\r\n     <g id=\"text_3\">\r\n      <!-- 50 -->\r\n      <g transform=\"translate(99.166579 242.322393)scale(0.1 -0.1)\">\r\n       <use xlink:href=\"#DejaVuSans-53\"/>\r\n       <use x=\"63.623047\" xlink:href=\"#DejaVuSans-48\"/>\r\n      </g>\r\n     </g>\r\n    </g>\r\n    <g id=\"xtick_4\">\r\n     <g id=\"line2d_4\">\r\n      <g>\r\n       <use style=\"stroke:#000000;stroke-width:0.8;\" x=\"141.292237\" xlink:href=\"#m62c89dd17e\" y=\"227.723956\"/>\r\n      </g>\r\n     </g>\r\n     <g id=\"text_4\">\r\n      <!-- 75 -->\r\n      <g transform=\"translate(134.929737 242.322393)scale(0.1 -0.1)\">\r\n       <defs>\r\n        <path d=\"M 8.203125 72.90625 \r\nL 55.078125 72.90625 \r\nL 55.078125 68.703125 \r\nL 28.609375 0 \r\nL 18.3125 0 \r\nL 43.21875 64.59375 \r\nL 8.203125 64.59375 \r\nz\r\n\" id=\"DejaVuSans-55\"/>\r\n       </defs>\r\n       <use xlink:href=\"#DejaVuSans-55\"/>\r\n       <use x=\"63.623047\" xlink:href=\"#DejaVuSans-53\"/>\r\n      </g>\r\n     </g>\r\n    </g>\r\n    <g id=\"xtick_5\">\r\n     <g id=\"line2d_5\">\r\n      <g>\r\n       <use style=\"stroke:#000000;stroke-width:0.8;\" x=\"177.055395\" xlink:href=\"#m62c89dd17e\" y=\"227.723956\"/>\r\n      </g>\r\n     </g>\r\n     <g id=\"text_5\">\r\n      <!-- 100 -->\r\n      <g transform=\"translate(167.511645 242.322393)scale(0.1 -0.1)\">\r\n       <defs>\r\n        <path d=\"M 12.40625 8.296875 \r\nL 28.515625 8.296875 \r\nL 28.515625 63.921875 \r\nL 10.984375 60.40625 \r\nL 10.984375 69.390625 \r\nL 28.421875 72.90625 \r\nL 38.28125 72.90625 \r\nL 38.28125 8.296875 \r\nL 54.390625 8.296875 \r\nL 54.390625 0 \r\nL 12.40625 0 \r\nz\r\n\" id=\"DejaVuSans-49\"/>\r\n       </defs>\r\n       <use xlink:href=\"#DejaVuSans-49\"/>\r\n       <use x=\"63.623047\" xlink:href=\"#DejaVuSans-48\"/>\r\n       <use x=\"127.246094\" xlink:href=\"#DejaVuSans-48\"/>\r\n      </g>\r\n     </g>\r\n    </g>\r\n    <g id=\"xtick_6\">\r\n     <g id=\"line2d_6\">\r\n      <g>\r\n       <use style=\"stroke:#000000;stroke-width:0.8;\" x=\"212.818553\" xlink:href=\"#m62c89dd17e\" y=\"227.723956\"/>\r\n      </g>\r\n     </g>\r\n     <g id=\"text_6\">\r\n      <!-- 125 -->\r\n      <g transform=\"translate(203.274803 242.322393)scale(0.1 -0.1)\">\r\n       <use xlink:href=\"#DejaVuSans-49\"/>\r\n       <use x=\"63.623047\" xlink:href=\"#DejaVuSans-50\"/>\r\n       <use x=\"127.246094\" xlink:href=\"#DejaVuSans-53\"/>\r\n      </g>\r\n     </g>\r\n    </g>\r\n    <g id=\"xtick_7\">\r\n     <g id=\"line2d_7\">\r\n      <g>\r\n       <use style=\"stroke:#000000;stroke-width:0.8;\" x=\"248.581711\" xlink:href=\"#m62c89dd17e\" y=\"227.723956\"/>\r\n      </g>\r\n     </g>\r\n     <g id=\"text_7\">\r\n      <!-- 150 -->\r\n      <g transform=\"translate(239.037961 242.322393)scale(0.1 -0.1)\">\r\n       <use xlink:href=\"#DejaVuSans-49\"/>\r\n       <use x=\"63.623047\" xlink:href=\"#DejaVuSans-53\"/>\r\n       <use x=\"127.246094\" xlink:href=\"#DejaVuSans-48\"/>\r\n      </g>\r\n     </g>\r\n    </g>\r\n   </g>\r\n   <g id=\"matplotlib.axis_2\">\r\n    <g id=\"ytick_1\">\r\n     <g id=\"line2d_8\">\r\n      <defs>\r\n       <path d=\"M 0 0 \r\nL -3.5 0 \r\n\" id=\"m5fb97363fb\" style=\"stroke:#000000;stroke-width:0.8;\"/>\r\n      </defs>\r\n      <g>\r\n       <use style=\"stroke:#000000;stroke-width:0.8;\" x=\"33.2875\" xlink:href=\"#m5fb97363fb\" y=\"10.999219\"/>\r\n      </g>\r\n     </g>\r\n     <g id=\"text_8\">\r\n      <!-- 0 -->\r\n      <g transform=\"translate(19.925 14.798438)scale(0.1 -0.1)\">\r\n       <use xlink:href=\"#DejaVuSans-48\"/>\r\n      </g>\r\n     </g>\r\n    </g>\r\n    <g id=\"ytick_2\">\r\n     <g id=\"line2d_9\">\r\n      <g>\r\n       <use style=\"stroke:#000000;stroke-width:0.8;\" x=\"33.2875\" xlink:href=\"#m5fb97363fb\" y=\"39.609745\"/>\r\n      </g>\r\n     </g>\r\n     <g id=\"text_9\">\r\n      <!-- 20 -->\r\n      <g transform=\"translate(13.5625 43.408964)scale(0.1 -0.1)\">\r\n       <use xlink:href=\"#DejaVuSans-50\"/>\r\n       <use x=\"63.623047\" xlink:href=\"#DejaVuSans-48\"/>\r\n      </g>\r\n     </g>\r\n    </g>\r\n    <g id=\"ytick_3\">\r\n     <g id=\"line2d_10\">\r\n      <g>\r\n       <use style=\"stroke:#000000;stroke-width:0.8;\" x=\"33.2875\" xlink:href=\"#m5fb97363fb\" y=\"68.220271\"/>\r\n      </g>\r\n     </g>\r\n     <g id=\"text_10\">\r\n      <!-- 40 -->\r\n      <g transform=\"translate(13.5625 72.01949)scale(0.1 -0.1)\">\r\n       <defs>\r\n        <path d=\"M 37.796875 64.3125 \r\nL 12.890625 25.390625 \r\nL 37.796875 25.390625 \r\nz\r\nM 35.203125 72.90625 \r\nL 47.609375 72.90625 \r\nL 47.609375 25.390625 \r\nL 58.015625 25.390625 \r\nL 58.015625 17.1875 \r\nL 47.609375 17.1875 \r\nL 47.609375 0 \r\nL 37.796875 0 \r\nL 37.796875 17.1875 \r\nL 4.890625 17.1875 \r\nL 4.890625 26.703125 \r\nz\r\n\" id=\"DejaVuSans-52\"/>\r\n       </defs>\r\n       <use xlink:href=\"#DejaVuSans-52\"/>\r\n       <use x=\"63.623047\" xlink:href=\"#DejaVuSans-48\"/>\r\n      </g>\r\n     </g>\r\n    </g>\r\n    <g id=\"ytick_4\">\r\n     <g id=\"line2d_11\">\r\n      <g>\r\n       <use style=\"stroke:#000000;stroke-width:0.8;\" x=\"33.2875\" xlink:href=\"#m5fb97363fb\" y=\"96.830798\"/>\r\n      </g>\r\n     </g>\r\n     <g id=\"text_11\">\r\n      <!-- 60 -->\r\n      <g transform=\"translate(13.5625 100.630016)scale(0.1 -0.1)\">\r\n       <defs>\r\n        <path d=\"M 33.015625 40.375 \r\nQ 26.375 40.375 22.484375 35.828125 \r\nQ 18.609375 31.296875 18.609375 23.390625 \r\nQ 18.609375 15.53125 22.484375 10.953125 \r\nQ 26.375 6.390625 33.015625 6.390625 \r\nQ 39.65625 6.390625 43.53125 10.953125 \r\nQ 47.40625 15.53125 47.40625 23.390625 \r\nQ 47.40625 31.296875 43.53125 35.828125 \r\nQ 39.65625 40.375 33.015625 40.375 \r\nz\r\nM 52.59375 71.296875 \r\nL 52.59375 62.3125 \r\nQ 48.875 64.0625 45.09375 64.984375 \r\nQ 41.3125 65.921875 37.59375 65.921875 \r\nQ 27.828125 65.921875 22.671875 59.328125 \r\nQ 17.53125 52.734375 16.796875 39.40625 \r\nQ 19.671875 43.65625 24.015625 45.921875 \r\nQ 28.375 48.1875 33.59375 48.1875 \r\nQ 44.578125 48.1875 50.953125 41.515625 \r\nQ 57.328125 34.859375 57.328125 23.390625 \r\nQ 57.328125 12.15625 50.6875 5.359375 \r\nQ 44.046875 -1.421875 33.015625 -1.421875 \r\nQ 20.359375 -1.421875 13.671875 8.265625 \r\nQ 6.984375 17.96875 6.984375 36.375 \r\nQ 6.984375 53.65625 15.1875 63.9375 \r\nQ 23.390625 74.21875 37.203125 74.21875 \r\nQ 40.921875 74.21875 44.703125 73.484375 \r\nQ 48.484375 72.75 52.59375 71.296875 \r\nz\r\n\" id=\"DejaVuSans-54\"/>\r\n       </defs>\r\n       <use xlink:href=\"#DejaVuSans-54\"/>\r\n       <use x=\"63.623047\" xlink:href=\"#DejaVuSans-48\"/>\r\n      </g>\r\n     </g>\r\n    </g>\r\n    <g id=\"ytick_5\">\r\n     <g id=\"line2d_12\">\r\n      <g>\r\n       <use style=\"stroke:#000000;stroke-width:0.8;\" x=\"33.2875\" xlink:href=\"#m5fb97363fb\" y=\"125.441324\"/>\r\n      </g>\r\n     </g>\r\n     <g id=\"text_12\">\r\n      <!-- 80 -->\r\n      <g transform=\"translate(13.5625 129.240543)scale(0.1 -0.1)\">\r\n       <defs>\r\n        <path d=\"M 31.78125 34.625 \r\nQ 24.75 34.625 20.71875 30.859375 \r\nQ 16.703125 27.09375 16.703125 20.515625 \r\nQ 16.703125 13.921875 20.71875 10.15625 \r\nQ 24.75 6.390625 31.78125 6.390625 \r\nQ 38.8125 6.390625 42.859375 10.171875 \r\nQ 46.921875 13.96875 46.921875 20.515625 \r\nQ 46.921875 27.09375 42.890625 30.859375 \r\nQ 38.875 34.625 31.78125 34.625 \r\nz\r\nM 21.921875 38.8125 \r\nQ 15.578125 40.375 12.03125 44.71875 \r\nQ 8.5 49.078125 8.5 55.328125 \r\nQ 8.5 64.0625 14.71875 69.140625 \r\nQ 20.953125 74.21875 31.78125 74.21875 \r\nQ 42.671875 74.21875 48.875 69.140625 \r\nQ 55.078125 64.0625 55.078125 55.328125 \r\nQ 55.078125 49.078125 51.53125 44.71875 \r\nQ 48 40.375 41.703125 38.8125 \r\nQ 48.828125 37.15625 52.796875 32.3125 \r\nQ 56.78125 27.484375 56.78125 20.515625 \r\nQ 56.78125 9.90625 50.3125 4.234375 \r\nQ 43.84375 -1.421875 31.78125 -1.421875 \r\nQ 19.734375 -1.421875 13.25 4.234375 \r\nQ 6.78125 9.90625 6.78125 20.515625 \r\nQ 6.78125 27.484375 10.78125 32.3125 \r\nQ 14.796875 37.15625 21.921875 38.8125 \r\nz\r\nM 18.3125 54.390625 \r\nQ 18.3125 48.734375 21.84375 45.5625 \r\nQ 25.390625 42.390625 31.78125 42.390625 \r\nQ 38.140625 42.390625 41.71875 45.5625 \r\nQ 45.3125 48.734375 45.3125 54.390625 \r\nQ 45.3125 60.0625 41.71875 63.234375 \r\nQ 38.140625 66.40625 31.78125 66.40625 \r\nQ 25.390625 66.40625 21.84375 63.234375 \r\nQ 18.3125 60.0625 18.3125 54.390625 \r\nz\r\n\" id=\"DejaVuSans-56\"/>\r\n       </defs>\r\n       <use xlink:href=\"#DejaVuSans-56\"/>\r\n       <use x=\"63.623047\" xlink:href=\"#DejaVuSans-48\"/>\r\n      </g>\r\n     </g>\r\n    </g>\r\n    <g id=\"ytick_6\">\r\n     <g id=\"line2d_13\">\r\n      <g>\r\n       <use style=\"stroke:#000000;stroke-width:0.8;\" x=\"33.2875\" xlink:href=\"#m5fb97363fb\" y=\"154.05185\"/>\r\n      </g>\r\n     </g>\r\n     <g id=\"text_13\">\r\n      <!-- 100 -->\r\n      <g transform=\"translate(7.2 157.851069)scale(0.1 -0.1)\">\r\n       <use xlink:href=\"#DejaVuSans-49\"/>\r\n       <use x=\"63.623047\" xlink:href=\"#DejaVuSans-48\"/>\r\n       <use x=\"127.246094\" xlink:href=\"#DejaVuSans-48\"/>\r\n      </g>\r\n     </g>\r\n    </g>\r\n    <g id=\"ytick_7\">\r\n     <g id=\"line2d_14\">\r\n      <g>\r\n       <use style=\"stroke:#000000;stroke-width:0.8;\" x=\"33.2875\" xlink:href=\"#m5fb97363fb\" y=\"182.662377\"/>\r\n      </g>\r\n     </g>\r\n     <g id=\"text_14\">\r\n      <!-- 120 -->\r\n      <g transform=\"translate(7.2 186.461595)scale(0.1 -0.1)\">\r\n       <use xlink:href=\"#DejaVuSans-49\"/>\r\n       <use x=\"63.623047\" xlink:href=\"#DejaVuSans-50\"/>\r\n       <use x=\"127.246094\" xlink:href=\"#DejaVuSans-48\"/>\r\n      </g>\r\n     </g>\r\n    </g>\r\n    <g id=\"ytick_8\">\r\n     <g id=\"line2d_15\">\r\n      <g>\r\n       <use style=\"stroke:#000000;stroke-width:0.8;\" x=\"33.2875\" xlink:href=\"#m5fb97363fb\" y=\"211.272903\"/>\r\n      </g>\r\n     </g>\r\n     <g id=\"text_15\">\r\n      <!-- 140 -->\r\n      <g transform=\"translate(7.2 215.072122)scale(0.1 -0.1)\">\r\n       <use xlink:href=\"#DejaVuSans-49\"/>\r\n       <use x=\"63.623047\" xlink:href=\"#DejaVuSans-52\"/>\r\n       <use x=\"127.246094\" xlink:href=\"#DejaVuSans-48\"/>\r\n      </g>\r\n     </g>\r\n    </g>\r\n   </g>\r\n   <g id=\"patch_3\">\r\n    <path d=\"M 33.2875 227.723956 \r\nL 33.2875 10.283956 \r\n\" style=\"fill:none;stroke:#000000;stroke-linecap:square;stroke-linejoin:miter;stroke-width:0.8;\"/>\r\n   </g>\r\n   <g id=\"patch_4\">\r\n    <path d=\"M 250.7275 227.723956 \r\nL 250.7275 10.283956 \r\n\" style=\"fill:none;stroke:#000000;stroke-linecap:square;stroke-linejoin:miter;stroke-width:0.8;\"/>\r\n   </g>\r\n   <g id=\"patch_5\">\r\n    <path d=\"M 33.2875 227.723956 \r\nL 250.7275 227.723956 \r\n\" style=\"fill:none;stroke:#000000;stroke-linecap:square;stroke-linejoin:miter;stroke-width:0.8;\"/>\r\n   </g>\r\n   <g id=\"patch_6\">\r\n    <path d=\"M 33.2875 10.283956 \r\nL 250.7275 10.283956 \r\n\" style=\"fill:none;stroke:#000000;stroke-linecap:square;stroke-linejoin:miter;stroke-width:0.8;\"/>\r\n   </g>\r\n  </g>\r\n </g>\r\n <defs>\r\n  <clipPath id=\"p293945c67f\">\r\n   <rect height=\"217.44\" width=\"217.44\" x=\"33.2875\" y=\"10.283956\"/>\r\n  </clipPath>\r\n </defs>\r\n</svg>\r\n",
      "image/png": "[encoded data removed]"
     },
     "metadata": {
      "needs_background": "light"
     }
    },
    {
     "output_type": "stream",
     "name": "stdout",
     "text": [
      "torch.Size([32, 1, 28, 28]) torch.Size([32]) tensor([8, 5, 5, 0, 8, 7, 6, 6, 7, 9, 3, 4, 0, 3, 8, 7, 9, 2, 9, 5, 7, 9, 9, 5,\n        4])\n"
     ]
    }
   ],
   "source": [
    "for x,y in dataloader:\n",
    "    show_tensor_images(x, num_images=25)\n",
    "    print(x.shape, y.shape, y[:25])\n",
    "    break\n",
    "    "
   ]
  },
  {
   "cell_type": "markdown",
   "metadata": {},
   "source": [
    "# Train - 1 Step"
   ]
  },
  {
   "cell_type": "code",
   "execution_count": 9,
   "metadata": {
    "scrolled": false
   },
   "outputs": [
    {
     "output_type": "stream",
     "name": "stderr",
     "text": [
      "Epoch 0, step 0: GenL: nan, DisL: 0:   0%|          | 1/1875 [00:00<08:52,  3.52it/s]\n",
      "ERROR:root:Internal Python error in the inspect module.\n",
      "Below is the traceback from this internal error.\n",
      "\n",
      "Traceback (most recent call last):\n",
      "  File \"C:\\Users\\marco\\miniconda3\\lib\\site-packages\\IPython\\core\\interactiveshell.py\", line 3417, in run_code\n",
      "    exec(code_obj, self.user_global_ns, self.user_ns)\n",
      "  File \"<ipython-input-9-41c5f3c34c5c>\", line 37, in <module>\n",
      "    gen_loss = get_gen_loss(gen, disc, criterion, label, cur_batch_size, z_dim, device)\n",
      "  File \"C:\\Users\\marco\\miniconda3\\lib\\site-packages\\markipy\\nn\\gans\\generatorMark.py\", line 115, in get_gen_loss\n",
      "    x_gen = gen(noise)\n",
      "  File \"C:\\Users\\marco\\miniconda3\\lib\\site-packages\\torch\\nn\\modules\\module.py\", line 722, in _call_impl\n",
      "    result = self.forward(*input, **kwargs)\n",
      "  File \"C:\\Users\\marco\\miniconda3\\lib\\site-packages\\markipy\\nn\\gans\\generatorMark.py\", line 78, in forward\n",
      "    X = F.leaky_relu(self.cv2(X), 0.1)\n",
      "  File \"C:\\Users\\marco\\miniconda3\\lib\\site-packages\\torch\\nn\\modules\\module.py\", line 722, in _call_impl\n",
      "    result = self.forward(*input, **kwargs)\n",
      "  File \"C:\\Users\\marco\\miniconda3\\lib\\site-packages\\torch\\nn\\modules\\container.py\", line 117, in forward\n",
      "    input = module(input)\n",
      "  File \"C:\\Users\\marco\\miniconda3\\lib\\site-packages\\torch\\nn\\modules\\module.py\", line 722, in _call_impl\n",
      "    result = self.forward(*input, **kwargs)\n",
      "  File \"C:\\Users\\marco\\miniconda3\\lib\\site-packages\\torch\\nn\\modules\\conv.py\", line 419, in forward\n",
      "    return self._conv_forward(input, self.weight)\n",
      "  File \"C:\\Users\\marco\\miniconda3\\lib\\site-packages\\torch\\nn\\modules\\conv.py\", line 415, in _conv_forward\n",
      "    return F.conv2d(input, weight, self.bias, self.stride,\n",
      "KeyboardInterrupt\n",
      "\n",
      "During handling of the above exception, another exception occurred:\n",
      "\n",
      "Traceback (most recent call last):\n",
      "  File \"C:\\Users\\marco\\miniconda3\\lib\\site-packages\\IPython\\core\\interactiveshell.py\", line 2044, in showtraceback\n",
      "    stb = value._render_traceback_()\n",
      "AttributeError: 'KeyboardInterrupt' object has no attribute '_render_traceback_'\n",
      "\n",
      "During handling of the above exception, another exception occurred:\n",
      "\n",
      "Traceback (most recent call last):\n",
      "  File \"C:\\Users\\marco\\miniconda3\\lib\\site-packages\\IPython\\core\\ultratb.py\", line 1169, in get_records\n",
      "    return _fixed_getinnerframes(etb, number_of_lines_of_context, tb_offset)\n",
      "  File \"C:\\Users\\marco\\miniconda3\\lib\\site-packages\\IPython\\core\\ultratb.py\", line 316, in wrapped\n",
      "    return f(*args, **kwargs)\n",
      "  File \"C:\\Users\\marco\\miniconda3\\lib\\site-packages\\IPython\\core\\ultratb.py\", line 350, in _fixed_getinnerframes\n",
      "    records = fix_frame_records_filenames(inspect.getinnerframes(etb, context))\n",
      "  File \"C:\\Users\\marco\\miniconda3\\lib\\inspect.py\", line 1503, in getinnerframes\n",
      "    frameinfo = (tb.tb_frame,) + getframeinfo(tb, context)\n",
      "  File \"C:\\Users\\marco\\miniconda3\\lib\\inspect.py\", line 1461, in getframeinfo\n",
      "    filename = getsourcefile(frame) or getfile(frame)\n",
      "  File \"C:\\Users\\marco\\miniconda3\\lib\\inspect.py\", line 708, in getsourcefile\n",
      "    if getattr(getmodule(object, filename), '__loader__', None) is not None:\n",
      "  File \"C:\\Users\\marco\\miniconda3\\lib\\inspect.py\", line 754, in getmodule\n",
      "    os.path.realpath(f)] = module.__name__\n",
      "  File \"C:\\Users\\marco\\miniconda3\\lib\\ntpath.py\", line 664, in realpath\n",
      "    if _getfinalpathname(spath) == path:\n",
      "KeyboardInterrupt\n"
     ]
    },
    {
     "output_type": "error",
     "ename": "TypeError",
     "evalue": "object of type 'NoneType' has no len()",
     "traceback": [
      "\u001b[1;31m---------------------------------------------------------------------------\u001b[0m",
      "\u001b[1;31mKeyboardInterrupt\u001b[0m                         Traceback (most recent call last)",
      "    \u001b[1;31m[... skipping hidden 1 frame]\u001b[0m\n",
      "\u001b[1;32m<ipython-input-9-41c5f3c34c5c>\u001b[0m in \u001b[0;36m<module>\u001b[1;34m\u001b[0m\n\u001b[0;32m     36\u001b[0m         \u001b[1;31m# Update optimizer\u001b[0m\u001b[1;33m\u001b[0m\u001b[1;33m\u001b[0m\u001b[1;33m\u001b[0m\u001b[0m\n\u001b[1;32m---> 37\u001b[1;33m         \u001b[0mgen_loss\u001b[0m \u001b[1;33m=\u001b[0m \u001b[0mget_gen_loss\u001b[0m\u001b[1;33m(\u001b[0m\u001b[0mgen\u001b[0m\u001b[1;33m,\u001b[0m \u001b[0mdisc\u001b[0m\u001b[1;33m,\u001b[0m \u001b[0mcriterion\u001b[0m\u001b[1;33m,\u001b[0m \u001b[0mlabel\u001b[0m\u001b[1;33m,\u001b[0m \u001b[0mcur_batch_size\u001b[0m\u001b[1;33m,\u001b[0m \u001b[0mz_dim\u001b[0m\u001b[1;33m,\u001b[0m \u001b[0mdevice\u001b[0m\u001b[1;33m)\u001b[0m\u001b[1;33m\u001b[0m\u001b[1;33m\u001b[0m\u001b[0m\n\u001b[0m\u001b[0;32m     38\u001b[0m \u001b[1;33m\u001b[0m\u001b[0m\n",
      "\u001b[1;32m~\\miniconda3\\lib\\site-packages\\markipy\\nn\\gans\\generatorMark.py\u001b[0m in \u001b[0;36mget_gen_loss\u001b[1;34m(gen, disc, criterion, labels, num_images, z_dim, device)\u001b[0m\n\u001b[0;32m    114\u001b[0m     \u001b[1;31m# noise = scale_noise_by_label_number(noise, labels)\u001b[0m\u001b[1;33m\u001b[0m\u001b[1;33m\u001b[0m\u001b[1;33m\u001b[0m\u001b[0m\n\u001b[1;32m--> 115\u001b[1;33m     \u001b[0mx_gen\u001b[0m \u001b[1;33m=\u001b[0m \u001b[0mgen\u001b[0m\u001b[1;33m(\u001b[0m\u001b[0mnoise\u001b[0m\u001b[1;33m)\u001b[0m\u001b[1;33m\u001b[0m\u001b[1;33m\u001b[0m\u001b[0m\n\u001b[0m\u001b[0;32m    116\u001b[0m \u001b[1;33m\u001b[0m\u001b[0m\n",
      "\u001b[1;32m~\\miniconda3\\lib\\site-packages\\torch\\nn\\modules\\module.py\u001b[0m in \u001b[0;36m_call_impl\u001b[1;34m(self, *input, **kwargs)\u001b[0m\n\u001b[0;32m    721\u001b[0m         \u001b[1;32melse\u001b[0m\u001b[1;33m:\u001b[0m\u001b[1;33m\u001b[0m\u001b[1;33m\u001b[0m\u001b[0m\n\u001b[1;32m--> 722\u001b[1;33m             \u001b[0mresult\u001b[0m \u001b[1;33m=\u001b[0m \u001b[0mself\u001b[0m\u001b[1;33m.\u001b[0m\u001b[0mforward\u001b[0m\u001b[1;33m(\u001b[0m\u001b[1;33m*\u001b[0m\u001b[0minput\u001b[0m\u001b[1;33m,\u001b[0m \u001b[1;33m**\u001b[0m\u001b[0mkwargs\u001b[0m\u001b[1;33m)\u001b[0m\u001b[1;33m\u001b[0m\u001b[1;33m\u001b[0m\u001b[0m\n\u001b[0m\u001b[0;32m    723\u001b[0m         for hook in itertools.chain(\n",
      "\u001b[1;32m~\\miniconda3\\lib\\site-packages\\markipy\\nn\\gans\\generatorMark.py\u001b[0m in \u001b[0;36mforward\u001b[1;34m(self, X)\u001b[0m\n\u001b[0;32m     77\u001b[0m \u001b[1;33m\u001b[0m\u001b[0m\n\u001b[1;32m---> 78\u001b[1;33m         \u001b[0mX\u001b[0m \u001b[1;33m=\u001b[0m \u001b[0mF\u001b[0m\u001b[1;33m.\u001b[0m\u001b[0mleaky_relu\u001b[0m\u001b[1;33m(\u001b[0m\u001b[0mself\u001b[0m\u001b[1;33m.\u001b[0m\u001b[0mcv2\u001b[0m\u001b[1;33m(\u001b[0m\u001b[0mX\u001b[0m\u001b[1;33m)\u001b[0m\u001b[1;33m,\u001b[0m \u001b[1;36m0.1\u001b[0m\u001b[1;33m)\u001b[0m\u001b[1;33m\u001b[0m\u001b[1;33m\u001b[0m\u001b[0m\n\u001b[0m\u001b[0;32m     79\u001b[0m \u001b[1;33m\u001b[0m\u001b[0m\n",
      "\u001b[1;32m~\\miniconda3\\lib\\site-packages\\torch\\nn\\modules\\module.py\u001b[0m in \u001b[0;36m_call_impl\u001b[1;34m(self, *input, **kwargs)\u001b[0m\n\u001b[0;32m    721\u001b[0m         \u001b[1;32melse\u001b[0m\u001b[1;33m:\u001b[0m\u001b[1;33m\u001b[0m\u001b[1;33m\u001b[0m\u001b[0m\n\u001b[1;32m--> 722\u001b[1;33m             \u001b[0mresult\u001b[0m \u001b[1;33m=\u001b[0m \u001b[0mself\u001b[0m\u001b[1;33m.\u001b[0m\u001b[0mforward\u001b[0m\u001b[1;33m(\u001b[0m\u001b[1;33m*\u001b[0m\u001b[0minput\u001b[0m\u001b[1;33m,\u001b[0m \u001b[1;33m**\u001b[0m\u001b[0mkwargs\u001b[0m\u001b[1;33m)\u001b[0m\u001b[1;33m\u001b[0m\u001b[1;33m\u001b[0m\u001b[0m\n\u001b[0m\u001b[0;32m    723\u001b[0m         for hook in itertools.chain(\n",
      "\u001b[1;32m~\\miniconda3\\lib\\site-packages\\torch\\nn\\modules\\container.py\u001b[0m in \u001b[0;36mforward\u001b[1;34m(self, input)\u001b[0m\n\u001b[0;32m    116\u001b[0m         \u001b[1;32mfor\u001b[0m \u001b[0mmodule\u001b[0m \u001b[1;32min\u001b[0m \u001b[0mself\u001b[0m\u001b[1;33m:\u001b[0m\u001b[1;33m\u001b[0m\u001b[1;33m\u001b[0m\u001b[0m\n\u001b[1;32m--> 117\u001b[1;33m             \u001b[0minput\u001b[0m \u001b[1;33m=\u001b[0m \u001b[0mmodule\u001b[0m\u001b[1;33m(\u001b[0m\u001b[0minput\u001b[0m\u001b[1;33m)\u001b[0m\u001b[1;33m\u001b[0m\u001b[1;33m\u001b[0m\u001b[0m\n\u001b[0m\u001b[0;32m    118\u001b[0m         \u001b[1;32mreturn\u001b[0m \u001b[0minput\u001b[0m\u001b[1;33m\u001b[0m\u001b[1;33m\u001b[0m\u001b[0m\n",
      "\u001b[1;32m~\\miniconda3\\lib\\site-packages\\torch\\nn\\modules\\module.py\u001b[0m in \u001b[0;36m_call_impl\u001b[1;34m(self, *input, **kwargs)\u001b[0m\n\u001b[0;32m    721\u001b[0m         \u001b[1;32melse\u001b[0m\u001b[1;33m:\u001b[0m\u001b[1;33m\u001b[0m\u001b[1;33m\u001b[0m\u001b[0m\n\u001b[1;32m--> 722\u001b[1;33m             \u001b[0mresult\u001b[0m \u001b[1;33m=\u001b[0m \u001b[0mself\u001b[0m\u001b[1;33m.\u001b[0m\u001b[0mforward\u001b[0m\u001b[1;33m(\u001b[0m\u001b[1;33m*\u001b[0m\u001b[0minput\u001b[0m\u001b[1;33m,\u001b[0m \u001b[1;33m**\u001b[0m\u001b[0mkwargs\u001b[0m\u001b[1;33m)\u001b[0m\u001b[1;33m\u001b[0m\u001b[1;33m\u001b[0m\u001b[0m\n\u001b[0m\u001b[0;32m    723\u001b[0m         for hook in itertools.chain(\n",
      "\u001b[1;32m~\\miniconda3\\lib\\site-packages\\torch\\nn\\modules\\conv.py\u001b[0m in \u001b[0;36mforward\u001b[1;34m(self, input)\u001b[0m\n\u001b[0;32m    418\u001b[0m     \u001b[1;32mdef\u001b[0m \u001b[0mforward\u001b[0m\u001b[1;33m(\u001b[0m\u001b[0mself\u001b[0m\u001b[1;33m,\u001b[0m \u001b[0minput\u001b[0m\u001b[1;33m:\u001b[0m \u001b[0mTensor\u001b[0m\u001b[1;33m)\u001b[0m \u001b[1;33m->\u001b[0m \u001b[0mTensor\u001b[0m\u001b[1;33m:\u001b[0m\u001b[1;33m\u001b[0m\u001b[1;33m\u001b[0m\u001b[0m\n\u001b[1;32m--> 419\u001b[1;33m         \u001b[1;32mreturn\u001b[0m \u001b[0mself\u001b[0m\u001b[1;33m.\u001b[0m\u001b[0m_conv_forward\u001b[0m\u001b[1;33m(\u001b[0m\u001b[0minput\u001b[0m\u001b[1;33m,\u001b[0m \u001b[0mself\u001b[0m\u001b[1;33m.\u001b[0m\u001b[0mweight\u001b[0m\u001b[1;33m)\u001b[0m\u001b[1;33m\u001b[0m\u001b[1;33m\u001b[0m\u001b[0m\n\u001b[0m\u001b[0;32m    420\u001b[0m \u001b[1;33m\u001b[0m\u001b[0m\n",
      "\u001b[1;32m~\\miniconda3\\lib\\site-packages\\torch\\nn\\modules\\conv.py\u001b[0m in \u001b[0;36m_conv_forward\u001b[1;34m(self, input, weight)\u001b[0m\n\u001b[0;32m    414\u001b[0m                             _pair(0), self.dilation, self.groups)\n\u001b[1;32m--> 415\u001b[1;33m         return F.conv2d(input, weight, self.bias, self.stride,\n\u001b[0m\u001b[0;32m    416\u001b[0m                         self.padding, self.dilation, self.groups)\n",
      "\u001b[1;31mKeyboardInterrupt\u001b[0m: ",
      "\nDuring handling of the above exception, another exception occurred:\n",
      "\u001b[1;31mAttributeError\u001b[0m                            Traceback (most recent call last)",
      "\u001b[1;32m~\\miniconda3\\lib\\site-packages\\IPython\\core\\interactiveshell.py\u001b[0m in \u001b[0;36mshowtraceback\u001b[1;34m(self, exc_tuple, filename, tb_offset, exception_only, running_compiled_code)\u001b[0m\n\u001b[0;32m   2043\u001b[0m                         \u001b[1;31m# in the engines. This should return a list of strings.\u001b[0m\u001b[1;33m\u001b[0m\u001b[1;33m\u001b[0m\u001b[1;33m\u001b[0m\u001b[0m\n\u001b[1;32m-> 2044\u001b[1;33m                         \u001b[0mstb\u001b[0m \u001b[1;33m=\u001b[0m \u001b[0mvalue\u001b[0m\u001b[1;33m.\u001b[0m\u001b[0m_render_traceback_\u001b[0m\u001b[1;33m(\u001b[0m\u001b[1;33m)\u001b[0m\u001b[1;33m\u001b[0m\u001b[1;33m\u001b[0m\u001b[0m\n\u001b[0m\u001b[0;32m   2045\u001b[0m                     \u001b[1;32mexcept\u001b[0m \u001b[0mException\u001b[0m\u001b[1;33m:\u001b[0m\u001b[1;33m\u001b[0m\u001b[1;33m\u001b[0m\u001b[0m\n",
      "\u001b[1;31mAttributeError\u001b[0m: 'KeyboardInterrupt' object has no attribute '_render_traceback_'",
      "\nDuring handling of the above exception, another exception occurred:\n",
      "\u001b[1;31mTypeError\u001b[0m                                 Traceback (most recent call last)",
      "    \u001b[1;31m[... skipping hidden 1 frame]\u001b[0m\n",
      "\u001b[1;32m~\\miniconda3\\lib\\site-packages\\IPython\\core\\interactiveshell.py\u001b[0m in \u001b[0;36mshowtraceback\u001b[1;34m(self, exc_tuple, filename, tb_offset, exception_only, running_compiled_code)\u001b[0m\n\u001b[0;32m   2044\u001b[0m                         \u001b[0mstb\u001b[0m \u001b[1;33m=\u001b[0m \u001b[0mvalue\u001b[0m\u001b[1;33m.\u001b[0m\u001b[0m_render_traceback_\u001b[0m\u001b[1;33m(\u001b[0m\u001b[1;33m)\u001b[0m\u001b[1;33m\u001b[0m\u001b[1;33m\u001b[0m\u001b[0m\n\u001b[0;32m   2045\u001b[0m                     \u001b[1;32mexcept\u001b[0m \u001b[0mException\u001b[0m\u001b[1;33m:\u001b[0m\u001b[1;33m\u001b[0m\u001b[1;33m\u001b[0m\u001b[0m\n\u001b[1;32m-> 2046\u001b[1;33m                         stb = self.InteractiveTB.structured_traceback(etype,\n\u001b[0m\u001b[0;32m   2047\u001b[0m                                             value, tb, tb_offset=tb_offset)\n\u001b[0;32m   2048\u001b[0m \u001b[1;33m\u001b[0m\u001b[0m\n",
      "\u001b[1;32m~\\miniconda3\\lib\\site-packages\\IPython\\core\\ultratb.py\u001b[0m in \u001b[0;36mstructured_traceback\u001b[1;34m(self, etype, value, tb, tb_offset, number_of_lines_of_context)\u001b[0m\n\u001b[0;32m   1433\u001b[0m         \u001b[1;32melse\u001b[0m\u001b[1;33m:\u001b[0m\u001b[1;33m\u001b[0m\u001b[1;33m\u001b[0m\u001b[0m\n\u001b[0;32m   1434\u001b[0m             \u001b[0mself\u001b[0m\u001b[1;33m.\u001b[0m\u001b[0mtb\u001b[0m \u001b[1;33m=\u001b[0m \u001b[0mtb\u001b[0m\u001b[1;33m\u001b[0m\u001b[1;33m\u001b[0m\u001b[0m\n\u001b[1;32m-> 1435\u001b[1;33m         return FormattedTB.structured_traceback(\n\u001b[0m\u001b[0;32m   1436\u001b[0m             self, etype, value, tb, tb_offset, number_of_lines_of_context)\n\u001b[0;32m   1437\u001b[0m \u001b[1;33m\u001b[0m\u001b[0m\n",
      "\u001b[1;32m~\\miniconda3\\lib\\site-packages\\IPython\\core\\ultratb.py\u001b[0m in \u001b[0;36mstructured_traceback\u001b[1;34m(self, etype, value, tb, tb_offset, number_of_lines_of_context)\u001b[0m\n\u001b[0;32m   1333\u001b[0m         \u001b[1;32mif\u001b[0m \u001b[0mmode\u001b[0m \u001b[1;32min\u001b[0m \u001b[0mself\u001b[0m\u001b[1;33m.\u001b[0m\u001b[0mverbose_modes\u001b[0m\u001b[1;33m:\u001b[0m\u001b[1;33m\u001b[0m\u001b[1;33m\u001b[0m\u001b[0m\n\u001b[0;32m   1334\u001b[0m             \u001b[1;31m# Verbose modes need a full traceback\u001b[0m\u001b[1;33m\u001b[0m\u001b[1;33m\u001b[0m\u001b[1;33m\u001b[0m\u001b[0m\n\u001b[1;32m-> 1335\u001b[1;33m             return VerboseTB.structured_traceback(\n\u001b[0m\u001b[0;32m   1336\u001b[0m                 \u001b[0mself\u001b[0m\u001b[1;33m,\u001b[0m \u001b[0metype\u001b[0m\u001b[1;33m,\u001b[0m \u001b[0mvalue\u001b[0m\u001b[1;33m,\u001b[0m \u001b[0mtb\u001b[0m\u001b[1;33m,\u001b[0m \u001b[0mtb_offset\u001b[0m\u001b[1;33m,\u001b[0m \u001b[0mnumber_of_lines_of_context\u001b[0m\u001b[1;33m\u001b[0m\u001b[1;33m\u001b[0m\u001b[0m\n\u001b[0;32m   1337\u001b[0m             )\n",
      "\u001b[1;32m~\\miniconda3\\lib\\site-packages\\IPython\\core\\ultratb.py\u001b[0m in \u001b[0;36mstructured_traceback\u001b[1;34m(self, etype, evalue, etb, tb_offset, number_of_lines_of_context)\u001b[0m\n\u001b[0;32m   1190\u001b[0m         \u001b[1;34m\"\"\"Return a nice text document describing the traceback.\"\"\"\u001b[0m\u001b[1;33m\u001b[0m\u001b[1;33m\u001b[0m\u001b[0m\n\u001b[0;32m   1191\u001b[0m \u001b[1;33m\u001b[0m\u001b[0m\n\u001b[1;32m-> 1192\u001b[1;33m         formatted_exception = self.format_exception_as_a_whole(etype, evalue, etb, number_of_lines_of_context,\n\u001b[0m\u001b[0;32m   1193\u001b[0m                                                                tb_offset)\n\u001b[0;32m   1194\u001b[0m \u001b[1;33m\u001b[0m\u001b[0m\n",
      "\u001b[1;32m~\\miniconda3\\lib\\site-packages\\IPython\\core\\ultratb.py\u001b[0m in \u001b[0;36mformat_exception_as_a_whole\u001b[1;34m(self, etype, evalue, etb, number_of_lines_of_context, tb_offset)\u001b[0m\n\u001b[0;32m   1148\u001b[0m \u001b[1;33m\u001b[0m\u001b[0m\n\u001b[0;32m   1149\u001b[0m \u001b[1;33m\u001b[0m\u001b[0m\n\u001b[1;32m-> 1150\u001b[1;33m         \u001b[0mlast_unique\u001b[0m\u001b[1;33m,\u001b[0m \u001b[0mrecursion_repeat\u001b[0m \u001b[1;33m=\u001b[0m \u001b[0mfind_recursion\u001b[0m\u001b[1;33m(\u001b[0m\u001b[0morig_etype\u001b[0m\u001b[1;33m,\u001b[0m \u001b[0mevalue\u001b[0m\u001b[1;33m,\u001b[0m \u001b[0mrecords\u001b[0m\u001b[1;33m)\u001b[0m\u001b[1;33m\u001b[0m\u001b[1;33m\u001b[0m\u001b[0m\n\u001b[0m\u001b[0;32m   1151\u001b[0m \u001b[1;33m\u001b[0m\u001b[0m\n\u001b[0;32m   1152\u001b[0m         \u001b[0mframes\u001b[0m \u001b[1;33m=\u001b[0m \u001b[0mself\u001b[0m\u001b[1;33m.\u001b[0m\u001b[0mformat_records\u001b[0m\u001b[1;33m(\u001b[0m\u001b[0mrecords\u001b[0m\u001b[1;33m,\u001b[0m \u001b[0mlast_unique\u001b[0m\u001b[1;33m,\u001b[0m \u001b[0mrecursion_repeat\u001b[0m\u001b[1;33m)\u001b[0m\u001b[1;33m\u001b[0m\u001b[1;33m\u001b[0m\u001b[0m\n",
      "\u001b[1;32m~\\miniconda3\\lib\\site-packages\\IPython\\core\\ultratb.py\u001b[0m in \u001b[0;36mfind_recursion\u001b[1;34m(etype, value, records)\u001b[0m\n\u001b[0;32m    449\u001b[0m     \u001b[1;31m# first frame (from in to out) that looks different.\u001b[0m\u001b[1;33m\u001b[0m\u001b[1;33m\u001b[0m\u001b[1;33m\u001b[0m\u001b[0m\n\u001b[0;32m    450\u001b[0m     \u001b[1;32mif\u001b[0m \u001b[1;32mnot\u001b[0m \u001b[0mis_recursion_error\u001b[0m\u001b[1;33m(\u001b[0m\u001b[0metype\u001b[0m\u001b[1;33m,\u001b[0m \u001b[0mvalue\u001b[0m\u001b[1;33m,\u001b[0m \u001b[0mrecords\u001b[0m\u001b[1;33m)\u001b[0m\u001b[1;33m:\u001b[0m\u001b[1;33m\u001b[0m\u001b[1;33m\u001b[0m\u001b[0m\n\u001b[1;32m--> 451\u001b[1;33m         \u001b[1;32mreturn\u001b[0m \u001b[0mlen\u001b[0m\u001b[1;33m(\u001b[0m\u001b[0mrecords\u001b[0m\u001b[1;33m)\u001b[0m\u001b[1;33m,\u001b[0m \u001b[1;36m0\u001b[0m\u001b[1;33m\u001b[0m\u001b[1;33m\u001b[0m\u001b[0m\n\u001b[0m\u001b[0;32m    452\u001b[0m \u001b[1;33m\u001b[0m\u001b[0m\n\u001b[0;32m    453\u001b[0m     \u001b[1;31m# Select filename, lineno, func_name to track frames with\u001b[0m\u001b[1;33m\u001b[0m\u001b[1;33m\u001b[0m\u001b[1;33m\u001b[0m\u001b[0m\n",
      "\u001b[1;31mTypeError\u001b[0m: object of type 'NoneType' has no len()"
     ]
    }
   ],
   "source": [
    "disc_init = False\n",
    "n_epochs = 1 \n",
    "for epoch in range(n_epochs):\n",
    "    \n",
    "    # Dataloader returns the batches\n",
    "    bar = tqdm(dataloader)\n",
    "    for real, label in bar:\n",
    "        cur_batch_size = len(real)\n",
    "\n",
    "        # Flatten the batch of real images from the dataset\n",
    "        real = real.view(cur_batch_size, -1).to(device)\n",
    "\n",
    "        if cur_step % 300: \n",
    "            ### Update discriminator ###\n",
    "            # Zero out the gradients before backpropagation\n",
    "            disc_opt.zero_grad()\n",
    "\n",
    "            # Calculate discriminator loss\n",
    "            disc_loss = get_disc_loss(gen, disc, criterion, real, label, cur_batch_size, z_dim, device)\n",
    "\n",
    "            # Update gradients\n",
    "            disc_loss.backward(retain_graph=True)\n",
    "\n",
    "            # Update optimizer\n",
    "            disc_opt.step()\n",
    "            \n",
    "            disc_init = True\n",
    "\n",
    "        # For testing purposes, to keep track of the generator weights\n",
    "        if test_generator:\n",
    "            old_generator_weights = gen.gen[0][0].weight.detach().clone()\n",
    "\n",
    "        # Update gradients\n",
    "        gen_opt.zero_grad()\n",
    "\n",
    "        # Update optimizer\n",
    "        gen_loss = get_gen_loss(gen, disc, criterion, label, cur_batch_size, z_dim, device)\n",
    "\n",
    "        # Update gradients\n",
    "        gen_loss.backward(retain_graph=True)\n",
    "\n",
    "        # Update optimizer\n",
    "        gen_opt.step()\n",
    "\n",
    "        # For testing purposes, to check that your code changes the generator weights\n",
    "        if test_generator:\n",
    "            try:\n",
    "                assert lr > 0.0000002 or (gen.gen[0][0].weight.grad.abs().max() < 0.0005 and epoch == 0)\n",
    "                assert torch.any(gen.gen[0][0].weight.detach().clone() != old_generator_weights)\n",
    "                \n",
    "            except:\n",
    "                error = True\n",
    "                \n",
    "                # wandb.log({\"no_training\": 1, \"epoch\": epoch, \"loss\": loss})\n",
    "                print(\"Runtime tests have failed\")\n",
    "\n",
    "        if disc_init:\n",
    "            # Keep track of the average discriminator loss\n",
    "            mean_discriminator_loss += disc_loss.item() / display_step\n",
    "\n",
    "        # Keep track of the average generator loss\n",
    "        mean_generator_loss += gen_loss.item() / display_step\n",
    "\n",
    "        ### Visualization code ###\n",
    "        if cur_step % display_step == 0 and cur_step > 0:\n",
    "\n",
    "\n",
    "            noise = make_noise(cur_batch_size, z_dim, device=device)\n",
    "            fake = gen(noise)\n",
    "            \n",
    "            show_tensor_images(fake)\n",
    "            show_tensor_images(real)\n",
    "            \n",
    "            mean_generator_loss = 0\n",
    "            mean_discriminator_loss = 0\n",
    "            \n",
    "\n",
    "        \n",
    "        if cur_step % log_step == 0 and log_step > 0:\n",
    "            # wandb.log({ \"Epoch\" : epoch, \"step\": cur_step , \"Generator_Loss\" : mean_generator_loss, \"Discriminator_Loss\": mean_discriminator_loss })\n",
    "            bar.set_description(f\"Epoch {epoch}, step {cur_step}: GenL: {mean_generator_loss if disc_init else 'nan'}, DisL: {mean_discriminator_loss}\")\n",
    "            # Tensorboard\n",
    "            writer.add_scalar('mean_generator loss', mean_generator_loss, cur_step)\n",
    "            writer.add_scalar('mean_discriminator_loss loss', mean_discriminator_loss, cur_step)\n",
    "        \n",
    "        # Increase step\n",
    "        cur_step += 1\n",
    "    \n",
    "        \n",
    "        \n",
    "# Shift + o  : To show scroll the ouput "
   ]
  },
  {
   "cell_type": "code",
   "execution_count": null,
   "metadata": {},
   "outputs": [],
   "source": [
    "\n",
    "def log_image_board(writer, images, label):\n",
    "    # create grid of images\n",
    "    img_grid = torchvision.utils.make_grid(images)\n",
    "\n",
    "    # show images\n",
    "    show_tensor_images(img_grid, show=False)\n",
    "\n",
    "    # write to tensorboard\n",
    "    writer.add_image(label, img_grid)\n",
    "\n",
    "log_image_board(writer,fake, 'fake_0')\n"
   ]
  },
  {
   "cell_type": "code",
   "execution_count": 11,
   "metadata": {},
   "outputs": [
    {
     "output_type": "execute_result",
     "data": {
      "text/plain": [
       "torch.Size([32, 1, 28, 28])"
      ]
     },
     "metadata": {},
     "execution_count": 11
    }
   ],
   "source": [
    "real = real.reshape(real.shape[0], 1, 28, 28)\n",
    "real.shape"
   ]
  },
  {
   "cell_type": "code",
   "execution_count": 12,
   "metadata": {},
   "outputs": [
    {
     "output_type": "execute_result",
     "data": {
      "text/plain": [
       "torch.Size([32, 5, 28, 28])"
      ]
     },
     "metadata": {},
     "execution_count": 12
    }
   ],
   "source": [
    "from markipy.nn.commons import get_conv2d_block\n",
    "cv1 = get_conv2d_block(1, 5, ks=5, normalize=False, activation=nn.LeakyReLU(0.2)).cuda()\n",
    "out1 = cv1(real)\n",
    "out1.shape\n"
   ]
  },
  {
   "cell_type": "code",
   "execution_count": 13,
   "metadata": {},
   "outputs": [
    {
     "output_type": "execute_result",
     "data": {
      "text/plain": [
       "torch.Size([32, 10, 26, 26])"
      ]
     },
     "metadata": {},
     "execution_count": 13
    }
   ],
   "source": [
    "cv2 = get_conv2d_block(5, 10, ks=5, normalize=False, activation=nn.LeakyReLU(0.2)).cuda()\n",
    "out2 = cv2(out1)\n",
    "m2 = nn.MaxPool2d((3, 3), stride=(1, 1))\n",
    "out2 = m2(out2)\n",
    "out2.shape"
   ]
  },
  {
   "cell_type": "code",
   "execution_count": 14,
   "metadata": {},
   "outputs": [
    {
     "output_type": "execute_result",
     "data": {
      "text/plain": [
       "torch.Size([32, 20, 24, 24])"
      ]
     },
     "metadata": {},
     "execution_count": 14
    }
   ],
   "source": [
    "cv3 = get_conv2d_block(10, 20, ks=5, normalize=False, activation=nn.LeakyReLU(0.2)).cuda()\n",
    "out3 = cv3(out2)\n",
    "m3 = nn.MaxPool2d((3, 3), stride=(1, 1))\n",
    "out3 = m2(out3)\n",
    "out3.shape"
   ]
  },
  {
   "cell_type": "code",
   "execution_count": 15,
   "metadata": {},
   "outputs": [
    {
     "output_type": "execute_result",
     "data": {
      "text/plain": [
       "torch.Size([32, 10, 22, 22])"
      ]
     },
     "metadata": {},
     "execution_count": 15
    }
   ],
   "source": [
    "cv4 = get_conv2d_block(20, 10, ks=5, normalize=False, activation=nn.LeakyReLU(0.2)).cuda()\n",
    "out4 = cv4(out3)\n",
    "m4 = nn.MaxPool2d((3, 3), stride=(1, 1))\n",
    "out4 = m4(out4)\n",
    "out4.shape"
   ]
  },
  {
   "cell_type": "code",
   "execution_count": 16,
   "metadata": {},
   "outputs": [
    {
     "output_type": "execute_result",
     "data": {
      "text/plain": [
       "torch.Size([32, 2, 20, 20])"
      ]
     },
     "metadata": {},
     "execution_count": 16
    }
   ],
   "source": [
    "cv5 = get_conv2d_block(10, 2, ks=5, normalize=False, activation=nn.LeakyReLU(0.2)).cuda()\n",
    "out5 = cv5(out4)\n",
    "m5 = nn.MaxPool2d((3, 3), stride=(1, 1))\n",
    "out5 = m5(out5)\n",
    "out5.shape"
   ]
  },
  {
   "cell_type": "code",
   "execution_count": 21,
   "metadata": {},
   "outputs": [
    {
     "output_type": "error",
     "ename": "RuntimeError",
     "evalue": "CUDA error: an illegal memory access was encountered",
     "traceback": [
      "\u001b[1;31m---------------------------------------------------------------------------\u001b[0m",
      "\u001b[1;31mRuntimeError\u001b[0m                              Traceback (most recent call last)",
      "\u001b[1;32m<ipython-input-21-96674dc62c20>\u001b[0m in \u001b[0;36m<module>\u001b[1;34m\u001b[0m\n\u001b[0;32m      4\u001b[0m \u001b[0mn_sampled\u001b[0m \u001b[1;33m=\u001b[0m \u001b[0mx\u001b[0m\u001b[1;33m.\u001b[0m\u001b[0mshape\u001b[0m\u001b[1;33m[\u001b[0m\u001b[1;36m0\u001b[0m\u001b[1;33m]\u001b[0m\u001b[1;33m\u001b[0m\u001b[1;33m\u001b[0m\u001b[0m\n\u001b[0;32m      5\u001b[0m \u001b[1;33m\u001b[0m\u001b[0m\n\u001b[1;32m----> 6\u001b[1;33m \u001b[0mcv1\u001b[0m \u001b[1;33m=\u001b[0m \u001b[0mget_conv2d_block\u001b[0m\u001b[1;33m(\u001b[0m\u001b[1;36m1\u001b[0m\u001b[1;33m,\u001b[0m \u001b[0moc\u001b[0m\u001b[1;33m,\u001b[0m \u001b[0mks\u001b[0m\u001b[1;33m=\u001b[0m\u001b[1;36m5\u001b[0m\u001b[1;33m,\u001b[0m \u001b[0mnormalize\u001b[0m\u001b[1;33m=\u001b[0m\u001b[1;32mFalse\u001b[0m\u001b[1;33m,\u001b[0m \u001b[0mactivation\u001b[0m\u001b[1;33m=\u001b[0m\u001b[0mnn\u001b[0m\u001b[1;33m.\u001b[0m\u001b[0mLeakyReLU\u001b[0m\u001b[1;33m(\u001b[0m\u001b[1;36m0.2\u001b[0m\u001b[1;33m)\u001b[0m\u001b[1;33m)\u001b[0m\u001b[1;33m.\u001b[0m\u001b[0mcuda\u001b[0m\u001b[1;33m(\u001b[0m\u001b[1;33m)\u001b[0m\u001b[1;33m\u001b[0m\u001b[1;33m\u001b[0m\u001b[0m\n\u001b[0m\u001b[0;32m      7\u001b[0m \u001b[0mm\u001b[0m \u001b[1;33m=\u001b[0m \u001b[0mnn\u001b[0m\u001b[1;33m.\u001b[0m\u001b[0mUpsample\u001b[0m\u001b[1;33m(\u001b[0m\u001b[0mscale_factor\u001b[0m\u001b[1;33m=\u001b[0m\u001b[1;36m1.2\u001b[0m\u001b[1;33m,\u001b[0m \u001b[0mmode\u001b[0m\u001b[1;33m=\u001b[0m\u001b[1;34m'bilinear'\u001b[0m\u001b[1;33m)\u001b[0m\u001b[1;33m.\u001b[0m\u001b[0mcuda\u001b[0m\u001b[1;33m(\u001b[0m\u001b[1;33m)\u001b[0m\u001b[1;33m\u001b[0m\u001b[1;33m\u001b[0m\u001b[0m\n\u001b[0;32m      8\u001b[0m \u001b[0mf\u001b[0m \u001b[1;33m=\u001b[0m \u001b[0mnn\u001b[0m\u001b[1;33m.\u001b[0m\u001b[0mFlatten\u001b[0m\u001b[1;33m(\u001b[0m\u001b[1;36m2\u001b[0m\u001b[1;33m)\u001b[0m\u001b[1;33m.\u001b[0m\u001b[0mcuda\u001b[0m\u001b[1;33m(\u001b[0m\u001b[1;33m)\u001b[0m\u001b[1;33m\u001b[0m\u001b[1;33m\u001b[0m\u001b[0m\n",
      "\u001b[1;32m~\\miniconda3\\lib\\site-packages\\torch\\nn\\modules\\module.py\u001b[0m in \u001b[0;36mcuda\u001b[1;34m(self, device)\u001b[0m\n\u001b[0;32m    456\u001b[0m             \u001b[0mModule\u001b[0m\u001b[1;33m:\u001b[0m \u001b[0mself\u001b[0m\u001b[1;33m\u001b[0m\u001b[1;33m\u001b[0m\u001b[0m\n\u001b[0;32m    457\u001b[0m         \"\"\"\n\u001b[1;32m--> 458\u001b[1;33m         \u001b[1;32mreturn\u001b[0m \u001b[0mself\u001b[0m\u001b[1;33m.\u001b[0m\u001b[0m_apply\u001b[0m\u001b[1;33m(\u001b[0m\u001b[1;32mlambda\u001b[0m \u001b[0mt\u001b[0m\u001b[1;33m:\u001b[0m \u001b[0mt\u001b[0m\u001b[1;33m.\u001b[0m\u001b[0mcuda\u001b[0m\u001b[1;33m(\u001b[0m\u001b[0mdevice\u001b[0m\u001b[1;33m)\u001b[0m\u001b[1;33m)\u001b[0m\u001b[1;33m\u001b[0m\u001b[1;33m\u001b[0m\u001b[0m\n\u001b[0m\u001b[0;32m    459\u001b[0m \u001b[1;33m\u001b[0m\u001b[0m\n\u001b[0;32m    460\u001b[0m     \u001b[1;32mdef\u001b[0m \u001b[0mcpu\u001b[0m\u001b[1;33m(\u001b[0m\u001b[0mself\u001b[0m\u001b[1;33m:\u001b[0m \u001b[0mT\u001b[0m\u001b[1;33m)\u001b[0m \u001b[1;33m->\u001b[0m \u001b[0mT\u001b[0m\u001b[1;33m:\u001b[0m\u001b[1;33m\u001b[0m\u001b[1;33m\u001b[0m\u001b[0m\n",
      "\u001b[1;32m~\\miniconda3\\lib\\site-packages\\torch\\nn\\modules\\module.py\u001b[0m in \u001b[0;36m_apply\u001b[1;34m(self, fn)\u001b[0m\n\u001b[0;32m    352\u001b[0m     \u001b[1;32mdef\u001b[0m \u001b[0m_apply\u001b[0m\u001b[1;33m(\u001b[0m\u001b[0mself\u001b[0m\u001b[1;33m,\u001b[0m \u001b[0mfn\u001b[0m\u001b[1;33m)\u001b[0m\u001b[1;33m:\u001b[0m\u001b[1;33m\u001b[0m\u001b[1;33m\u001b[0m\u001b[0m\n\u001b[0;32m    353\u001b[0m         \u001b[1;32mfor\u001b[0m \u001b[0mmodule\u001b[0m \u001b[1;32min\u001b[0m \u001b[0mself\u001b[0m\u001b[1;33m.\u001b[0m\u001b[0mchildren\u001b[0m\u001b[1;33m(\u001b[0m\u001b[1;33m)\u001b[0m\u001b[1;33m:\u001b[0m\u001b[1;33m\u001b[0m\u001b[1;33m\u001b[0m\u001b[0m\n\u001b[1;32m--> 354\u001b[1;33m             \u001b[0mmodule\u001b[0m\u001b[1;33m.\u001b[0m\u001b[0m_apply\u001b[0m\u001b[1;33m(\u001b[0m\u001b[0mfn\u001b[0m\u001b[1;33m)\u001b[0m\u001b[1;33m\u001b[0m\u001b[1;33m\u001b[0m\u001b[0m\n\u001b[0m\u001b[0;32m    355\u001b[0m \u001b[1;33m\u001b[0m\u001b[0m\n\u001b[0;32m    356\u001b[0m         \u001b[1;32mdef\u001b[0m \u001b[0mcompute_should_use_set_data\u001b[0m\u001b[1;33m(\u001b[0m\u001b[0mtensor\u001b[0m\u001b[1;33m,\u001b[0m \u001b[0mtensor_applied\u001b[0m\u001b[1;33m)\u001b[0m\u001b[1;33m:\u001b[0m\u001b[1;33m\u001b[0m\u001b[1;33m\u001b[0m\u001b[0m\n",
      "\u001b[1;32m~\\miniconda3\\lib\\site-packages\\torch\\nn\\modules\\module.py\u001b[0m in \u001b[0;36m_apply\u001b[1;34m(self, fn)\u001b[0m\n\u001b[0;32m    374\u001b[0m                 \u001b[1;31m# `with torch.no_grad():`\u001b[0m\u001b[1;33m\u001b[0m\u001b[1;33m\u001b[0m\u001b[1;33m\u001b[0m\u001b[0m\n\u001b[0;32m    375\u001b[0m                 \u001b[1;32mwith\u001b[0m \u001b[0mtorch\u001b[0m\u001b[1;33m.\u001b[0m\u001b[0mno_grad\u001b[0m\u001b[1;33m(\u001b[0m\u001b[1;33m)\u001b[0m\u001b[1;33m:\u001b[0m\u001b[1;33m\u001b[0m\u001b[1;33m\u001b[0m\u001b[0m\n\u001b[1;32m--> 376\u001b[1;33m                     \u001b[0mparam_applied\u001b[0m \u001b[1;33m=\u001b[0m \u001b[0mfn\u001b[0m\u001b[1;33m(\u001b[0m\u001b[0mparam\u001b[0m\u001b[1;33m)\u001b[0m\u001b[1;33m\u001b[0m\u001b[1;33m\u001b[0m\u001b[0m\n\u001b[0m\u001b[0;32m    377\u001b[0m                 \u001b[0mshould_use_set_data\u001b[0m \u001b[1;33m=\u001b[0m \u001b[0mcompute_should_use_set_data\u001b[0m\u001b[1;33m(\u001b[0m\u001b[0mparam\u001b[0m\u001b[1;33m,\u001b[0m \u001b[0mparam_applied\u001b[0m\u001b[1;33m)\u001b[0m\u001b[1;33m\u001b[0m\u001b[1;33m\u001b[0m\u001b[0m\n\u001b[0;32m    378\u001b[0m                 \u001b[1;32mif\u001b[0m \u001b[0mshould_use_set_data\u001b[0m\u001b[1;33m:\u001b[0m\u001b[1;33m\u001b[0m\u001b[1;33m\u001b[0m\u001b[0m\n",
      "\u001b[1;32m~\\miniconda3\\lib\\site-packages\\torch\\nn\\modules\\module.py\u001b[0m in \u001b[0;36m<lambda>\u001b[1;34m(t)\u001b[0m\n\u001b[0;32m    456\u001b[0m             \u001b[0mModule\u001b[0m\u001b[1;33m:\u001b[0m \u001b[0mself\u001b[0m\u001b[1;33m\u001b[0m\u001b[1;33m\u001b[0m\u001b[0m\n\u001b[0;32m    457\u001b[0m         \"\"\"\n\u001b[1;32m--> 458\u001b[1;33m         \u001b[1;32mreturn\u001b[0m \u001b[0mself\u001b[0m\u001b[1;33m.\u001b[0m\u001b[0m_apply\u001b[0m\u001b[1;33m(\u001b[0m\u001b[1;32mlambda\u001b[0m \u001b[0mt\u001b[0m\u001b[1;33m:\u001b[0m \u001b[0mt\u001b[0m\u001b[1;33m.\u001b[0m\u001b[0mcuda\u001b[0m\u001b[1;33m(\u001b[0m\u001b[0mdevice\u001b[0m\u001b[1;33m)\u001b[0m\u001b[1;33m)\u001b[0m\u001b[1;33m\u001b[0m\u001b[1;33m\u001b[0m\u001b[0m\n\u001b[0m\u001b[0;32m    459\u001b[0m \u001b[1;33m\u001b[0m\u001b[0m\n\u001b[0;32m    460\u001b[0m     \u001b[1;32mdef\u001b[0m \u001b[0mcpu\u001b[0m\u001b[1;33m(\u001b[0m\u001b[0mself\u001b[0m\u001b[1;33m:\u001b[0m \u001b[0mT\u001b[0m\u001b[1;33m)\u001b[0m \u001b[1;33m->\u001b[0m \u001b[0mT\u001b[0m\u001b[1;33m:\u001b[0m\u001b[1;33m\u001b[0m\u001b[1;33m\u001b[0m\u001b[0m\n",
      "\u001b[1;31mRuntimeError\u001b[0m: CUDA error: an illegal memory access was encountered"
     ]
    }
   ],
   "source": [
    "\n",
    "\n",
    "from markipy.nn.commons import get_conv2d_block\n",
    "oc = 5\n",
    "\n",
    "n_sampled = x.shape[0]\n",
    "\n",
    "cv1 = get_conv2d_block(1, oc, ks=5, normalize=False, activation=nn.LeakyReLU(0.2)).cuda()\n",
    "m = nn.Upsample(scale_factor=1.2, mode='bilinear').cuda()\n",
    "f = nn.Flatten(2).cuda()\n",
    "\n",
    "x = real        ;print('Input  \\t\\t', x.shape)\n",
    "x = m(x)        ;print('Upsampled  \\t\\t', x.shape)\n",
    "x = cv1(x)      ;print('Conv2d  \\t\\t', x.shape)\n",
    "x = f(x)        ;print('Flatten  \\t\\t', x.shape)\n",
    "\n",
    "\n",
    "Ln = [nn.Linear(1089, 800) for n in range(oc)]\n",
    "Xn = torch.zeros(n_sample, oc, 800) # Pilars\n",
    "\n",
    "\n",
    "for xi in range(oc):\n",
    "    \n",
    "    Xn[:xi] = Ln[xi](x[:,:1].view(n_sampled,1089))         ; print(f'Linear {xi + 1} \\t\\t', Xn[xi])\n",
    "\n",
    "\n",
    "\n",
    "\n"
   ]
  },
  {
   "cell_type": "code",
   "execution_count": 56,
   "metadata": {},
   "outputs": [],
   "source": [
    "f = nn.Flatten(2)\n"
   ]
  },
  {
   "cell_type": "code",
   "execution_count": 59,
   "metadata": {},
   "outputs": [
    {
     "output_type": "execute_result",
     "data": {
      "text/plain": [
       "torch.Size([32, 5, 1089])"
      ]
     },
     "metadata": {},
     "execution_count": 59
    }
   ],
   "source": [
    "f(t2).shape"
   ]
  },
  {
   "cell_type": "code",
   "execution_count": 69,
   "metadata": {},
   "outputs": [
    {
     "output_type": "execute_result",
     "data": {
      "text/plain": [
       "torch.Size([32, 5, 1089])"
      ]
     },
     "metadata": {},
     "execution_count": 69
    }
   ],
   "source": [
    "x.shape"
   ]
  },
  {
   "cell_type": "code",
   "execution_count": 78,
   "metadata": {},
   "outputs": [
    {
     "output_type": "execute_result",
     "data": {
      "text/plain": [
       "torch.Size([1, 1, 1089])"
      ]
     },
     "metadata": {},
     "execution_count": 78
    }
   ],
   "source": [
    "x[:1,:1].shape\n",
    "\n"
   ]
  },
  {
   "cell_type": "code",
   "execution_count": 81,
   "metadata": {},
   "outputs": [
    {
     "output_type": "execute_result",
     "data": {
      "text/plain": [
       "torch.Size([1, 1, 1089])"
      ]
     },
     "metadata": {},
     "execution_count": 81
    }
   ],
   "source": [
    "torch.zero_like(x[0:1,]).shape"
   ]
  },
  {
   "cell_type": "code",
   "execution_count": 92,
   "metadata": {},
   "outputs": [
    {
     "output_type": "execute_result",
     "data": {
      "text/plain": [
       "torch.Size([32, 1, 1089])"
      ]
     },
     "metadata": {},
     "execution_count": 92
    }
   ],
   "source": [
    "x[:,:1].shape"
   ]
  },
  {
   "cell_type": "code",
   "execution_count": 84,
   "metadata": {},
   "outputs": [
    {
     "output_type": "execute_result",
     "data": {
      "text/plain": [
       "tensor([0.1788, 0.1788, 0.1788,  ..., 0.1788, 0.1788, 0.1788], device='cuda:0',\n",
       "       grad_fn=<ViewBackward>)"
      ]
     },
     "metadata": {},
     "execution_count": 84
    }
   ],
   "source": [
    "x[:1,:1].reshape(1089)"
   ]
  },
  {
   "cell_type": "code",
   "execution_count": 99,
   "metadata": {},
   "outputs": [
    {
     "output_type": "execute_result",
     "data": {
      "text/plain": [
       "torch.Size([32, 1089])"
      ]
     },
     "metadata": {},
     "execution_count": 99
    }
   ],
   "source": [
    "x[:,:1].view(n_sampled,1089).shape"
   ]
  },
  {
   "cell_type": "code",
   "execution_count": 20,
   "metadata": {},
   "outputs": [
    {
     "output_type": "execute_result",
     "data": {
      "text/plain": [
       "torch.Size([1, 800])"
      ]
     },
     "metadata": {},
     "execution_count": 20
    }
   ],
   "source": [
    "t = torch.zeros(5,800)\n",
    "t[:1].shape"
   ]
  },
  {
   "cell_type": "code",
   "execution_count": null,
   "metadata": {},
   "outputs": [],
   "source": []
  }
 ],
 "metadata": {
  "kernelspec": {
   "display_name": "Python 3",
   "language": "python",
   "name": "python3"
  },
  "language_info": {
   "codemirror_mode": {
    "name": "ipython",
    "version": 3
   },
   "file_extension": ".py",
   "mimetype": "text/x-python",
   "name": "python",
   "nbconvert_exporter": "python",
   "pygments_lexer": "ipython3",
   "version": "3.8.3-final"
  }
 },
 "nbformat": 4,
 "nbformat_minor": 4
}