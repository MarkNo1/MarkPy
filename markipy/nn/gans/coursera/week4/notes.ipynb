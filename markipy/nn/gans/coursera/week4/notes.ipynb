{
 "cells": [
  {
   "cell_type": "markdown",
   "source": [
    "### Unconditional generation\n",
    "As a quick recap with unconditional generation, you get outputs from random classes. You can think of those as a gumball\n",
    "machine, where you input a coin and you get a random color gumball. If you want to gumball of a specific color, say red,\n",
    "you have to keep spinning coins until you get it. In this example, the coin is like the random noise vector that your GAN\n",
    "uses for generation and the gumball machine is like the generator. Then the gumballs are the random outputs, those images\n",
    "you get. You can see what color gumballs you might get, just like how you know what your GAN is trained on.\n",
    "You can't control what exact color of output you will get.\n"
   ],
   "metadata": {
    "collapsed": false,
    "pycharm": {
     "name": "#%% md\n"
    }
   }
  },
  {
   "cell_type": "markdown",
   "source": [
    "### Conditional generation\n",
    "On the other hand, conditional generation allows you to ask for an example from a specific class and you get what you ask for.\n",
    "It's like a vending machine. You input a coin similar to the gumball machine but you input a coin along with a code for an\n",
    "item that you want. For example, A2 for a red soda. But note that you still don't control certain features of the soda bottle.\n",
    "You can't get the one with the latest expiration date or the bottle that's least damaged or the one that's filled up the most,\n",
    "you just get a random red soda. But it is a red soda, not a blue candy bar. Here the coin and the code are the inputs for\n",
    "the GAN and the vending machine is the generator and the soda is the generated output. With a conditional GAN, you get a\n",
    "random example from the class you specify. That class is this A2 soda here.\n"
   ],
   "metadata": {
    "collapsed": false,
    "pycharm": {
     "name": "#%% md\n"
    }
   }
  },
  {
   "cell_type": "markdown",
   "source": [
    "### Conditional vs Unconditional generation\n",
    "\n",
    "<img src=\"images/condVSuncond.png\" width=420 height=200 />\n",
    "\n",
    "With conditional generation, you can get generated examples from the classes you decide while with unconditional generation,\n",
    "you get examples from a random class. As a result of that, with conditional generation, you actually have to train your\n",
    "GAN with labeled datasets and those labels are on the different classes you want while unconditional generation doesn't\n",
    "need any labels. You've seen this in previous weeks from the course, that you don't need any labels you just need a pile\n",
    "of real examples. You see how to modify your model for this conditional generation in the following lectures.\n",
    "What you should take away from this video is that conditional generation requires labeled datasets for training in\n",
    "order to learn how to produce examples from desired classes. Coming up, I'll show you how the labels from your dataset\n",
    "are fed to the generator and discriminator in order to train your GAN and produce examples from the desired class, like\n",
    "selecting the red soda from a vending machine.\n"
   ],
   "metadata": {
    "collapsed": false,
    "pycharm": {
     "name": "#%% md\n"
    }
   }
  },
  {
   "cell_type": "markdown",
   "source": [
    "### Conditional generation - INPUT\n",
    "You've seen already with unconditional generation, the generator needs a noise vector to produce random examples.\n",
    "For conditional generation, you also need a vector to tell the generator from which class the generated examples should come from.\n",
    "Usually this is a one-hot vector\n",
    "\n",
    "<img src=\"images/cond-input.png\" width=420 height=200 />\n",
    "\n",
    "There's one-hot vector is now what lets you control what class to generate. The input to the generator in a conditional\n",
    "GAN is actually a concatenated vector of both the noise and the one-hot class information.\n",
    "\n",
    "\n",
    "<img src=\"images/cond-input-1.png\" width=420 height=200 />"
   ],
   "metadata": {
    "collapsed": false,
    "pycharm": {
     "name": "#%% md\n"
    }
   }
  },
  {
   "cell_type": "markdown",
   "source": [
    "So it's one huge vector. For example, with a class vector here representing a husky breed, the generator will ideally\n",
    "produce a husky dogs from one noise vector. But if you change that noise vector, it should produce a different husky dog;\n",
    "while the class information stays the same. Well, that's actually because the discriminator will also be given this class\n",
    "information. The generator, needs to fool the discriminator; so you'll see how this happens.\n",
    "\n",
    "\n"
   ],
   "metadata": {
    "collapsed": false,
    "pycharm": {
     "name": "#%% md\n"
    }
   }
  },
  {
   "cell_type": "markdown",
   "source": [
    "### Discriminator - Input\n",
    "\n",
    "The discriminator in a similar way will take the examples, but now they're paired with the class information as input\n",
    "to determine if the examples are either real or fake representations of that particular class; and that's what's key here.\n",
    "For example, with this class of golden retriever, but in image of a beagle dogs.\n",
    "\n",
    "<img src=\"images/cond-input-2.png\" width=420 height=200 />\n",
    "\n",
    "So not a golden retriever being fed in. This discriminated arches actually say this is fake because that is not a real\n",
    "looking golden retriever, even though it's a very real looking image of a beagle.\n",
    "\n",
    "This is just 5 percent real is what it's going to say. As a result, for the discriminator to predict that an example is\n",
    "real, it needs to look like the examples from that class in the training data set. The training data-set is key here\n",
    "because it'll get these real labels next to it.\n",
    "\n",
    "\n",
    "Digging a little bit deeper, the input to the discriminator is an image. How do you go about adding that class information?\n",
    "Well, the image is fed in as three different channels,RGB, red, green, blue, or just one channel if it's a gray-scale image.\n",
    "\n",
    "<img src=\"images/cond-input-3.png\" width=420 height=200 />\n",
    "\n",
    "o that's this image component. Then the one-hot class information could also be fed in as additional channels where all\n",
    "the channels take on values of all zeros; so all these white blocks of the same height and width as the image take on\n",
    "values of all zeros. Whereas this black one here will take on values of ones. In contrast to that one-hot vector,\n",
    "these are typically much larger matrices where each channel is full of zeros at every position where it's not that class.\n",
    "There are many other less space consuming ways of doing this, like compressing this information in another format.\n",
    "\n",
    "###### Better approach\n",
    "Here are many other less space consuming ways of doing this, like compressing this information in another format.\n",
    "You can even create a separate neural network head to do that for you, which would be prudent if you had many different classes."
   ],
   "metadata": {
    "collapsed": false,
    "pycharm": {
     "name": "#%% md\n"
    }
   }
  },
  {
   "cell_type": "markdown",
   "source": [
    "#### Summary\n",
    "\n",
    "<img src=\"images/cond-input-4.png\" width=420 height=200 />\n",
    "\n",
    "To sum up in conditional generation, you pass the class information to both models. To the generator it's typically a\n",
    "one-hot vector concatenated with your noise vector to the discriminator when the desired output of the GANs are images,\n",
    "it's one-hot matrices representing the channels. The size of the class vector and the number of extra channels for the\n",
    "class information is just the same as the number of classes you'll be turning on."
   ],
   "metadata": {
    "collapsed": false,
    "pycharm": {
     "name": "#%% md\n"
    }
   }
  }
 ],
 "metadata": {
  "kernelspec": {
   "display_name": "Python 3",
   "language": "python",
   "name": "python3"
  },
  "language_info": {
   "codemirror_mode": {
    "name": "ipython",
    "version": 2
   },
   "file_extension": ".py",
   "mimetype": "text/x-python",
   "name": "python",
   "nbconvert_exporter": "python",
   "pygments_lexer": "ipython2",
   "version": "2.7.6"
  }
 },
 "nbformat": 4,
 "nbformat_minor": 0
}