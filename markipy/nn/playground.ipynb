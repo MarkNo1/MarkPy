{
 "cells": [
  {
   "cell_type": "markdown",
   "metadata": {},
   "source": [
    "##### Expand View\n"
   ]
  },
  {
   "cell_type": "code",
   "execution_count": 1,
   "metadata": {},
   "outputs": [
    {
     "data": {
      "text/html": [
       "<style>.container { width:88% !important; }</style>"
      ],
      "text/plain": [
       "<IPython.core.display.HTML object>"
      ]
     },
     "metadata": {},
     "output_type": "display_data"
    }
   ],
   "source": [
    "from IPython.core.display import display, HTML\n",
    "display(HTML(\"<style>.container { width:88% !important; }</style>\"))"
   ]
  },
  {
   "cell_type": "code",
   "execution_count": 1,
   "metadata": {},
   "outputs": [
    {
     "name": "stdout",
     "output_type": "stream",
     "text": [
      "Tensorboard Logs path: runs/Playground_0.1.2020.11.15#0, localhost:6006\n"
     ]
    }
   ],
   "source": [
    "# Exploring MNIST Gans\n",
    "\n",
    "import torch\n",
    "from torch import nn\n",
    "from tqdm.auto import tqdm\n",
    "from torchvision import transforms\n",
    "from torchvision.datasets import MNIST  # Training dataset\n",
    "from torchvision.utils import make_grid\n",
    "from torch.utils.data import DataLoader\n",
    "from torch.utils.tensorboard import SummaryWriter\n",
    "from pathlib import Path\n",
    "\n",
    "# default `log_dir` is \"runs\" - we'll be more specific here\n",
    "writer = SummaryWriter('runs/mnist_01')\n",
    "\n",
    "import matplotlib.pyplot as plt\n",
    "# import wandb\n",
    "\n",
    "from markipy.nn.gans.generator import get_gen_loss, Generator\n",
    "from markipy.nn.gans.discriminator import get_disc_loss, Discriminator\n",
    "from markipy.nn.commons import show_tensor_images, make_noise\n",
    "from markipy.basic import date\n",
    "\n",
    "\n",
    "torch.manual_seed(0)  # Set for testing purposes, please do not change!\n",
    "\n",
    "\n",
    "PROJECT=\"Playground\"\n",
    "VERSIONE=\"0.1\"\n",
    "RUN=\"0\"\n",
    "\n",
    "\n",
    "LOG_PATH=f'runs/{PROJECT}_{VERSIONE}.{date()}#{RUN}'\n",
    "\n",
    "# Tensorboard\n",
    "writer = SummaryWriter(LOG_PATH)\n",
    "\n",
    "\n",
    "print(f\"Tensorboard Logs path: {LOG_PATH}, localhost:6006\")"
   ]
  },
  {
   "cell_type": "markdown",
   "metadata": {},
   "source": [
    "## Torch PlayGround"
   ]
  },
  {
   "cell_type": "code",
   "execution_count": 2,
   "metadata": {},
   "outputs": [
    {
     "data": {
      "text/plain": [
       "torch.Size([32, 1, 28, 28])"
      ]
     },
     "execution_count": 2,
     "metadata": {},
     "output_type": "execute_result"
    }
   ],
   "source": [
    "batch_size = 32\n",
    "ic = 1\n",
    "iw = 28 \n",
    "ih = 28\n",
    "\n",
    "\n",
    "X = torch.randn(batch_size, ic,  iw, ih).cpu()\n",
    "X.shape"
   ]
  },
  {
   "cell_type": "code",
   "execution_count": 38,
   "metadata": {},
   "outputs": [
    {
     "name": "stdout",
     "output_type": "stream",
     "text": [
      "Input  \t\t torch.Size([32, 1, 28, 28])\n",
      "Upsampled  \t\t torch.Size([32, 1, 33, 33])\n",
      "Conv2d  \t\t torch.Size([32, 5, 33, 33])\n",
      "Flatten  \t\t torch.Size([32, 5, 1089])\n",
      "Pilars n5 \t\t torch.Size([32, 5, 10])\n",
      "Linear 1 \t\t torch.Size([32, 10])\n",
      "Linear 2 \t\t torch.Size([32, 10])\n",
      "Linear 3 \t\t torch.Size([32, 10])\n",
      "Linear 4 \t\t torch.Size([32, 10])\n",
      "Linear 5 \t\t torch.Size([32, 10])\n",
      "Lstm \t\t\t torch.Size([5, 32, 20]) | Plus h:torch.Size([2, 32, 10]) c:torch.Size([2, 32, 10])\n",
      "Permeute \t\t torch.Size([32, 5, 20])\n",
      "Flatten \t\t\t torch.Size([3200])\n",
      "View \t\t\t torch.Size([32, 1, 10, 10])\n",
      "Conv2d  \t\t torch.Size([32, 1, 12, 12])\n",
      "Conv2d  \t\t torch.Size([32, 1, 14, 14])\n",
      "Conv2d  \t\t torch.Size([32, 1, 16, 16])\n",
      "Conv2d  \t\t torch.Size([32, 1, 18, 18])\n",
      "Conv2d  \t\t torch.Size([32, 1, 20, 20])\n",
      "Conv2d  \t\t torch.Size([32, 1, 22, 22])\n",
      "Conv2d  \t\t torch.Size([32, 1, 24, 24])\n",
      "Conv2d  \t\t torch.Size([32, 1, 26, 26])\n",
      "Conv2d  \t\t torch.Size([32, 1, 28, 28])\n"
     ]
    }
   ],
   "source": [
    "\n",
    "from markipy.nn.commons import get_conv2d_block\n",
    "\n",
    "n_sampled = X.shape[0]\n",
    "oc = 5\n",
    "\n",
    "\n",
    "cv1 = get_conv2d_block(ic, oc, ks=5, normalize=True, activation=nn.LeakyReLU(0.2))\n",
    "m = nn.Upsample(scale_factor=1.2, mode='bilinear')\n",
    "f = nn.Flatten(2)\n",
    "\n",
    "x = X           ;print('Input  \\t\\t', x.shape)\n",
    "x = m(x)        ;print('Upsampled  \\t\\t', x.shape)\n",
    "x = cv1(x)      ;print('Conv2d  \\t\\t', x.shape)\n",
    "x = f(x)        ;print('Flatten  \\t\\t', x.shape)\n",
    "\n",
    "\n",
    "l_hidden = 10\n",
    "Ln = [nn.Linear(1089, l_hidden) for n in range(oc)]\n",
    "Xn = torch.zeros(n_sampled, oc, l_hidden)                   ;print(f'Pilars n{oc} \\t\\t', Xn.shape)\n",
    "\n",
    "\n",
    "bidirectional = 2\n",
    "ls_hidden = 10\n",
    "h0 = torch.ones( bidirectional, n_sampled, l_hidden ) * 0.5\n",
    "c0 = torch.ones( bidirectional, n_sampled, l_hidden ) * 0.5\n",
    "lstm = nn.LSTM(l_hidden, ls_hidden ,1, dropout=0.88, bidirectional=True)   # Input (seq_len, batch, input_size)\n",
    "\n",
    "ap2 = nn.AvgPool2d(2, stride=2)\n",
    "\n",
    "cv2 = get_conv2d_block(1, 1, ks=3, p=2, normalize=False, activation=nn.LeakyReLU(0.2))\n",
    "\n",
    "cv3 = get_conv2d_block(1, 1, ks=3, p=2, normalize=False, activation=nn.LeakyReLU(0.2))\n",
    "\n",
    "cv4 = get_conv2d_block(1, 1, ks=3, p=2, normalize=False, activation=nn.LeakyReLU(0.2))\n",
    "\n",
    "cv5 = get_conv2d_block(1, 1, ks=3, p=2, normalize=False, activation=nn.LeakyReLU(0.2))\n",
    "\n",
    "cv6 = get_conv2d_block(1, 1, ks=3, p=2, normalize=False, activation=nn.LeakyReLU(0.2))\n",
    "\n",
    "cv7 = get_conv2d_block(1, 1, ks=3, p=2, normalize=False, activation=nn.LeakyReLU(0.2))\n",
    "\n",
    "cv8 = get_conv2d_block(1, 1, ks=3, p=2, normalize=False, activation=nn.LeakyReLU(0.2))\n",
    "\n",
    "cv9 = get_conv2d_block(1, 1, ks=3, p=2, normalize=False, activation=nn.LeakyReLU(0.2))\n",
    "\n",
    "cv10 = get_conv2d_block(1, 1, ks=3, p=2, normalize=False, activation=nn.LeakyReLU(0.2))\n",
    "\n",
    "cv11 = get_conv2d_block(1, 1, ks=3, p=2, normalize=False, activation=nn.LeakyReLU(0.2))\n",
    "\n",
    "for xi in range( oc ):\n",
    "\n",
    "    Xn[: , xi , :] = Ln[xi](x[:,:1].view(n_sampled,1089))       ;print(f'Linear {xi + 1} \\t\\t', Xn[: , xi , :].shape)\n",
    "\n",
    "x , (hn, cn) = lstm (Xn.permute(1,0,2), (h0,c0))           ;print(f'Lstm \\t\\t\\t {x.shape} | Plus h:{hn.shape} c:{c0.shape}',)\n",
    "\n",
    "x = x.permute(1,0,2)                               ;print(f'Permeute \\t\\t {x.shape}',)\n",
    "\n",
    "# x = ap2(x)                                    ;print(f'AvgPool2d \\t\\t {x.shape}',)\n",
    "\n",
    "x = x.flatten(0)                              ;print(f'Flatten \\t\\t\\t {x.shape}',)\n",
    "\n",
    "x = x.view( n_sampled , 1,  10, 10)        ;print(f'View \\t\\t\\t {x.shape}',)\n",
    "\n",
    "x = cv2(x)                             ;print('Conv2d  \\t\\t', x.shape)\n",
    "\n",
    "x = cv3(x)                        ;print('Conv2d  \\t\\t', x.shape)\n",
    "\n",
    "x = cv4(x)                        ;print('Conv2d  \\t\\t', x.shape)\n",
    "\n",
    "x = cv5(x)                        ;print('Conv2d  \\t\\t', x.shape)\n",
    "\n",
    "x = cv6(x)                        ;print('Conv2d  \\t\\t', x.shape)\n",
    "\n",
    "x = cv7(x)                        ;print('Conv2d  \\t\\t', x.shape)\n",
    "\n",
    "x = cv8(x)                        ;print('Conv2d  \\t\\t', x.shape)\n",
    "\n",
    "x = cv9(x)                        ;print('Conv2d  \\t\\t', x.shape)\n",
    "\n",
    "x = cv10(x)                        ;print('Conv2d  \\t\\t', x.shape)"
   ]
  },
  {
   "cell_type": "code",
   "execution_count": 39,
   "metadata": {},
   "outputs": [
    {
     "name": "stdout",
     "output_type": "stream",
     "text": [
      "torch.Size([32, 1, 28, 28])\n"
     ]
    }
   ],
   "source": [
    "print(x.shape)\n",
    "\n",
    "device = 'cpu'\n",
    "n_sample = 1\n",
    "noise_c = 1\n",
    "noise_w = noise_b = 28\n",
    "noise = make_noise(n_sample, (noise_c, noise_w, noise_b), device=device)\n",
    "\n"
   ]
  },
  {
   "cell_type": "code",
   "execution_count": 42,
   "metadata": {},
   "outputs": [
    {
     "name": "stdout",
     "output_type": "stream",
     "text": [
      "torch.Size([5, 32, 20]) torch.Size([2, 32, 10]) torch.Size([2, 32, 10]) torch.Size([2, 32, 10]) torch.Size([2, 32, 10])\n"
     ]
    }
   ],
   "source": [
    "xl , (hn, cn) = lstm (Xn.permute(1,0,2), (h0,c0))\n",
    "\n",
    "print(xl.shape, hn.shape, cn.shape, h0.shape, c0.shape)"
   ]
  },
  {
   "cell_type": "code",
   "execution_count": null,
   "metadata": {},
   "outputs": [],
   "source": [
    "avg_p = nn.AvgPool2d(2, stride=2)"
   ]
  },
  {
   "cell_type": "code",
   "execution_count": 119,
   "metadata": {},
   "outputs": [
    {
     "data": {
      "text/plain": [
       "torch.Size([32, 2, 400])"
      ]
     },
     "execution_count": 119,
     "metadata": {},
     "output_type": "execute_result"
    }
   ],
   "source": [
    "avg_p(xl).shape"
   ]
  },
  {
   "cell_type": "code",
   "execution_count": 139,
   "metadata": {},
   "outputs": [
    {
     "data": {
      "text/plain": [
       "torch.Size([32, 2, 400])"
      ]
     },
     "execution_count": 139,
     "metadata": {},
     "output_type": "execute_result"
    }
   ],
   "source": [
    "x.shape"
   ]
  },
  {
   "cell_type": "code",
   "execution_count": 149,
   "metadata": {},
   "outputs": [
    {
     "data": {
      "text/plain": [
       "torch.Size([32, 2, 20, 20])"
      ]
     },
     "execution_count": 149,
     "metadata": {},
     "output_type": "execute_result"
    }
   ],
   "source": [
    "x.view( 32, 2,  20, 20).shape"
   ]
  },
  {
   "cell_type": "code",
   "execution_count": 141,
   "metadata": {},
   "outputs": [
    {
     "data": {
      "text/plain": [
       "25600"
      ]
     },
     "execution_count": 141,
     "metadata": {},
     "output_type": "execute_result"
    }
   ],
   "source": [
    "800 * 32"
   ]
  },
  {
   "cell_type": "code",
   "execution_count": 146,
   "metadata": {},
   "outputs": [
    {
     "data": {
      "text/plain": [
       "784"
      ]
     },
     "execution_count": 146,
     "metadata": {},
     "output_type": "execute_result"
    }
   ],
   "source": [
    "28 * 28"
   ]
  },
  {
   "cell_type": "code",
   "execution_count": null,
   "metadata": {},
   "outputs": [],
   "source": []
  }
 ],
 "metadata": {
  "kernelspec": {
   "display_name": "Python 3",
   "language": "python",
   "name": "python3"
  },
  "language_info": {
   "codemirror_mode": {
    "name": "ipython",
    "version": 3
   },
   "file_extension": ".py",
   "mimetype": "text/x-python",
   "name": "python",
   "nbconvert_exporter": "python",
   "pygments_lexer": "ipython3",
   "version": "3.8.6"
  }
 },
 "nbformat": 4,
 "nbformat_minor": 4
}
