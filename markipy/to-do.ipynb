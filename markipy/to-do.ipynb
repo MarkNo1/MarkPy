{
 "cells": [
  {
   "cell_type": "markdown",
   "metadata": {
    "collapsed": true,
    "pycharm": {
     "name": "#%% md\n"
    }
   },
   "source": [
    "# To - Do\n",
    "Here some to-do reminders:\n"
   ]
  },
  {
   "cell_type": "markdown",
   "metadata": {
    "pycharm": {
     "name": "#%% md\n"
    }
   },
   "source": [
    "<details open>\n",
    "<summary> To-Do </summary>\n",
    "<br>\n",
    "\n",
    "\n",
    "| Module | Component |  Bref | Description | created  | done |\n",
    "|---|---|---|---|---|---|\n",
    "| **basic** | *unittest* | **common-lib** |   Add common lib to unittest and import in each test. | 17/12/2020 | 17/12/2020 &#9745; |\n",
    "| **basic** | *unittest* | **common-lib** |   Add common code to reduce the duplication of code. | 17/12/2020 | &#9744; |\n",
    "| **basic** | *unittest* | **markipy-unitest.py** |  Perform all the unittest dynamically and write the result in a html page | 17/12/2020 | 17/12/2020 &#9745; |\n",
    "\n",
    "</details>\n",
    "\n",
    "\n"
   ]
  }
 ],
 "metadata": {
  "kernelspec": {
   "display_name": "Python 3",
   "language": "python",
   "name": "python3"
  },
  "language_info": {
   "codemirror_mode": {
    "name": "ipython",
    "version": 3
   },
   "file_extension": ".py",
   "mimetype": "text/x-python",
   "name": "python",
   "nbconvert_exporter": "python",
   "pygments_lexer": "ipython3",
   "version": "3.8.6"
  }
 },
 "nbformat": 4,
 "nbformat_minor": 1
}